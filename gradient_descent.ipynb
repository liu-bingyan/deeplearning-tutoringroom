{
 "cells": [
  {
   "cell_type": "code",
   "execution_count": 1,
   "metadata": {},
   "outputs": [],
   "source": [
    "import numpy as np\n",
    "import matplotlib.pyplot as plt\n",
    "\n",
    "n =  10000\n",
    "eps  = 0.1\n",
    "x = np.random.randn(n,2)\n",
    "w = np.random.randn(2)\n",
    "y = np.dot(x,w) + eps * np.random.randn(n)"
   ]
  },
  {
   "cell_type": "code",
   "execution_count": 2,
   "metadata": {},
   "outputs": [],
   "source": [
    "w_hat = np.zeros(2)\n",
    "\n",
    "def pred(x,w_hat):\n",
    "    return np.dot(x,w_hat)\n",
    "def loss(w_hat):\n",
    "    return np.mean((y-pred(x,w_hat))**2)"
   ]
  },
  {
   "cell_type": "code",
   "execution_count": 3,
   "metadata": {},
   "outputs": [],
   "source": [
    "epochs = 10\n",
    "batch_size = 100\n",
    "lr = 0.01\n",
    "\n",
    "\n",
    "def train(w_hat, update):\n",
    "    para_history = []\n",
    "    loss_history = []\n",
    "\n",
    "    para_history.append(w_hat)\n",
    "    loss_history.append(loss(w_hat))\n",
    "    for i in epochs:\n",
    "        w_hat = update(w_hat)\n",
    "    return para_history, loss_history\n",
    "\n",
    "\n",
    "\n",
    "def grad(w_hat,idx=range(x.shape[0])):\n",
    "    return np.dot(x[idx,:].T, pred(x[idx,:],w_hat)-y[idx])/len(idx)\n",
    "def gradient_descent(w_hat):\n",
    "    return w_hat - lr * grad(w_hat)\n",
    "def mini_batch_gradient_descent(w_hat):\n",
    "    shuffle = np.random.permutation(n)\n",
    "    for i in range(0,n,batch_size):\n",
    "        idx = shuffle[i:i+batch_size]\n",
    "        w_hat - lr * grad(idx,w_hat)\n",
    "    return w_hat\n",
    "def stochastic_gradient_descent(w_hat):\n",
    "    shuffle = np.random.permutation(n)\n",
    "    for i in shuffle:\n",
    "        w_hat - lr * grad(i,w_hat)\n",
    "    return w_hat"
   ]
  },
  {
   "cell_type": "code",
   "execution_count": 5,
   "metadata": {},
   "outputs": [
    {
     "data": {
      "text/plain": [
       "array([-0.6734998 ,  0.00537482])"
      ]
     },
     "execution_count": 5,
     "metadata": {},
     "output_type": "execute_result"
    }
   ],
   "source": [
    "grad(w_hat)"
   ]
  },
  {
   "cell_type": "code",
   "execution_count": null,
   "metadata": {},
   "outputs": [],
   "source": []
  },
  {
   "cell_type": "code",
   "execution_count": null,
   "metadata": {},
   "outputs": [],
   "source": []
  }
 ],
 "metadata": {
  "kernelspec": {
   "display_name": "Python 3",
   "language": "python",
   "name": "python3"
  },
  "language_info": {
   "codemirror_mode": {
    "name": "ipython",
    "version": 3
   },
   "file_extension": ".py",
   "mimetype": "text/x-python",
   "name": "python",
   "nbconvert_exporter": "python",
   "pygments_lexer": "ipython3",
   "version": "3.12.0"
  }
 },
 "nbformat": 4,
 "nbformat_minor": 2
}
