{
 "cells": [
  {
   "cell_type": "markdown",
   "id": "5d03aeca",
   "metadata": {},
   "source": [
    "Before you turn this problem in, make sure everything runs as expected. First, **restart the kernel** (in the menubar, select Kernel$\\rightarrow$Restart) and then **run all cells** (in the menubar, select Cell$\\rightarrow$Run All).\n",
    "\n",
    "Make sure you fill in any place that says `YOUR CODE HERE` or \"YOUR ANSWER HERE\", as well as your name and collaborators below:"
   ]
  },
  {
   "cell_type": "code",
   "execution_count": 3,
   "id": "ca1a225d",
   "metadata": {},
   "outputs": [],
   "source": [
    "NAME = \"Bingyan Liu\""
   ]
  },
  {
   "cell_type": "markdown",
   "id": "cd4909bb",
   "metadata": {},
   "source": [
    "---"
   ]
  },
  {
   "cell_type": "code",
   "execution_count": 4,
   "id": "76a90587-77b6-4eb7-9df3-6f1aa94d4b7a",
   "metadata": {
    "deletable": false,
    "editable": false,
    "nbgrader": {
     "cell_type": "code",
     "checksum": "ad6706f42f82e80240e89d29a42bc970",
     "grade": false,
     "grade_id": "cell-f2d41acb0d1b9f1f",
     "locked": true,
     "schema_version": 3,
     "solution": false,
     "task": false
    }
   },
   "outputs": [],
   "source": [
    "# Import packages and define common functions. Do not modify.\n",
    "import os\n",
    "import numpy as np\n",
    "import random\n",
    "from tqdm.auto import tqdm\n",
    "\n",
    "import torch\n",
    "import torch.nn as nn\n",
    "import torch.nn.functional as F\n",
    "\n",
    "from torchvision import datasets, transforms\n",
    "from torchvision.utils import make_grid , save_image\n",
    "\n",
    "import torch.optim as optim\n",
    "\n",
    "%matplotlib inline\n",
    "import matplotlib.pyplot as plt\n",
    "\n",
    "def show_and_save(img, file_name):\n",
    "    \"\"\"Show and save the image.\n",
    "    Args:\n",
    "        img (Tensor): The image.\n",
    "        file_name (Str): The destination.\n",
    "    \"\"\"\n",
    "    npimg = np.transpose(img.numpy(), (1, 2, 0))\n",
    "    f = \"./%s.png\" % file_name\n",
    "    plt.imshow(npimg, cmap='gray')\n",
    "    plt.show()\n",
    "    plt.imsave(f, npimg)\n",
    "\n",
    "def train(model, train_loader, n_epochs=20, lr=0.01):\n",
    "    \"\"\"Train a generative model.\n",
    "    Args:\n",
    "        model: The model.\n",
    "        train_loader (DataLoader): The data loader.\n",
    "        n_epochs (int, optional): The number of epochs. Defaults to 20.\n",
    "        lr (Float, optional): The learning rate. Defaults to 0.01.\n",
    "    Returns:\n",
    "        The trained model.\n",
    "    \"\"\"\n",
    "    train_op = optim.Adam(model.parameters(), lr)\n",
    "    model.train()\n",
    "    for epoch in tqdm(range(n_epochs)):\n",
    "        loss_ = []\n",
    "        for _, (data, target) in enumerate(train_loader):\n",
    "            loss = model.get_loss(data.view(-1, 784))\n",
    "            loss_.append(loss.item())\n",
    "            train_op.zero_grad()\n",
    "            loss.backward()\n",
    "            train_op.step()\n",
    "        print('Epoch %d\\t Loss=%.4f' % (epoch, np.mean(loss_)))\n",
    "    return model\n",
    "\n",
    "def train_vae2(model, train_loader, n_epochs=20, lr=0.01):\n",
    "    \"\"\"Train a generative model.\n",
    "    Args:\n",
    "        model: The model.\n",
    "        train_loader (DataLoader): The data loader.\n",
    "        n_epochs (int, optional): The number of epochs. Defaults to 20.\n",
    "        lr (Float, optional): The learning rate. Defaults to 0.01.\n",
    "    Returns:\n",
    "        The trained model.\n",
    "    \"\"\"\n",
    "    train_op = optim.Adam(model.parameters(), lr)\n",
    "    model.train()\n",
    "    for epoch in tqdm(range(n_epochs)):\n",
    "        loss_ = []\n",
    "        for _, (data, target) in enumerate(train_loader):\n",
    "            loss = model.get_loss(data)\n",
    "            loss_.append(loss.item())\n",
    "            train_op.zero_grad()\n",
    "            loss.backward()\n",
    "            train_op.step()\n",
    "        print('Epoch %d\\t Loss=%.4f' % (epoch, np.mean(loss_)))\n",
    "    return model\n",
    "\n",
    "seed = 2025\n",
    "torch.manual_seed(seed)\n",
    "np.random.seed(seed)\n",
    "random.seed(seed)"
   ]
  },
  {
   "cell_type": "markdown",
   "id": "adc417af-6fcd-4490-a295-41b3ed7e209a",
   "metadata": {},
   "source": [
    "# RBM"
   ]
  },
  {
   "cell_type": "code",
   "execution_count": 56,
   "id": "83c90b04-ad6a-4dd2-a5f8-39c453b677d0",
   "metadata": {
    "deletable": false,
    "nbgrader": {
     "cell_type": "code",
     "checksum": "e6895e4710197a262c6f1cde9fffb8c6",
     "grade": false,
     "grade_id": "cell-a115f9a5b84bea3d",
     "locked": false,
     "schema_version": 3,
     "solution": true,
     "task": false
    }
   },
   "outputs": [],
   "source": [
    "class RBM(nn.Module):\n",
    "    \"\"\"Restricted Boltzmann Machine.\n",
    "    Args:\n",
    "        n_vis (int, optional): The size of visible layer. Defaults to 784.\n",
    "        n_hid (int, optional): The size of hidden layer. Defaults to 128.\n",
    "        k (int, optional): The number of Gibbs sampling. Defaults to 1.\n",
    "    \"\"\"\n",
    "\n",
    "    def __init__(self, n_vis=784, n_hid=128, k=1):\n",
    "        \"\"\"Create a RBM.\"\"\"\n",
    "        super(RBM, self).__init__()\n",
    "        self.v = nn.Parameter(torch.randn(1, n_vis))\n",
    "        self.h = nn.Parameter(torch.randn(1, n_hid))\n",
    "        self.W = nn.Parameter(torch.randn(n_hid, n_vis))\n",
    "        self.k = k\n",
    "\n",
    "    def visible_to_hidden(self, v):\n",
    "        r\"\"\"Conditional sampling a hidden variable given a visible variable.\n",
    "        Args:\n",
    "            v (Tensor): The visible variable.\n",
    "        Returns:\n",
    "            Tensor: The hidden variable.\n",
    "        \"\"\"\n",
    "        p = torch.sigmoid(F.linear(v, self.W, self.h))\n",
    "        return p.bernoulli()\n",
    "\n",
    "    def hidden_to_visible(self, h):\n",
    "        r\"\"\"Conditional sampling a visible variable given a hidden variable.\n",
    "        Args:\n",
    "            h (Tendor): The hidden variable.\n",
    "        Returns:\n",
    "            Tensor: The visible variable.\n",
    "        \"\"\"\n",
    "        p = torch.sigmoid(F.linear(h, self.W.t(), self.v))\n",
    "        return p.bernoulli()\n",
    "\n",
    "    def free_energy(self, v, reduction='mean'):\n",
    "        r\"\"\"Free energy function.\n",
    "        .. math::\n",
    "            \\begin{align}\n",
    "                F(x) &= -\\log \\sum_h \\exp (-E(x, h)) \\\\\n",
    "                &= -a^\\top x - \\sum_j \\log (1 + \\exp(W^{\\top}_jx + b_j))\\,.\n",
    "            \\end{align}\n",
    "        Args:\n",
    "            v (Tensor): The visible variable.\n",
    "        Returns:\n",
    "            energy (FloatTensor): The free energy value.\n",
    "        \"\"\"\n",
    "        v_term = torch.matmul(v, self.v.t())\n",
    "        h_term = torch.sum(F.softplus(F.linear(v, self.W, self.h)), dim=-1, keepdim=True)\n",
    "        energy = -v_term - h_term\n",
    "        if reduction == 'none':\n",
    "            return energy.squeeze(-1)\n",
    "        elif reduction == 'mean':\n",
    "            return torch.mean(energy)\n",
    "\n",
    "    def forward(self, v):\n",
    "        r\"\"\"Compute the real and generated examples.\n",
    "        Args:\n",
    "            v (Tensor): The visible variable.\n",
    "        Returns:\n",
    "            (Tensor, Tensor): The real and generagted variables.\n",
    "        \"\"\"\n",
    "        for _ in range(self.k):\n",
    "            h = self.visible_to_hidden(v)\n",
    "            v_gibb = self.hidden_to_visible(h)\n",
    "        return v, v_gibb\n",
    "    \n",
    "    def get_loss(self, inputs):\n",
    "        r\"\"\"Compute the loss for training the model.\n",
    "        Args:\n",
    "            inputs (Tensor): The visible variable.\n",
    "        Returns:\n",
    "            Tensor: Loss.\n",
    "        \"\"\"\n",
    "        v, v_gibb = self.forward(inputs)\n",
    "        loss = self.free_energy(v) - self.free_energy(v_gibb)\n",
    "        return loss\n",
    "    \n",
    "    @torch.no_grad()\n",
    "    def pseudo_likelihood(self, v):\n",
    "        \"\"\"DO NOT MODIFY THIS FUNCTION\"\"\"\n",
    "        # Randomly corrupt one feature in each sample in v.\n",
    "        ind = (np.arange(v.shape[0]), np.random.randint(0, v.shape[1], v.shape[0]))\n",
    "        v_ = v.clone()\n",
    "        v_[ind] = 1 - v_[ind]\n",
    "        fe = self.free_energy(v, reduction='none')\n",
    "        fe_ = self.free_energy(v_, reduction='none')\n",
    "        m = torch.nn.LogSigmoid()\n",
    "        score = v.shape[1] * m(fe_ - fe)\n",
    "        return score\n"
   ]
  },
  {
   "cell_type": "code",
   "execution_count": 57,
   "id": "b57b770e-271b-426d-b37c-ce6811fe1bef",
   "metadata": {
    "deletable": false,
    "editable": false,
    "nbgrader": {
     "cell_type": "code",
     "checksum": "92d1054d49732842c237c434efbf37db",
     "grade": false,
     "grade_id": "cell-44279e0aa138e8ec",
     "locked": true,
     "schema_version": 3,
     "solution": false,
     "task": false
    }
   },
   "outputs": [],
   "source": [
    "# DO NOT MODIFY\n",
    "train_dataset = datasets.MNIST('./data',\n",
    "    train=True,\n",
    "    download = True,\n",
    "    transform = transforms.Compose(\n",
    "        [transforms.ToTensor(), lambda x: (x > 0).float()]\n",
    "    )\n",
    ")\n",
    "test_dataset = datasets.MNIST('./data',\n",
    "    train=False,\n",
    "    transform = transforms.Compose(\n",
    "        [transforms.ToTensor(), lambda x: (x > 0).float()]\n",
    "    )\n",
    ")\n",
    "\n",
    "batch_size = 128\n",
    "n_hid = 128\n",
    "n_vis = 784\n",
    "n_epochs = 20\n",
    "lr = 0.01\n",
    "rbm_ckpt_fn = 'model_rbm_seed2025.pt'\n",
    "\n",
    "train_loader = torch.utils.data.DataLoader(train_dataset, batch_size=batch_size)\n",
    "test_loader = torch.utils.data.DataLoader(test_dataset, batch_size=batch_size)"
   ]
  },
  {
   "cell_type": "code",
   "execution_count": 58,
   "id": "59a91a6e-6391-4169-8700-2124d8560c80",
   "metadata": {
    "deletable": false,
    "editable": false,
    "nbgrader": {
     "cell_type": "code",
     "checksum": "e83b312a3dc556a4e1992c3ff6c7702a",
     "grade": true,
     "grade_id": "rbm_test",
     "locked": true,
     "points": 15,
     "schema_version": 3,
     "solution": false,
     "task": false
    }
   },
   "outputs": [
    {
     "name": "stderr",
     "output_type": "stream",
     "text": [
      "  5%|▌         | 1/20 [00:16<05:15, 16.59s/it]"
     ]
    },
    {
     "name": "stdout",
     "output_type": "stream",
     "text": [
      "Epoch 0\t Loss=104.6853\n"
     ]
    },
    {
     "name": "stderr",
     "output_type": "stream",
     "text": [
      " 10%|█         | 2/20 [00:38<05:57, 19.89s/it]"
     ]
    },
    {
     "name": "stdout",
     "output_type": "stream",
     "text": [
      "Epoch 1\t Loss=10.1086\n"
     ]
    },
    {
     "name": "stderr",
     "output_type": "stream",
     "text": [
      " 15%|█▌        | 3/20 [00:56<05:24, 19.10s/it]"
     ]
    },
    {
     "name": "stdout",
     "output_type": "stream",
     "text": [
      "Epoch 2\t Loss=2.9786\n"
     ]
    },
    {
     "name": "stderr",
     "output_type": "stream",
     "text": [
      " 20%|██        | 4/20 [01:14<04:55, 18.46s/it]"
     ]
    },
    {
     "name": "stdout",
     "output_type": "stream",
     "text": [
      "Epoch 3\t Loss=1.3378\n"
     ]
    },
    {
     "name": "stderr",
     "output_type": "stream",
     "text": [
      " 25%|██▌       | 5/20 [01:30<04:22, 17.49s/it]"
     ]
    },
    {
     "name": "stdout",
     "output_type": "stream",
     "text": [
      "Epoch 4\t Loss=0.9642\n"
     ]
    },
    {
     "name": "stderr",
     "output_type": "stream",
     "text": [
      " 30%|███       | 6/20 [01:46<03:57, 16.95s/it]"
     ]
    },
    {
     "name": "stdout",
     "output_type": "stream",
     "text": [
      "Epoch 5\t Loss=0.8963\n"
     ]
    },
    {
     "name": "stderr",
     "output_type": "stream",
     "text": [
      " 35%|███▌      | 7/20 [02:02<03:37, 16.72s/it]"
     ]
    },
    {
     "name": "stdout",
     "output_type": "stream",
     "text": [
      "Epoch 6\t Loss=0.9015\n"
     ]
    },
    {
     "name": "stderr",
     "output_type": "stream",
     "text": [
      " 40%|████      | 8/20 [02:19<03:23, 16.98s/it]"
     ]
    },
    {
     "name": "stdout",
     "output_type": "stream",
     "text": [
      "Epoch 7\t Loss=1.0414\n"
     ]
    },
    {
     "name": "stderr",
     "output_type": "stream",
     "text": [
      " 45%|████▌     | 9/20 [02:36<03:06, 16.99s/it]"
     ]
    },
    {
     "name": "stdout",
     "output_type": "stream",
     "text": [
      "Epoch 8\t Loss=1.1221\n"
     ]
    },
    {
     "name": "stderr",
     "output_type": "stream",
     "text": [
      " 50%|█████     | 10/20 [02:53<02:49, 16.96s/it]"
     ]
    },
    {
     "name": "stdout",
     "output_type": "stream",
     "text": [
      "Epoch 9\t Loss=1.0500\n"
     ]
    },
    {
     "name": "stderr",
     "output_type": "stream",
     "text": [
      " 55%|█████▌    | 11/20 [03:11<02:36, 17.34s/it]"
     ]
    },
    {
     "name": "stdout",
     "output_type": "stream",
     "text": [
      "Epoch 10\t Loss=1.0466\n"
     ]
    },
    {
     "name": "stderr",
     "output_type": "stream",
     "text": [
      " 60%|██████    | 12/20 [03:29<02:18, 17.26s/it]"
     ]
    },
    {
     "name": "stdout",
     "output_type": "stream",
     "text": [
      "Epoch 11\t Loss=1.0582\n"
     ]
    },
    {
     "name": "stderr",
     "output_type": "stream",
     "text": [
      " 65%|██████▌   | 13/20 [03:48<02:05, 17.97s/it]"
     ]
    },
    {
     "name": "stdout",
     "output_type": "stream",
     "text": [
      "Epoch 12\t Loss=1.2363\n"
     ]
    },
    {
     "name": "stderr",
     "output_type": "stream",
     "text": [
      " 70%|███████   | 14/20 [04:06<01:47, 17.86s/it]"
     ]
    },
    {
     "name": "stdout",
     "output_type": "stream",
     "text": [
      "Epoch 13\t Loss=1.2388\n"
     ]
    },
    {
     "name": "stderr",
     "output_type": "stream",
     "text": [
      " 75%|███████▌  | 15/20 [04:26<01:32, 18.55s/it]"
     ]
    },
    {
     "name": "stdout",
     "output_type": "stream",
     "text": [
      "Epoch 14\t Loss=1.3676\n"
     ]
    },
    {
     "name": "stderr",
     "output_type": "stream",
     "text": [
      " 80%|████████  | 16/20 [04:44<01:13, 18.26s/it]"
     ]
    },
    {
     "name": "stdout",
     "output_type": "stream",
     "text": [
      "Epoch 15\t Loss=1.3907\n"
     ]
    },
    {
     "name": "stderr",
     "output_type": "stream",
     "text": [
      " 85%|████████▌ | 17/20 [05:01<00:54, 18.08s/it]"
     ]
    },
    {
     "name": "stdout",
     "output_type": "stream",
     "text": [
      "Epoch 16\t Loss=1.5372\n"
     ]
    },
    {
     "name": "stderr",
     "output_type": "stream",
     "text": [
      " 90%|█████████ | 18/20 [05:19<00:36, 18.06s/it]"
     ]
    },
    {
     "name": "stdout",
     "output_type": "stream",
     "text": [
      "Epoch 17\t Loss=1.3267\n"
     ]
    },
    {
     "name": "stderr",
     "output_type": "stream",
     "text": [
      " 95%|█████████▌| 19/20 [05:38<00:18, 18.25s/it]"
     ]
    },
    {
     "name": "stdout",
     "output_type": "stream",
     "text": [
      "Epoch 18\t Loss=1.3995\n"
     ]
    },
    {
     "name": "stderr",
     "output_type": "stream",
     "text": [
      "100%|██████████| 20/20 [05:56<00:00, 17.84s/it]"
     ]
    },
    {
     "name": "stdout",
     "output_type": "stream",
     "text": [
      "Epoch 19\t Loss=1.4394\n"
     ]
    },
    {
     "name": "stderr",
     "output_type": "stream",
     "text": [
      "\n"
     ]
    }
   ],
   "source": [
    "# You can try different k for the report, but use k=1 when submitting the checkpoint\n",
    "# Do not modify other parts of this cell\n",
    "if not os.path.exists(rbm_ckpt_fn):\n",
    "    model_rbm = RBM(n_vis=n_vis, n_hid=n_hid, k=1)\n",
    "    model_rbm = train(model_rbm, train_loader, n_epochs=n_epochs, lr=lr)\n",
    "    # save model, do not change the filename.\n",
    "    torch.save(model_rbm.state_dict(), rbm_ckpt_fn)\n"
   ]
  },
  {
   "cell_type": "code",
   "execution_count": null,
   "id": "27ee2cbe-72fb-4ef7-b027-2e2eca8e3ae5",
   "metadata": {
    "deletable": false,
    "editable": false,
    "nbgrader": {
     "cell_type": "code",
     "checksum": "76000605d733016944bab8a6d4609fc0",
     "grade": false,
     "grade_id": "cell-a4481f9a79590026",
     "locked": true,
     "schema_version": 3,
     "solution": false,
     "task": false
    }
   },
   "outputs": [],
   "source": [
    "# You can use the following code to visualize reconstructed samples\n",
    "model_rbm.eval()\n",
    "vis_loader = torch.utils.data.DataLoader(test_dataset, batch_size=64)\n",
    "images = next(iter(vis_loader))[0]\n",
    "v, v_gibbs = model_rbm(images.view(-1, 784))\n",
    "show_and_save(make_grid(v_gibbs.view(64, 1, 28, 28).data), 'rbm_fake')"
   ]
  },
  {
   "cell_type": "markdown",
   "id": "f2cb6e4f-90f3-4e70-a8dc-bfaf58c15753",
   "metadata": {},
   "source": [
    "# VAE"
   ]
  },
  {
   "cell_type": "code",
   "execution_count": 49,
   "id": "35fbb7f3-29d6-4c97-a791-70a1c2123996",
   "metadata": {
    "deletable": false,
    "nbgrader": {
     "cell_type": "code",
     "checksum": "0057c346f08f2c39f9c63405aa071c4d",
     "grade": false,
     "grade_id": "cell-bee2f38d108317bb",
     "locked": false,
     "schema_version": 3,
     "solution": true,
     "task": false
    }
   },
   "outputs": [],
   "source": [
    "class VAE(nn.Module):\n",
    "    def __init__(self, input_dim, hidden_dim, latent_dim):\n",
    "        super().__init__()\n",
    "        self.input_dim = input_dim\n",
    "        self.hidden_dim = hidden_dim\n",
    "        self.latent_dim = latent_dim\n",
    "        # Encoder\n",
    "        self.enc_lin = nn.Linear(input_dim, hidden_dim)\n",
    "        self.enc_mu = nn.Linear(hidden_dim, latent_dim)\n",
    "        self.enc_sigma = nn.Linear(hidden_dim, latent_dim)\n",
    "        \n",
    "        # Decoder\n",
    "        self.dec_lin1 = nn.Linear(latent_dim, hidden_dim)\n",
    "        self.dec_lin2 = nn.Linear(hidden_dim, input_dim)\n",
    "\n",
    "    \n",
    "    def encoding(self, x):\n",
    "        \"\"\"Encode inputs x.\n",
    "        Args:\n",
    "            x (Tensor): Inputs. Take Tanh as the enc_lin layer's non-linear activation function.\n",
    "        Returns:\n",
    "            (z_mu, z_sigma): Mean and log variance of latent variables z.\n",
    "        \"\"\"\n",
    "        x = torch.tanh(self.enc_lin(x))\n",
    "        z_mu = self.enc_mu(x)\n",
    "        z_sigma = self.enc_sigma(x)\n",
    "        return z_mu, z_sigma\n",
    "    \n",
    "    def decoding(self, z):\n",
    "        \"\"\"Decode latent variable z into reconstructed data. \n",
    "        Two linear layers with Tanh as the middle layer's act func and Sigmoid as the output layer's act func.\n",
    "        Args:\n",
    "            z (Tensor): Inputs.\n",
    "        Returns:\n",
    "            x_hat: Reconstructed inputs. \n",
    "        \"\"\"\n",
    "        x = torch.tanh(self.dec_lin1(z))\n",
    "        x_hat = torch.sigmoid(self.dec_lin2(x))\n",
    "        return x_hat\n",
    "    \n",
    "    def forward(self, x):\n",
    "        \"\"\"Compute reconstructed inputs.\n",
    "        Args:\n",
    "            x (Tensor): Inputs.\n",
    "        Returns:\n",
    "            (x_hat, z_mu, z_sigma): Reconstructed inputs, mean and log variance of latent variables.\n",
    "        \"\"\"\n",
    "        z_mu, z_sigma = self.encoding(x)\n",
    "        std = torch.exp(0.5 * z_sigma)\n",
    "        eps = torch.randn_like(std)\n",
    "        z = z_mu + eps * std\n",
    "        x_hat = self.decoding(z)\n",
    "        \n",
    "        \n",
    "        return x_hat, z_mu, z_sigma\n",
    "        \n",
    "    def get_loss(self, x):\n",
    "        \"\"\"Compute VAE loss.\n",
    "        Args:\n",
    "            x (Tensor): Inputs.\n",
    "        Returns:\n",
    "            loss (FloatTensor): reconstruction loss + KL loss\n",
    "        \"\"\"\n",
    "        x_hat, z_mu, z_sigma = self.forward(x)\n",
    "        recon_loss = F.mse_loss(x_hat, x, reduction='sum')\n",
    "        kl_loss = -0.5 * torch.sum(1 + z_sigma - z_mu.pow(2) - z_sigma.exp())\n",
    "        loss = recon_loss + kl_loss\n",
    "        return loss\n",
    "    \n",
    "    @torch.no_grad()\n",
    "    def sample(self, n_samples, device):\n",
    "        random_z = torch.randn(n_samples, self.latent_dim).to(device)\n",
    "        x_hat = self.decoding(random_z)\n",
    "        return x_hat"
   ]
  },
  {
   "cell_type": "code",
   "execution_count": 50,
   "id": "afd29eaf-761d-4080-abdd-aa27dec94ee4",
   "metadata": {
    "deletable": false,
    "editable": false,
    "nbgrader": {
     "cell_type": "code",
     "checksum": "42abee4a99ef8fede7aac16bd1ec39fa",
     "grade": false,
     "grade_id": "cell-c3a0629f51ad80b1",
     "locked": true,
     "schema_version": 3,
     "solution": false,
     "task": false
    }
   },
   "outputs": [],
   "source": [
    "# DO NOT MODIFY\n",
    "train_dataset = datasets.MNIST('./data',\n",
    "    train=True,\n",
    "    transform = transforms.Compose(\n",
    "        [transforms.ToTensor()]\n",
    "    )\n",
    ")\n",
    "test_dataset = datasets.MNIST('./data',\n",
    "    train=False,\n",
    "    transform = transforms.Compose(\n",
    "        [transforms.ToTensor()]\n",
    "    )\n",
    ")\n",
    "\n",
    "batch_size = 128\n",
    "input_dim = 784\n",
    "hidden_dim = 500\n",
    "n_epochs=40\n",
    "lr=0.001\n",
    "vae_ckpt_fn = 'model_vae_seed2025.pt'\n",
    "\n",
    "train_loader = torch.utils.data.DataLoader(train_dataset, batch_size=batch_size, shuffle=True)\n",
    "test_loader = torch.utils.data.DataLoader(test_dataset, batch_size=batch_size)"
   ]
  },
  {
   "cell_type": "code",
   "execution_count": 51,
   "id": "50945f68-ee1c-4e68-84a1-3edec3b32590",
   "metadata": {
    "deletable": false,
    "editable": false,
    "nbgrader": {
     "cell_type": "code",
     "checksum": "b6347a1a4ee687e164dcad4f1d9126b6",
     "grade": true,
     "grade_id": "vae_test",
     "locked": true,
     "points": 10,
     "schema_version": 3,
     "solution": false,
     "task": false
    }
   },
   "outputs": [
    {
     "name": "stderr",
     "output_type": "stream",
     "text": [
      "  2%|▎         | 1/40 [00:15<10:19, 15.89s/it]"
     ]
    },
    {
     "name": "stdout",
     "output_type": "stream",
     "text": [
      "Epoch 0\t Loss=5755.6524\n"
     ]
    },
    {
     "name": "stderr",
     "output_type": "stream",
     "text": [
      "  5%|▌         | 2/40 [00:31<10:05, 15.93s/it]"
     ]
    },
    {
     "name": "stdout",
     "output_type": "stream",
     "text": [
      "Epoch 1\t Loss=4684.3877\n"
     ]
    },
    {
     "name": "stderr",
     "output_type": "stream",
     "text": [
      "  8%|▊         | 3/40 [00:46<09:30, 15.42s/it]"
     ]
    },
    {
     "name": "stdout",
     "output_type": "stream",
     "text": [
      "Epoch 2\t Loss=4537.5042\n"
     ]
    },
    {
     "name": "stderr",
     "output_type": "stream",
     "text": [
      " 10%|█         | 4/40 [01:03<09:31, 15.88s/it]"
     ]
    },
    {
     "name": "stdout",
     "output_type": "stream",
     "text": [
      "Epoch 3\t Loss=4403.6838\n"
     ]
    },
    {
     "name": "stderr",
     "output_type": "stream",
     "text": [
      " 12%|█▎        | 5/40 [01:19<09:23, 16.11s/it]"
     ]
    },
    {
     "name": "stdout",
     "output_type": "stream",
     "text": [
      "Epoch 4\t Loss=4272.7506\n"
     ]
    },
    {
     "name": "stderr",
     "output_type": "stream",
     "text": [
      " 15%|█▌        | 6/40 [01:35<09:02, 15.95s/it]"
     ]
    },
    {
     "name": "stdout",
     "output_type": "stream",
     "text": [
      "Epoch 5\t Loss=4176.5146\n"
     ]
    },
    {
     "name": "stderr",
     "output_type": "stream",
     "text": [
      " 18%|█▊        | 7/40 [01:52<08:58, 16.32s/it]"
     ]
    },
    {
     "name": "stdout",
     "output_type": "stream",
     "text": [
      "Epoch 6\t Loss=4113.8377\n"
     ]
    },
    {
     "name": "stderr",
     "output_type": "stream",
     "text": [
      " 20%|██        | 8/40 [02:08<08:37, 16.18s/it]"
     ]
    },
    {
     "name": "stdout",
     "output_type": "stream",
     "text": [
      "Epoch 7\t Loss=4059.3211\n"
     ]
    },
    {
     "name": "stderr",
     "output_type": "stream",
     "text": [
      " 22%|██▎       | 9/40 [02:23<08:13, 15.93s/it]"
     ]
    },
    {
     "name": "stdout",
     "output_type": "stream",
     "text": [
      "Epoch 8\t Loss=4020.1254\n"
     ]
    },
    {
     "name": "stderr",
     "output_type": "stream",
     "text": [
      " 25%|██▌       | 10/40 [02:39<07:52, 15.75s/it]"
     ]
    },
    {
     "name": "stdout",
     "output_type": "stream",
     "text": [
      "Epoch 9\t Loss=3986.0548\n"
     ]
    },
    {
     "name": "stderr",
     "output_type": "stream",
     "text": [
      " 28%|██▊       | 11/40 [02:56<07:51, 16.27s/it]"
     ]
    },
    {
     "name": "stdout",
     "output_type": "stream",
     "text": [
      "Epoch 10\t Loss=3959.0293\n"
     ]
    },
    {
     "name": "stderr",
     "output_type": "stream",
     "text": [
      " 30%|███       | 12/40 [03:13<07:39, 16.40s/it]"
     ]
    },
    {
     "name": "stdout",
     "output_type": "stream",
     "text": [
      "Epoch 11\t Loss=3934.2317\n"
     ]
    },
    {
     "name": "stderr",
     "output_type": "stream",
     "text": [
      " 32%|███▎      | 13/40 [03:29<07:25, 16.50s/it]"
     ]
    },
    {
     "name": "stdout",
     "output_type": "stream",
     "text": [
      "Epoch 12\t Loss=3917.6705\n"
     ]
    },
    {
     "name": "stderr",
     "output_type": "stream",
     "text": [
      " 35%|███▌      | 14/40 [03:45<07:04, 16.33s/it]"
     ]
    },
    {
     "name": "stdout",
     "output_type": "stream",
     "text": [
      "Epoch 13\t Loss=3900.5642\n"
     ]
    },
    {
     "name": "stderr",
     "output_type": "stream",
     "text": [
      " 38%|███▊      | 15/40 [04:00<06:36, 15.87s/it]"
     ]
    },
    {
     "name": "stdout",
     "output_type": "stream",
     "text": [
      "Epoch 14\t Loss=3891.3282\n"
     ]
    },
    {
     "name": "stderr",
     "output_type": "stream",
     "text": [
      " 40%|████      | 16/40 [04:15<06:10, 15.45s/it]"
     ]
    },
    {
     "name": "stdout",
     "output_type": "stream",
     "text": [
      "Epoch 15\t Loss=3874.7231\n"
     ]
    },
    {
     "name": "stderr",
     "output_type": "stream",
     "text": [
      " 42%|████▎     | 17/40 [04:30<05:55, 15.45s/it]"
     ]
    },
    {
     "name": "stdout",
     "output_type": "stream",
     "text": [
      "Epoch 16\t Loss=3857.9074\n"
     ]
    },
    {
     "name": "stderr",
     "output_type": "stream",
     "text": [
      " 45%|████▌     | 18/40 [04:46<05:42, 15.57s/it]"
     ]
    },
    {
     "name": "stdout",
     "output_type": "stream",
     "text": [
      "Epoch 17\t Loss=3845.7035\n"
     ]
    },
    {
     "name": "stderr",
     "output_type": "stream",
     "text": [
      " 48%|████▊     | 19/40 [05:02<05:27, 15.60s/it]"
     ]
    },
    {
     "name": "stdout",
     "output_type": "stream",
     "text": [
      "Epoch 18\t Loss=3841.6733\n"
     ]
    },
    {
     "name": "stderr",
     "output_type": "stream",
     "text": [
      " 50%|█████     | 20/40 [05:19<05:20, 16.03s/it]"
     ]
    },
    {
     "name": "stdout",
     "output_type": "stream",
     "text": [
      "Epoch 19\t Loss=3828.9133\n"
     ]
    },
    {
     "name": "stderr",
     "output_type": "stream",
     "text": [
      " 52%|█████▎    | 21/40 [05:36<05:10, 16.34s/it]"
     ]
    },
    {
     "name": "stdout",
     "output_type": "stream",
     "text": [
      "Epoch 20\t Loss=3822.3913\n"
     ]
    },
    {
     "name": "stderr",
     "output_type": "stream",
     "text": [
      " 55%|█████▌    | 22/40 [05:50<04:43, 15.77s/it]"
     ]
    },
    {
     "name": "stdout",
     "output_type": "stream",
     "text": [
      "Epoch 21\t Loss=3811.5778\n"
     ]
    },
    {
     "name": "stderr",
     "output_type": "stream",
     "text": [
      " 57%|█████▊    | 23/40 [06:05<04:22, 15.45s/it]"
     ]
    },
    {
     "name": "stdout",
     "output_type": "stream",
     "text": [
      "Epoch 22\t Loss=3803.8573\n"
     ]
    },
    {
     "name": "stderr",
     "output_type": "stream",
     "text": [
      " 60%|██████    | 24/40 [06:21<04:11, 15.72s/it]"
     ]
    },
    {
     "name": "stdout",
     "output_type": "stream",
     "text": [
      "Epoch 23\t Loss=3795.7865\n"
     ]
    },
    {
     "name": "stderr",
     "output_type": "stream",
     "text": [
      " 62%|██████▎   | 25/40 [06:37<03:55, 15.73s/it]"
     ]
    },
    {
     "name": "stdout",
     "output_type": "stream",
     "text": [
      "Epoch 24\t Loss=3792.3564\n"
     ]
    },
    {
     "name": "stderr",
     "output_type": "stream",
     "text": [
      " 65%|██████▌   | 26/40 [06:52<03:36, 15.47s/it]"
     ]
    },
    {
     "name": "stdout",
     "output_type": "stream",
     "text": [
      "Epoch 25\t Loss=3785.9890\n"
     ]
    },
    {
     "name": "stderr",
     "output_type": "stream",
     "text": [
      " 68%|██████▊   | 27/40 [07:08<03:23, 15.67s/it]"
     ]
    },
    {
     "name": "stdout",
     "output_type": "stream",
     "text": [
      "Epoch 26\t Loss=3783.3256\n"
     ]
    },
    {
     "name": "stderr",
     "output_type": "stream",
     "text": [
      " 70%|███████   | 28/40 [07:23<03:04, 15.37s/it]"
     ]
    },
    {
     "name": "stdout",
     "output_type": "stream",
     "text": [
      "Epoch 27\t Loss=3778.0752\n"
     ]
    },
    {
     "name": "stderr",
     "output_type": "stream",
     "text": [
      " 72%|███████▎  | 29/40 [07:39<02:50, 15.53s/it]"
     ]
    },
    {
     "name": "stdout",
     "output_type": "stream",
     "text": [
      "Epoch 28\t Loss=3771.4692\n"
     ]
    },
    {
     "name": "stderr",
     "output_type": "stream",
     "text": [
      " 75%|███████▌  | 30/40 [07:55<02:36, 15.70s/it]"
     ]
    },
    {
     "name": "stdout",
     "output_type": "stream",
     "text": [
      "Epoch 29\t Loss=3762.5171\n"
     ]
    },
    {
     "name": "stderr",
     "output_type": "stream",
     "text": [
      " 78%|███████▊  | 31/40 [08:09<02:18, 15.34s/it]"
     ]
    },
    {
     "name": "stdout",
     "output_type": "stream",
     "text": [
      "Epoch 30\t Loss=3759.0882\n"
     ]
    },
    {
     "name": "stderr",
     "output_type": "stream",
     "text": [
      " 80%|████████  | 32/40 [08:25<02:04, 15.62s/it]"
     ]
    },
    {
     "name": "stdout",
     "output_type": "stream",
     "text": [
      "Epoch 31\t Loss=3753.6795\n"
     ]
    },
    {
     "name": "stderr",
     "output_type": "stream",
     "text": [
      " 82%|████████▎ | 33/40 [08:44<01:54, 16.41s/it]"
     ]
    },
    {
     "name": "stdout",
     "output_type": "stream",
     "text": [
      "Epoch 32\t Loss=3750.3463\n"
     ]
    },
    {
     "name": "stderr",
     "output_type": "stream",
     "text": [
      " 85%|████████▌ | 34/40 [09:02<01:42, 17.14s/it]"
     ]
    },
    {
     "name": "stdout",
     "output_type": "stream",
     "text": [
      "Epoch 33\t Loss=3748.7993\n"
     ]
    },
    {
     "name": "stderr",
     "output_type": "stream",
     "text": [
      " 88%|████████▊ | 35/40 [09:18<01:22, 16.58s/it]"
     ]
    },
    {
     "name": "stdout",
     "output_type": "stream",
     "text": [
      "Epoch 34\t Loss=3743.3253\n"
     ]
    },
    {
     "name": "stderr",
     "output_type": "stream",
     "text": [
      " 90%|█████████ | 36/40 [09:31<01:02, 15.65s/it]"
     ]
    },
    {
     "name": "stdout",
     "output_type": "stream",
     "text": [
      "Epoch 35\t Loss=3737.0275\n"
     ]
    },
    {
     "name": "stderr",
     "output_type": "stream",
     "text": [
      " 92%|█████████▎| 37/40 [09:45<00:44, 14.97s/it]"
     ]
    },
    {
     "name": "stdout",
     "output_type": "stream",
     "text": [
      "Epoch 36\t Loss=3734.4802\n"
     ]
    },
    {
     "name": "stderr",
     "output_type": "stream",
     "text": [
      " 95%|█████████▌| 38/40 [09:59<00:29, 14.68s/it]"
     ]
    },
    {
     "name": "stdout",
     "output_type": "stream",
     "text": [
      "Epoch 37\t Loss=3737.4835\n"
     ]
    },
    {
     "name": "stderr",
     "output_type": "stream",
     "text": [
      " 98%|█████████▊| 39/40 [10:12<00:14, 14.26s/it]"
     ]
    },
    {
     "name": "stdout",
     "output_type": "stream",
     "text": [
      "Epoch 38\t Loss=3730.7863\n"
     ]
    },
    {
     "name": "stderr",
     "output_type": "stream",
     "text": [
      "100%|██████████| 40/40 [10:27<00:00, 15.69s/it]"
     ]
    },
    {
     "name": "stdout",
     "output_type": "stream",
     "text": [
      "Epoch 39\t Loss=3725.5977\n"
     ]
    },
    {
     "name": "stderr",
     "output_type": "stream",
     "text": [
      "\n"
     ]
    }
   ],
   "source": [
    "# You can try different latent_dim for the report, but use latent_dim=20 when submitting the checkpoint\n",
    "# Do not modify other parts of this cell\n",
    "if not os.path.exists(vae_ckpt_fn):\n",
    "    model_vae = VAE(input_dim=input_dim, hidden_dim=hidden_dim, latent_dim=20)\n",
    "    model_vae = train(model_vae, train_loader, n_epochs=n_epochs, lr=lr)\n",
    "    # save model, do not change the filename.\n",
    "    torch.save(model_vae.state_dict(), vae_ckpt_fn)\n",
    "    "
   ]
  },
  {
   "cell_type": "code",
   "execution_count": 52,
   "id": "c386606b-1022-4922-a420-3cf9d12887a6",
   "metadata": {
    "deletable": false,
    "editable": false,
    "nbgrader": {
     "cell_type": "code",
     "checksum": "51dcbd3ff225e4d5159e2db75cc836f6",
     "grade": false,
     "grade_id": "cell-b65ef732dba947bf",
     "locked": true,
     "schema_version": 3,
     "solution": false,
     "task": false
    }
   },
   "outputs": [
    {
     "data": {
      "image/png": "[encoded data removed]",
      "text/plain": [
       "<Figure size 640x480 with 1 Axes>"
      ]
     },
     "metadata": {},
     "output_type": "display_data"
    }
   ],
   "source": [
    "# You can use the following code to visualize generated samples\n",
    "model_vae.eval()\n",
    "x_hat = model_vae.sample(64, 'cpu')\n",
    "# x_hat = x_hat.bernoulli()\n",
    "show_and_save(make_grid(x_hat.view(64, 1, 28, 28).data.cpu()), 'vae_fake')"
   ]
  },
  {
   "cell_type": "markdown",
   "id": "871d7f40-2809-44ce-b91f-ccc96c9309ff",
   "metadata": {},
   "source": [
    "# VAE2"
   ]
  },
  {
   "cell_type": "code",
   "execution_count": 53,
   "id": "bf84fea1-c7f6-4c69-8807-f601d2d0f921",
   "metadata": {
    "deletable": false,
    "nbgrader": {
     "cell_type": "code",
     "checksum": "05870212cf9abde6d33e100802964386",
     "grade": false,
     "grade_id": "cell-5c0706f0637742ec",
     "locked": false,
     "schema_version": 3,
     "solution": true,
     "task": false
    }
   },
   "outputs": [],
   "source": [
    "class VAE2(nn.Module):\n",
    "    def __init__(self, latent_dim):\n",
    "        super().__init__()\n",
    "        self.latent_dim = latent_dim\n",
    "        \n",
    "        self.conv1 = nn.Conv2d(in_channels=1, out_channels=8, kernel_size=3, padding=1)\n",
    "        self.pool1 = nn.MaxPool2d(kernel_size=2, stride=2)\n",
    "        self.conv2 = nn.Conv2d(in_channels=8, out_channels=8, kernel_size=3, padding=1)\n",
    "        self.pool2 = nn.MaxPool2d(kernel_size=2, stride=2)\n",
    "        self.conv3 = nn.Conv2d(in_channels=8, out_channels=8, kernel_size=3, padding=1)\n",
    "        self.pool3 = nn.MaxPool2d(kernel_size=2, stride=2)\n",
    "        self.lin_mu = nn.Linear(72, latent_dim)\n",
    "        self.lin_logvar = nn.Linear(72, latent_dim)\n",
    "\n",
    "        self.lin_decode = nn.Linear(latent_dim, 72)\n",
    "        self.deconv1 = nn.ConvTranspose2d(in_channels=8, out_channels=8, kernel_size=2, stride=2, output_padding=1)\n",
    "        self.deconv2 = nn.ConvTranspose2d(in_channels=8, out_channels=8, kernel_size=2, stride=2)\n",
    "        self.deconv3 = nn.ConvTranspose2d(in_channels=8, out_channels=8, kernel_size=2, stride=2)\n",
    "        self.conv = nn.Conv2d(in_channels=8, out_channels=1, kernel_size=3,padding=1)\n",
    "\n",
    "    def encoding(self, x):\n",
    "        \"\"\"Encode inputs x.\n",
    "        Args:\n",
    "            x (Tensor): Inputs. Take Tanh as the enc_lin layer's non-linear activation function.\n",
    "        Returns:\n",
    "            (z_mu, z_sigma): Mean and log variance of latent variables z.\n",
    "        \"\"\"\n",
    "        x = F.relu(self.conv1(x))\n",
    "        x = self.pool1(x)\n",
    "        x = F.relu(self.conv2(x))\n",
    "        x = self.pool2(x)\n",
    "        x = F.relu(self.conv3(x))\n",
    "        x = self.pool3(x)\n",
    "        x_flat = x.view(x.size(0), -1)\n",
    "        z_mu = self.lin_mu(x_flat)\n",
    "        z_sigma = self.lin_logvar(x_flat)\n",
    "        return z_mu, z_sigma\n",
    "    \n",
    "    def decoding(self, z):\n",
    "        \"\"\"Decode latent variable z into reconstructed data. \n",
    "        Two linear layers with Tanh as the middle layer's act func and Sigmoid as the output layer's act func.\n",
    "        Args:\n",
    "            z (Tensor): Inputs.\n",
    "        Returns:\n",
    "            x_hat: Reconstructed inputs. \n",
    "        \"\"\"\n",
    "        x_hat = self.lin_decode(z)\n",
    "        x_hat = x_hat.view(x_hat.size(0), 8, 3, 3)\n",
    "        x_hat = F.relu(self.deconv1(x_hat))\n",
    "        x_hat = F.relu(self.deconv2(x_hat))\n",
    "        x_hat = F.relu(self.deconv3(x_hat))\n",
    "        x_hat = torch.sigmoid(self.conv(x_hat))\n",
    "        return x_hat\n",
    "    \n",
    "    def forward(self, x):\n",
    "        \"\"\"Compute reconstructed inputs.\n",
    "        Args:\n",
    "            x (Tensor): Inputs.\n",
    "        Returns:\n",
    "            (x_hat, z_mu, z_sigma): Reconstructed inputs, mean and log variance of latent variables.\n",
    "        \"\"\"\n",
    "        z_mu, z_sigma = self.encoding(x)\n",
    "        std = torch.exp(0.5 * z_sigma)\n",
    "        eps = torch.randn_like(std)\n",
    "        z = z_mu + eps * std\n",
    "        x_hat = self.decoding(z)\n",
    "        return x_hat, z_mu, z_sigma\n",
    "        \n",
    "    def get_loss(self, x):\n",
    "        \"\"\"Compute VAE loss.\n",
    "        Args:\n",
    "            x (Tensor): Inputs.\n",
    "        Returns:\n",
    "            loss (FloatTensor): reconstruction loss + KL loss\n",
    "        \"\"\"\n",
    "        x_hat, z_mu, z_sigma = self.forward(x)\n",
    "        recon_loss = F.mse_loss(x_hat, x, reduction='sum')\n",
    "        kl_loss = -0.5 * torch.sum(1 + z_sigma - z_mu.pow(2) - z_sigma.exp())\n",
    "        loss = recon_loss + kl_loss\n",
    "        return loss\n",
    "    \n",
    "    @torch.no_grad()\n",
    "    def sample(self, n_samples, device):\n",
    "        random_z = torch.randn(n_samples, self.latent_dim).to(device)\n",
    "        x_hat = self.decoding(random_z)\n",
    "        return x_hat"
   ]
  },
  {
   "cell_type": "code",
   "execution_count": 54,
   "id": "58c0b712-6d52-43e8-b197-9afd3cfe6aa5",
   "metadata": {
    "deletable": false,
    "editable": false,
    "nbgrader": {
     "cell_type": "code",
     "checksum": "dca82db7a2ef232bc649e20596a0400c",
     "grade": false,
     "grade_id": "cell-2d5ba1880e4131d6",
     "locked": true,
     "schema_version": 3,
     "solution": false,
     "task": false
    }
   },
   "outputs": [],
   "source": [
    "# DO NOT MODIFY\n",
    "train_dataset = datasets.MNIST('./data',\n",
    "    train=True,\n",
    "    transform = transforms.Compose(\n",
    "        [transforms.ToTensor()]\n",
    "    )\n",
    ")\n",
    "test_dataset = datasets.MNIST('./data',\n",
    "    train=False,\n",
    "    transform = transforms.Compose(\n",
    "        [transforms.ToTensor()]\n",
    "    )\n",
    ")\n",
    "\n",
    "batch_size = 128\n",
    "n_epochs=40\n",
    "lr=0.005\n",
    "vae_ckpt_fn = 'model_vae2_seed2025.pt'\n",
    "\n",
    "train_loader = torch.utils.data.DataLoader(train_dataset, batch_size=batch_size, shuffle=True)\n",
    "test_loader = torch.utils.data.DataLoader(test_dataset, batch_size=batch_size)"
   ]
  },
  {
   "cell_type": "code",
   "execution_count": 55,
   "id": "44eab692-33aa-483c-80b3-4956d5d361b7",
   "metadata": {
    "deletable": false,
    "editable": false,
    "nbgrader": {
     "cell_type": "code",
     "checksum": "ab8517b858f41ebfdf94691191cbd7d6",
     "grade": true,
     "grade_id": "vae2_test",
     "locked": true,
     "points": 15,
     "schema_version": 3,
     "solution": false,
     "task": false
    }
   },
   "outputs": [
    {
     "name": "stderr",
     "output_type": "stream",
     "text": [
      "  2%|▎         | 1/40 [00:21<14:04, 21.64s/it]"
     ]
    },
    {
     "name": "stdout",
     "output_type": "stream",
     "text": [
      "Epoch 0\t Loss=7285.1346\n"
     ]
    },
    {
     "name": "stderr",
     "output_type": "stream",
     "text": [
      "  5%|▌         | 2/40 [00:43<13:43, 21.68s/it]"
     ]
    },
    {
     "name": "stdout",
     "output_type": "stream",
     "text": [
      "Epoch 1\t Loss=5414.3313\n"
     ]
    },
    {
     "name": "stderr",
     "output_type": "stream",
     "text": [
      "  8%|▊         | 3/40 [01:06<13:40, 22.17s/it]"
     ]
    },
    {
     "name": "stdout",
     "output_type": "stream",
     "text": [
      "Epoch 2\t Loss=4991.9675\n"
     ]
    },
    {
     "name": "stderr",
     "output_type": "stream",
     "text": [
      " 10%|█         | 4/40 [01:30<13:46, 22.95s/it]"
     ]
    },
    {
     "name": "stdout",
     "output_type": "stream",
     "text": [
      "Epoch 3\t Loss=4898.4314\n"
     ]
    },
    {
     "name": "stderr",
     "output_type": "stream",
     "text": [
      " 12%|█▎        | 5/40 [01:54<13:44, 23.56s/it]"
     ]
    },
    {
     "name": "stdout",
     "output_type": "stream",
     "text": [
      "Epoch 4\t Loss=4826.3054\n"
     ]
    },
    {
     "name": "stderr",
     "output_type": "stream",
     "text": [
      " 15%|█▌        | 6/40 [02:18<13:16, 23.42s/it]"
     ]
    },
    {
     "name": "stdout",
     "output_type": "stream",
     "text": [
      "Epoch 5\t Loss=4772.1739\n"
     ]
    },
    {
     "name": "stderr",
     "output_type": "stream",
     "text": [
      " 18%|█▊        | 7/40 [02:41<12:53, 23.43s/it]"
     ]
    },
    {
     "name": "stdout",
     "output_type": "stream",
     "text": [
      "Epoch 6\t Loss=4739.8994\n"
     ]
    },
    {
     "name": "stderr",
     "output_type": "stream",
     "text": [
      " 20%|██        | 8/40 [03:05<12:38, 23.71s/it]"
     ]
    },
    {
     "name": "stdout",
     "output_type": "stream",
     "text": [
      "Epoch 7\t Loss=4722.0483\n"
     ]
    },
    {
     "name": "stderr",
     "output_type": "stream",
     "text": [
      " 22%|██▎       | 9/40 [03:30<12:21, 23.93s/it]"
     ]
    },
    {
     "name": "stdout",
     "output_type": "stream",
     "text": [
      "Epoch 8\t Loss=4705.7677\n"
     ]
    },
    {
     "name": "stderr",
     "output_type": "stream",
     "text": [
      " 25%|██▌       | 10/40 [03:56<12:15, 24.53s/it]"
     ]
    },
    {
     "name": "stdout",
     "output_type": "stream",
     "text": [
      "Epoch 9\t Loss=4695.0416\n"
     ]
    },
    {
     "name": "stderr",
     "output_type": "stream",
     "text": [
      " 28%|██▊       | 11/40 [04:20<11:48, 24.43s/it]"
     ]
    },
    {
     "name": "stdout",
     "output_type": "stream",
     "text": [
      "Epoch 10\t Loss=4680.4884\n"
     ]
    },
    {
     "name": "stderr",
     "output_type": "stream",
     "text": [
      " 30%|███       | 12/40 [04:42<11:08, 23.88s/it]"
     ]
    },
    {
     "name": "stdout",
     "output_type": "stream",
     "text": [
      "Epoch 11\t Loss=4676.5204\n"
     ]
    },
    {
     "name": "stderr",
     "output_type": "stream",
     "text": [
      " 32%|███▎      | 13/40 [05:05<10:32, 23.41s/it]"
     ]
    },
    {
     "name": "stdout",
     "output_type": "stream",
     "text": [
      "Epoch 12\t Loss=4667.5213\n"
     ]
    },
    {
     "name": "stderr",
     "output_type": "stream",
     "text": [
      " 35%|███▌      | 14/40 [05:28<10:08, 23.40s/it]"
     ]
    },
    {
     "name": "stdout",
     "output_type": "stream",
     "text": [
      "Epoch 13\t Loss=4658.3307\n"
     ]
    },
    {
     "name": "stderr",
     "output_type": "stream",
     "text": [
      " 38%|███▊      | 15/40 [05:52<09:45, 23.42s/it]"
     ]
    },
    {
     "name": "stdout",
     "output_type": "stream",
     "text": [
      "Epoch 14\t Loss=4650.0772\n"
     ]
    },
    {
     "name": "stderr",
     "output_type": "stream",
     "text": [
      " 40%|████      | 16/40 [06:16<09:32, 23.84s/it]"
     ]
    },
    {
     "name": "stdout",
     "output_type": "stream",
     "text": [
      "Epoch 15\t Loss=4647.0181\n"
     ]
    },
    {
     "name": "stderr",
     "output_type": "stream",
     "text": [
      " 42%|████▎     | 17/40 [06:38<08:49, 23.03s/it]"
     ]
    },
    {
     "name": "stdout",
     "output_type": "stream",
     "text": [
      "Epoch 16\t Loss=4644.7843\n"
     ]
    },
    {
     "name": "stderr",
     "output_type": "stream",
     "text": [
      " 45%|████▌     | 18/40 [07:00<08:20, 22.75s/it]"
     ]
    },
    {
     "name": "stdout",
     "output_type": "stream",
     "text": [
      "Epoch 17\t Loss=4639.6862\n"
     ]
    },
    {
     "name": "stderr",
     "output_type": "stream",
     "text": [
      " 48%|████▊     | 19/40 [07:23<08:02, 22.99s/it]"
     ]
    },
    {
     "name": "stdout",
     "output_type": "stream",
     "text": [
      "Epoch 18\t Loss=4635.2720\n"
     ]
    },
    {
     "name": "stderr",
     "output_type": "stream",
     "text": [
      " 50%|█████     | 20/40 [07:46<07:40, 23.04s/it]"
     ]
    },
    {
     "name": "stdout",
     "output_type": "stream",
     "text": [
      "Epoch 19\t Loss=4630.2888\n"
     ]
    },
    {
     "name": "stderr",
     "output_type": "stream",
     "text": [
      " 52%|█████▎    | 21/40 [08:10<07:20, 23.16s/it]"
     ]
    },
    {
     "name": "stdout",
     "output_type": "stream",
     "text": [
      "Epoch 20\t Loss=4630.2634\n"
     ]
    },
    {
     "name": "stderr",
     "output_type": "stream",
     "text": [
      " 55%|█████▌    | 22/40 [08:35<07:06, 23.72s/it]"
     ]
    },
    {
     "name": "stdout",
     "output_type": "stream",
     "text": [
      "Epoch 21\t Loss=4627.8876\n"
     ]
    },
    {
     "name": "stderr",
     "output_type": "stream",
     "text": [
      " 57%|█████▊    | 23/40 [08:59<06:44, 23.80s/it]"
     ]
    },
    {
     "name": "stdout",
     "output_type": "stream",
     "text": [
      "Epoch 22\t Loss=4628.5768\n"
     ]
    },
    {
     "name": "stderr",
     "output_type": "stream",
     "text": [
      " 60%|██████    | 24/40 [09:21<06:12, 23.27s/it]"
     ]
    },
    {
     "name": "stdout",
     "output_type": "stream",
     "text": [
      "Epoch 23\t Loss=4621.9318\n"
     ]
    },
    {
     "name": "stderr",
     "output_type": "stream",
     "text": [
      " 62%|██████▎   | 25/40 [09:44<05:49, 23.33s/it]"
     ]
    },
    {
     "name": "stdout",
     "output_type": "stream",
     "text": [
      "Epoch 24\t Loss=4619.3841\n"
     ]
    },
    {
     "name": "stderr",
     "output_type": "stream",
     "text": [
      " 65%|██████▌   | 26/40 [10:09<05:33, 23.84s/it]"
     ]
    },
    {
     "name": "stdout",
     "output_type": "stream",
     "text": [
      "Epoch 25\t Loss=4609.7486\n"
     ]
    },
    {
     "name": "stderr",
     "output_type": "stream",
     "text": [
      " 68%|██████▊   | 27/40 [10:32<05:05, 23.51s/it]"
     ]
    },
    {
     "name": "stdout",
     "output_type": "stream",
     "text": [
      "Epoch 26\t Loss=4615.6629\n"
     ]
    },
    {
     "name": "stderr",
     "output_type": "stream",
     "text": [
      " 70%|███████   | 28/40 [10:53<04:34, 22.88s/it]"
     ]
    },
    {
     "name": "stdout",
     "output_type": "stream",
     "text": [
      "Epoch 27\t Loss=4613.4531\n"
     ]
    },
    {
     "name": "stderr",
     "output_type": "stream",
     "text": [
      " 72%|███████▎  | 29/40 [11:15<04:06, 22.39s/it]"
     ]
    },
    {
     "name": "stdout",
     "output_type": "stream",
     "text": [
      "Epoch 28\t Loss=4609.8761\n"
     ]
    },
    {
     "name": "stderr",
     "output_type": "stream",
     "text": [
      " 75%|███████▌  | 30/40 [11:36<03:41, 22.13s/it]"
     ]
    },
    {
     "name": "stdout",
     "output_type": "stream",
     "text": [
      "Epoch 29\t Loss=4605.4984\n"
     ]
    },
    {
     "name": "stderr",
     "output_type": "stream",
     "text": [
      " 78%|███████▊  | 31/40 [11:59<03:19, 22.20s/it]"
     ]
    },
    {
     "name": "stdout",
     "output_type": "stream",
     "text": [
      "Epoch 30\t Loss=4606.7047\n"
     ]
    },
    {
     "name": "stderr",
     "output_type": "stream",
     "text": [
      " 80%|████████  | 32/40 [12:20<02:56, 22.01s/it]"
     ]
    },
    {
     "name": "stdout",
     "output_type": "stream",
     "text": [
      "Epoch 31\t Loss=4603.3833\n"
     ]
    },
    {
     "name": "stderr",
     "output_type": "stream",
     "text": [
      " 82%|████████▎ | 33/40 [12:42<02:33, 21.89s/it]"
     ]
    },
    {
     "name": "stdout",
     "output_type": "stream",
     "text": [
      "Epoch 32\t Loss=4602.4518\n"
     ]
    },
    {
     "name": "stderr",
     "output_type": "stream",
     "text": [
      " 85%|████████▌ | 34/40 [13:03<02:10, 21.68s/it]"
     ]
    },
    {
     "name": "stdout",
     "output_type": "stream",
     "text": [
      "Epoch 33\t Loss=4597.5936\n"
     ]
    },
    {
     "name": "stderr",
     "output_type": "stream",
     "text": [
      " 88%|████████▊ | 35/40 [13:24<01:47, 21.46s/it]"
     ]
    },
    {
     "name": "stdout",
     "output_type": "stream",
     "text": [
      "Epoch 34\t Loss=4597.2228\n"
     ]
    },
    {
     "name": "stderr",
     "output_type": "stream",
     "text": [
      " 90%|█████████ | 36/40 [13:48<01:29, 22.30s/it]"
     ]
    },
    {
     "name": "stdout",
     "output_type": "stream",
     "text": [
      "Epoch 35\t Loss=4592.4413\n"
     ]
    },
    {
     "name": "stderr",
     "output_type": "stream",
     "text": [
      " 92%|█████████▎| 37/40 [14:11<01:07, 22.46s/it]"
     ]
    },
    {
     "name": "stdout",
     "output_type": "stream",
     "text": [
      "Epoch 36\t Loss=4590.0802\n"
     ]
    },
    {
     "name": "stderr",
     "output_type": "stream",
     "text": [
      " 95%|█████████▌| 38/40 [14:33<00:44, 22.32s/it]"
     ]
    },
    {
     "name": "stdout",
     "output_type": "stream",
     "text": [
      "Epoch 37\t Loss=4584.2156\n"
     ]
    },
    {
     "name": "stderr",
     "output_type": "stream",
     "text": [
      " 98%|█████████▊| 39/40 [14:56<00:22, 22.40s/it]"
     ]
    },
    {
     "name": "stdout",
     "output_type": "stream",
     "text": [
      "Epoch 38\t Loss=4587.3445\n"
     ]
    },
    {
     "name": "stderr",
     "output_type": "stream",
     "text": [
      "100%|██████████| 40/40 [15:19<00:00, 22.98s/it]"
     ]
    },
    {
     "name": "stdout",
     "output_type": "stream",
     "text": [
      "Epoch 39\t Loss=4582.8295\n"
     ]
    },
    {
     "name": "stderr",
     "output_type": "stream",
     "text": [
      "\n"
     ]
    },
    {
     "data": {
      "image/png": "[encoded data removed]",
      "text/plain": [
       "<Figure size 640x480 with 1 Axes>"
      ]
     },
     "metadata": {},
     "output_type": "display_data"
    }
   ],
   "source": [
    "# You can try different latent_dim for the report, but use latent_dim=20 when submitting the checkpoint\n",
    "# Do not modify other parts of this cell\n",
    "\n",
    "if not os.path.exists(vae_ckpt_fn):\n",
    "    model_vae2 = VAE2(latent_dim=20)\n",
    "    model_vae2 = train_vae2(model_vae2, train_loader, n_epochs=n_epochs, lr=lr)\n",
    "    # save model, do not change the filename.\n",
    "    torch.save(model_vae2.state_dict(), vae_ckpt_fn)\n",
    "    \n",
    "# You can use the following code to visualize generated samples\n",
    "model_vae2.eval()\n",
    "x_hat = model_vae2.sample(64, 'cpu')\n",
    "# x_hat = x_hat.bernoulli()\n",
    "show_and_save(make_grid(x_hat.view(64, 1, 28, 28).data.cpu()), f'vae2_fake_{model_vae2.latent_dim}')"
   ]
  },
  {
   "cell_type": "code",
   "execution_count": null,
   "id": "5a66a6c0-2886-41c5-9f87-6b0bbe5ee440",
   "metadata": {
    "deletable": false,
    "editable": false,
    "nbgrader": {
     "cell_type": "code",
     "checksum": "a67826e4b9ee6e9079fdcda8586a0c37",
     "grade": false,
     "grade_id": "cell-40f1699bb0451a09",
     "locked": true,
     "schema_version": 3,
     "solution": false,
     "task": false
    }
   },
   "outputs": [],
   "source": []
  },
  {
   "cell_type": "code",
   "execution_count": null,
   "id": "44c0ef52",
   "metadata": {},
   "outputs": [],
   "source": []
  }
 ],
 "metadata": {
  "kernelspec": {
   "display_name": "num-embeddings",
   "language": "python",
   "name": "python3"
  },
  "language_info": {
   "codemirror_mode": {
    "name": "ipython",
    "version": 3
   },
   "file_extension": ".py",
   "mimetype": "text/x-python",
   "name": "python",
   "nbconvert_exporter": "python",
   "pygments_lexer": "ipython3",
   "version": "3.9.7"
  }
 },
 "nbformat": 4,
 "nbformat_minor": 5
}
