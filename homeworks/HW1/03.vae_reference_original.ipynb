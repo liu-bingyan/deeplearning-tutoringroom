{
 "cells": [
  {
   "cell_type": "markdown",
   "id": "5d03aeca",
   "metadata": {},
   "source": [
    "Before you turn this problem in, make sure everything runs as expected. First, **restart the kernel** (in the menubar, select Kernel $\\rightarrow$ Restart) and then **run all cells** (in the menubar, select Cell $\\rightarrow$ Run All).\n",
    "\n",
    "Make sure you fill in any place that says `YOUR CODE HERE` or \"YOUR ANSWER HERE\", as well as your name and collaborators below:"
   ]
  },
  {
   "cell_type": "code",
   "execution_count": 2,
   "id": "ca1a225d",
   "metadata": {},
   "outputs": [],
   "source": [
    "NAME = \"Jane Du\""
   ]
  },
  {
   "cell_type": "markdown",
   "id": "cd4909bb",
   "metadata": {},
   "source": [
    "---"
   ]
  },
  {
   "cell_type": "code",
   "execution_count": 3,
   "id": "76a90587-77b6-4eb7-9df3-6f1aa94d4b7a",
   "metadata": {
    "deletable": false,
    "editable": false,
    "nbgrader": {
     "cell_type": "code",
     "checksum": "ad6706f42f82e80240e89d29a42bc970",
     "grade": false,
     "grade_id": "cell-f2d41acb0d1b9f1f",
     "locked": true,
     "schema_version": 3,
     "solution": false,
     "task": false
    }
   },
   "outputs": [],
   "source": [
    "# Import packages and define common functions. Do not modify.\n",
    "import os\n",
    "import numpy as np\n",
    "import random\n",
    "from tqdm.auto import tqdm\n",
    "\n",
    "import torch\n",
    "import torch.nn as nn\n",
    "import torch.nn.functional as F\n",
    "\n",
    "from torchvision import datasets, transforms\n",
    "from torchvision.utils import make_grid , save_image\n",
    "\n",
    "import torch.optim as optim\n",
    "\n",
    "%matplotlib inline\n",
    "import matplotlib.pyplot as plt\n",
    "\n",
    "def show_and_save(img, file_name):\n",
    "    \"\"\"Show and save the image.\n",
    "    Args:\n",
    "        img (Tensor): The image.\n",
    "        file_name (Str): The destination.\n",
    "    \"\"\"\n",
    "    npimg = np.transpose(img.numpy(), (1, 2, 0))\n",
    "    f = \"./%s.png\" % file_name\n",
    "    plt.imshow(npimg, cmap='gray')\n",
    "    plt.show()\n",
    "    plt.imsave(f, npimg)\n",
    "\n",
    "def train(model, train_loader, n_epochs=20, lr=0.01):\n",
    "    \"\"\"Train a generative model.\n",
    "    Args:\n",
    "        model: The model.\n",
    "        train_loader (DataLoader): The data loader.\n",
    "        n_epochs (int, optional): The number of epochs. Defaults to 20.\n",
    "        lr (Float, optional): The learning rate. Defaults to 0.01.\n",
    "    Returns:\n",
    "        The trained model.\n",
    "    \"\"\"\n",
    "    train_op = optim.Adam(model.parameters(), lr)\n",
    "    model.train()\n",
    "    for epoch in tqdm(range(n_epochs)):\n",
    "        loss_ = []\n",
    "        for _, (data, target) in enumerate(train_loader):\n",
    "            loss = model.get_loss(data.view(-1, 784))\n",
    "            loss_.append(loss.item())\n",
    "            train_op.zero_grad()\n",
    "            loss.backward()\n",
    "            train_op.step()\n",
    "        print('Epoch %d\\t Loss=%.4f' % (epoch, np.mean(loss_)))\n",
    "    return model\n",
    "\n",
    "def train_vae2(model, train_loader, n_epochs=20, lr=0.01):\n",
    "    \"\"\"Train a generative model.\n",
    "    Args:\n",
    "        model: The model.\n",
    "        train_loader (DataLoader): The data loader.\n",
    "        n_epochs (int, optional): The number of epochs. Defaults to 20.\n",
    "        lr (Float, optional): The learning rate. Defaults to 0.01.\n",
    "    Returns:\n",
    "        The trained model.\n",
    "    \"\"\"\n",
    "    train_op = optim.Adam(model.parameters(), lr)\n",
    "    model.train()\n",
    "    for epoch in tqdm(range(n_epochs)):\n",
    "        loss_ = []\n",
    "        for _, (data, target) in enumerate(train_loader):\n",
    "            loss = model.get_loss(data)\n",
    "            loss_.append(loss.item())\n",
    "            train_op.zero_grad()\n",
    "            loss.backward()\n",
    "            train_op.step()\n",
    "        print('Epoch %d\\t Loss=%.4f' % (epoch, np.mean(loss_)))\n",
    "    return model\n",
    "\n",
    "seed = 2025\n",
    "torch.manual_seed(seed)\n",
    "np.random.seed(seed)\n",
    "random.seed(seed)"
   ]
  },
  {
   "cell_type": "markdown",
   "id": "adc417af-6fcd-4490-a295-41b3ed7e209a",
   "metadata": {},
   "source": [
    "# RBM"
   ]
  },
  {
   "cell_type": "code",
   "execution_count": 22,
   "id": "83c90b04-ad6a-4dd2-a5f8-39c453b677d0",
   "metadata": {
    "deletable": false,
    "nbgrader": {
     "cell_type": "code",
     "checksum": "e6895e4710197a262c6f1cde9fffb8c6",
     "grade": false,
     "grade_id": "cell-a115f9a5b84bea3d",
     "locked": false,
     "schema_version": 3,
     "solution": true,
     "task": false
    }
   },
   "outputs": [],
   "source": [
    "class RBM(nn.Module):\n",
    "    \"\"\"Restricted Boltzmann Machine.\n",
    "    Args:\n",
    "        n_vis (int, optional): The size of visible layer. Defaults to 784.\n",
    "        n_hid (int, optional): The size of hidden layer. Defaults to 128.\n",
    "        k (int, optional): The number of Gibbs sampling. Defaults to 1.\n",
    "    \"\"\"\n",
    "\n",
    "    def __init__(self, n_vis=784, n_hid=128, k=1):\n",
    "        \"\"\"Create a RBM.\"\"\"\n",
    "        super(RBM, self).__init__()\n",
    "        self.v = nn.Parameter(torch.randn(1, n_vis))\n",
    "        self.h = nn.Parameter(torch.randn(1, n_hid))\n",
    "        self.W = nn.Parameter(torch.randn(n_hid, n_vis))\n",
    "        self.k = k\n",
    "\n",
    "    def visible_to_hidden(self, v):\n",
    "        r\"\"\"Conditional sampling a hidden variable given a visible variable.\n",
    "        Args:\n",
    "            v (Tensor): The visible variable.\n",
    "        Returns:\n",
    "            Tensor: The hidden variable.\n",
    "        \"\"\"\n",
    "        p = torch.sigmoid(F.linear(v, self.W, self.h))\n",
    "        return p.bernoulli()\n",
    "\n",
    "    def hidden_to_visible(self, h):\n",
    "        r\"\"\"Conditional sampling a visible variable given a hidden variable.\n",
    "        Args:\n",
    "            h (Tendor): The hidden variable.\n",
    "        Returns:\n",
    "            Tensor: The visible variable.\n",
    "        \"\"\"\n",
    "        p = torch.sigmoid(F.linear(h, self.W.t(), self.v))\n",
    "        return p.bernoulli()\n",
    "\n",
    "    def free_energy(self, v, reduction=\"mean\"):\n",
    "        r\"\"\"Free energy function.\n",
    "        .. math::\n",
    "            \\begin{align}\n",
    "                F(x) &= -\\log \\sum_h \\exp (-E(x, h)) \\\\\n",
    "                &= -a^\\top x - \\sum_j \\log (1 + \\exp(W^{\\top}_jx + b_j))\\,.\n",
    "            \\end{align}\n",
    "        Args:\n",
    "            v (Tensor): The visible variable.\n",
    "        Returns:\n",
    "            energy (FloatTensor): The free energy value.\n",
    "        \"\"\"\n",
    "        energy = -F.linear(v, self.v).sum(-1)\n",
    "        energy -= F.softplus(F.linear(v, self.W, self.h)).sum(-1)\n",
    "        if reduction == \"none\":\n",
    "            return energy.squeeze(-1)\n",
    "        elif reduction == \"mean\":\n",
    "            return torch.mean(energy)\n",
    "\n",
    "    def forward(self, v):\n",
    "        r\"\"\"Compute the real and generated examples.\n",
    "        Args:\n",
    "            v (Tensor): The visible variable.\n",
    "        Returns:\n",
    "            (Tensor, Tensor): The real and generated variables.\n",
    "        \"\"\"\n",
    "        v_gibb = v.clone()\n",
    "        for _ in range(self.k):\n",
    "            h = self.visible_to_hidden(v_gibb)\n",
    "            v_gibb = self.hidden_to_visible(h)\n",
    "        return v, v_gibb\n",
    "\n",
    "    def get_loss(self, inputs):\n",
    "        r\"\"\"Compute the loss for training the model.\n",
    "        Args:\n",
    "            inputs (Tensor): The visible variable.\n",
    "        Returns:\n",
    "            Tensor: Loss.\n",
    "        \"\"\"\n",
    "        v, v_gibb = self(inputs)\n",
    "        # print(v.shape)\n",
    "        # print(v_gibb.shape)\n",
    "        # print(inputs.shape)\n",
    "        loss = self.free_energy(v) - self.free_energy(v_gibb)\n",
    "        return loss\n",
    "\n",
    "    @torch.no_grad()\n",
    "    def pseudo_likelihood(self, v):\n",
    "        \"\"\"DO NOT MODIFY THIS FUNCTION\"\"\"\n",
    "        # Randomly corrupt one feature in each sample in v.\n",
    "        ind = (np.arange(v.shape[0]), np.random.randint(0, v.shape[1], v.shape[0]))\n",
    "        v_ = v.clone()\n",
    "        v_[ind] = 1 - v_[ind]\n",
    "        fe = self.free_energy(v, reduction=\"none\")\n",
    "        fe_ = self.free_energy(v_, reduction=\"none\")\n",
    "        m = torch.nn.LogSigmoid()\n",
    "        score = v.shape[1] * m(fe_ - fe)\n",
    "        return score"
   ]
  },
  {
   "cell_type": "code",
   "execution_count": 23,
   "id": "b57b770e-271b-426d-b37c-ce6811fe1bef",
   "metadata": {
    "deletable": false,
    "editable": false,
    "nbgrader": {
     "cell_type": "code",
     "checksum": "92d1054d49732842c237c434efbf37db",
     "grade": false,
     "grade_id": "cell-44279e0aa138e8ec",
     "locked": true,
     "schema_version": 3,
     "solution": false,
     "task": false
    }
   },
   "outputs": [],
   "source": [
    "# DO NOT MODIFY\n",
    "train_dataset = datasets.MNIST(\n",
    "    \"./data\",\n",
    "    train=True,\n",
    "    download=True,\n",
    "    transform=transforms.Compose([transforms.ToTensor(), lambda x: (x > 0).float()]),\n",
    ")\n",
    "test_dataset = datasets.MNIST(\n",
    "    \"./data\",\n",
    "    train=False,\n",
    "    transform=transforms.Compose([transforms.ToTensor(), lambda x: (x > 0).float()]),\n",
    ")\n",
    "\n",
    "batch_size = 128\n",
    "n_hid = 128\n",
    "n_vis = 784\n",
    "n_epochs = 20\n",
    "lr = 0.01\n",
    "rbm_ckpt_fn = \"model_rbm_seed2025.pt\"\n",
    "\n",
    "train_loader = torch.utils.data.DataLoader(train_dataset, batch_size=batch_size)\n",
    "test_loader = torch.utils.data.DataLoader(test_dataset, batch_size=batch_size)"
   ]
  },
  {
   "cell_type": "code",
   "execution_count": 5,
   "id": "59a91a6e-6391-4169-8700-2124d8560c80",
   "metadata": {
    "deletable": false,
    "editable": false,
    "nbgrader": {
     "cell_type": "code",
     "checksum": "e83b312a3dc556a4e1992c3ff6c7702a",
     "grade": true,
     "grade_id": "rbm_test",
     "locked": true,
     "points": 15,
     "schema_version": 3,
     "solution": false,
     "task": false
    }
   },
   "outputs": [
    {
     "name": "stderr",
     "output_type": "stream",
     "text": [
      "  0%|          | 0/20 [00:04<?, ?it/s]\n"
     ]
    },
    {
     "ename": "KeyboardInterrupt",
     "evalue": "",
     "output_type": "error",
     "traceback": [
      "\u001b[1;31m---------------------------------------------------------------------------\u001b[0m",
      "\u001b[1;31mKeyboardInterrupt\u001b[0m                         Traceback (most recent call last)",
      "Cell \u001b[1;32mIn[5], line 5\u001b[0m\n\u001b[0;32m      3\u001b[0m \u001b[38;5;28;01mif\u001b[39;00m \u001b[38;5;129;01mnot\u001b[39;00m os\u001b[38;5;241m.\u001b[39mpath\u001b[38;5;241m.\u001b[39mexists(rbm_ckpt_fn):\n\u001b[0;32m      4\u001b[0m     model_rbm \u001b[38;5;241m=\u001b[39m RBM(n_vis\u001b[38;5;241m=\u001b[39mn_vis, n_hid\u001b[38;5;241m=\u001b[39mn_hid, k\u001b[38;5;241m=\u001b[39m\u001b[38;5;241m1\u001b[39m)\n\u001b[1;32m----> 5\u001b[0m     model_rbm \u001b[38;5;241m=\u001b[39m \u001b[43mtrain\u001b[49m\u001b[43m(\u001b[49m\u001b[43mmodel_rbm\u001b[49m\u001b[43m,\u001b[49m\u001b[43m \u001b[49m\u001b[43mtrain_loader\u001b[49m\u001b[43m,\u001b[49m\u001b[43m \u001b[49m\u001b[43mn_epochs\u001b[49m\u001b[38;5;241;43m=\u001b[39;49m\u001b[43mn_epochs\u001b[49m\u001b[43m,\u001b[49m\u001b[43m \u001b[49m\u001b[43mlr\u001b[49m\u001b[38;5;241;43m=\u001b[39;49m\u001b[43mlr\u001b[49m\u001b[43m)\u001b[49m\n\u001b[0;32m      6\u001b[0m     \u001b[38;5;66;03m# save model, do not change the filename.\u001b[39;00m\n\u001b[0;32m      7\u001b[0m     torch\u001b[38;5;241m.\u001b[39msave(model_rbm\u001b[38;5;241m.\u001b[39mstate_dict(), rbm_ckpt_fn)\n",
      "Cell \u001b[1;32mIn[2], line 46\u001b[0m, in \u001b[0;36mtrain\u001b[1;34m(model, train_loader, n_epochs, lr)\u001b[0m\n\u001b[0;32m     44\u001b[0m loss_ \u001b[38;5;241m=\u001b[39m []\n\u001b[0;32m     45\u001b[0m \u001b[38;5;28;01mfor\u001b[39;00m _, (data, target) \u001b[38;5;129;01min\u001b[39;00m \u001b[38;5;28menumerate\u001b[39m(train_loader):\n\u001b[1;32m---> 46\u001b[0m     loss \u001b[38;5;241m=\u001b[39m \u001b[43mmodel\u001b[49m\u001b[38;5;241;43m.\u001b[39;49m\u001b[43mget_loss\u001b[49m\u001b[43m(\u001b[49m\u001b[43mdata\u001b[49m\u001b[38;5;241;43m.\u001b[39;49m\u001b[43mview\u001b[49m\u001b[43m(\u001b[49m\u001b[38;5;241;43m-\u001b[39;49m\u001b[38;5;241;43m1\u001b[39;49m\u001b[43m,\u001b[49m\u001b[43m \u001b[49m\u001b[38;5;241;43m784\u001b[39;49m\u001b[43m)\u001b[49m\u001b[43m)\u001b[49m\n\u001b[0;32m     47\u001b[0m     loss_\u001b[38;5;241m.\u001b[39mappend(loss\u001b[38;5;241m.\u001b[39mitem())\n\u001b[0;32m     48\u001b[0m     train_op\u001b[38;5;241m.\u001b[39mzero_grad()\n",
      "Cell \u001b[1;32mIn[3], line 80\u001b[0m, in \u001b[0;36mRBM.get_loss\u001b[1;34m(self, inputs)\u001b[0m\n\u001b[0;32m     76\u001b[0m v, v_gibb \u001b[38;5;241m=\u001b[39m \u001b[38;5;28mself\u001b[39m(inputs)\n\u001b[0;32m     77\u001b[0m \u001b[38;5;66;03m# print(v.shape)\u001b[39;00m\n\u001b[0;32m     78\u001b[0m \u001b[38;5;66;03m# print(v_gibb.shape)\u001b[39;00m\n\u001b[0;32m     79\u001b[0m \u001b[38;5;66;03m# print(inputs.shape)\u001b[39;00m\n\u001b[1;32m---> 80\u001b[0m loss \u001b[38;5;241m=\u001b[39m \u001b[38;5;28;43mself\u001b[39;49m\u001b[38;5;241;43m.\u001b[39;49m\u001b[43mfree_energy\u001b[49m\u001b[43m(\u001b[49m\u001b[43mv\u001b[49m\u001b[43m)\u001b[49m \u001b[38;5;241m-\u001b[39m \u001b[38;5;28mself\u001b[39m\u001b[38;5;241m.\u001b[39mfree_energy(v_gibb)\n\u001b[0;32m     81\u001b[0m \u001b[38;5;28;01mreturn\u001b[39;00m loss\n",
      "Cell \u001b[1;32mIn[3], line 49\u001b[0m, in \u001b[0;36mRBM.free_energy\u001b[1;34m(self, v, reduction)\u001b[0m\n\u001b[0;32m     37\u001b[0m \u001b[38;5;28;01mdef\u001b[39;00m \u001b[38;5;21mfree_energy\u001b[39m(\u001b[38;5;28mself\u001b[39m, v, reduction\u001b[38;5;241m=\u001b[39m\u001b[38;5;124m\"\u001b[39m\u001b[38;5;124mmean\u001b[39m\u001b[38;5;124m\"\u001b[39m):\n\u001b[0;32m     38\u001b[0m \u001b[38;5;250m    \u001b[39m\u001b[38;5;124mr\u001b[39m\u001b[38;5;124;03m\"\"\"Free energy function.\u001b[39;00m\n\u001b[0;32m     39\u001b[0m \u001b[38;5;124;03m    .. math::\u001b[39;00m\n\u001b[0;32m     40\u001b[0m \u001b[38;5;124;03m        \\begin{align}\u001b[39;00m\n\u001b[1;32m   (...)\u001b[0m\n\u001b[0;32m     47\u001b[0m \u001b[38;5;124;03m        energy (FloatTensor): The free energy value.\u001b[39;00m\n\u001b[0;32m     48\u001b[0m \u001b[38;5;124;03m    \"\"\"\u001b[39;00m\n\u001b[1;32m---> 49\u001b[0m     energy \u001b[38;5;241m=\u001b[39m \u001b[38;5;241m-\u001b[39m\u001b[43mF\u001b[49m\u001b[38;5;241;43m.\u001b[39;49m\u001b[43mlinear\u001b[49m\u001b[43m(\u001b[49m\u001b[43mv\u001b[49m\u001b[43m,\u001b[49m\u001b[43m \u001b[49m\u001b[38;5;28;43mself\u001b[39;49m\u001b[38;5;241;43m.\u001b[39;49m\u001b[43mv\u001b[49m\u001b[43m)\u001b[49m\u001b[38;5;241;43m.\u001b[39;49m\u001b[43msum\u001b[49m\u001b[43m(\u001b[49m\u001b[38;5;241;43m-\u001b[39;49m\u001b[38;5;241;43m1\u001b[39;49m\u001b[43m)\u001b[49m\n\u001b[0;32m     50\u001b[0m     energy \u001b[38;5;241m-\u001b[39m\u001b[38;5;241m=\u001b[39m F\u001b[38;5;241m.\u001b[39msoftplus(F\u001b[38;5;241m.\u001b[39mlinear(v, \u001b[38;5;28mself\u001b[39m\u001b[38;5;241m.\u001b[39mW, \u001b[38;5;28mself\u001b[39m\u001b[38;5;241m.\u001b[39mh))\u001b[38;5;241m.\u001b[39msum(\u001b[38;5;241m-\u001b[39m\u001b[38;5;241m1\u001b[39m)\n\u001b[0;32m     51\u001b[0m     \u001b[38;5;28;01mif\u001b[39;00m reduction \u001b[38;5;241m==\u001b[39m \u001b[38;5;124m\"\u001b[39m\u001b[38;5;124mnone\u001b[39m\u001b[38;5;124m\"\u001b[39m:\n",
      "\u001b[1;31mKeyboardInterrupt\u001b[0m: "
     ]
    }
   ],
   "source": [
    "# You can try different k for the report, but use k=1 when submitting the checkpoint\n",
    "# Do not modify other parts of this cell\n",
    "if not os.path.exists(rbm_ckpt_fn):\n",
    "    model_rbm = RBM(n_vis=n_vis, n_hid=n_hid, k=1)\n",
    "    model_rbm = train(model_rbm, train_loader, n_epochs=n_epochs, lr=lr)\n",
    "    # save model, do not change the filename.\n",
    "    torch.save(model_rbm.state_dict(), rbm_ckpt_fn)"
   ]
  },
  {
   "cell_type": "code",
   "execution_count": null,
   "id": "27ee2cbe-72fb-4ef7-b027-2e2eca8e3ae5",
   "metadata": {
    "deletable": false,
    "editable": false,
    "nbgrader": {
     "cell_type": "code",
     "checksum": "76000605d733016944bab8a6d4609fc0",
     "grade": false,
     "grade_id": "cell-a4481f9a79590026",
     "locked": true,
     "schema_version": 3,
     "solution": false,
     "task": false
    }
   },
   "outputs": [
    {
     "name": "stderr",
     "output_type": "stream",
     "text": [
      "  5%|▌         | 1/20 [00:30<09:35, 30.30s/it]"
     ]
    },
    {
     "name": "stdout",
     "output_type": "stream",
     "text": [
      "Epoch 0\t Loss=144.4315\n"
     ]
    },
    {
     "name": "stderr",
     "output_type": "stream",
     "text": [
      "  5%|▌         | 1/20 [00:54<17:14, 54.46s/it]\n"
     ]
    },
    {
     "ename": "KeyboardInterrupt",
     "evalue": "",
     "output_type": "error",
     "traceback": [
      "\u001b[1;31m---------------------------------------------------------------------------\u001b[0m",
      "\u001b[1;31mKeyboardInterrupt\u001b[0m                         Traceback (most recent call last)",
      "Cell \u001b[1;32mIn[172], line 3\u001b[0m\n\u001b[0;32m      1\u001b[0m \u001b[38;5;66;03m# You can use the following code to visualize reconstructed samples\u001b[39;00m\n\u001b[0;32m      2\u001b[0m model_rbm \u001b[38;5;241m=\u001b[39m RBM(n_vis\u001b[38;5;241m=\u001b[39mn_vis, n_hid\u001b[38;5;241m=\u001b[39mn_hid, k\u001b[38;5;241m=\u001b[39m\u001b[38;5;241m25\u001b[39m)\n\u001b[1;32m----> 3\u001b[0m model_rbm \u001b[38;5;241m=\u001b[39m \u001b[43mtrain\u001b[49m\u001b[43m(\u001b[49m\u001b[43mmodel_rbm\u001b[49m\u001b[43m,\u001b[49m\u001b[43m \u001b[49m\u001b[43mtrain_loader\u001b[49m\u001b[43m,\u001b[49m\u001b[43m \u001b[49m\u001b[43mn_epochs\u001b[49m\u001b[38;5;241;43m=\u001b[39;49m\u001b[43mn_epochs\u001b[49m\u001b[43m,\u001b[49m\u001b[43m \u001b[49m\u001b[43mlr\u001b[49m\u001b[38;5;241;43m=\u001b[39;49m\u001b[43mlr\u001b[49m\u001b[43m)\u001b[49m\n\u001b[0;32m      5\u001b[0m model_rbm\u001b[38;5;241m.\u001b[39meval()\n\u001b[0;32m      7\u001b[0m vis_loader \u001b[38;5;241m=\u001b[39m torch\u001b[38;5;241m.\u001b[39mutils\u001b[38;5;241m.\u001b[39mdata\u001b[38;5;241m.\u001b[39mDataLoader(test_dataset, batch_size\u001b[38;5;241m=\u001b[39m\u001b[38;5;241m64\u001b[39m)\n",
      "Cell \u001b[1;32mIn[168], line 45\u001b[0m, in \u001b[0;36mtrain\u001b[1;34m(model, train_loader, n_epochs, lr)\u001b[0m\n\u001b[0;32m     43\u001b[0m \u001b[38;5;28;01mfor\u001b[39;00m epoch \u001b[38;5;129;01min\u001b[39;00m tqdm(\u001b[38;5;28mrange\u001b[39m(n_epochs)):\n\u001b[0;32m     44\u001b[0m     loss_ \u001b[38;5;241m=\u001b[39m []\n\u001b[1;32m---> 45\u001b[0m     \u001b[38;5;28;01mfor\u001b[39;00m _, (data, target) \u001b[38;5;129;01min\u001b[39;00m \u001b[38;5;28menumerate\u001b[39m(train_loader):\n\u001b[0;32m     46\u001b[0m         loss \u001b[38;5;241m=\u001b[39m model\u001b[38;5;241m.\u001b[39mget_loss(data\u001b[38;5;241m.\u001b[39mview(\u001b[38;5;241m-\u001b[39m\u001b[38;5;241m1\u001b[39m, \u001b[38;5;241m784\u001b[39m))\n\u001b[0;32m     47\u001b[0m         loss_\u001b[38;5;241m.\u001b[39mappend(loss\u001b[38;5;241m.\u001b[39mitem())\n",
      "File \u001b[1;32mc:\\Users\\Jane\\AppData\\Local\\Programs\\Python\\Python39\\lib\\site-packages\\torch\\utils\\data\\dataloader.py:628\u001b[0m, in \u001b[0;36m_BaseDataLoaderIter.__next__\u001b[1;34m(self)\u001b[0m\n\u001b[0;32m    625\u001b[0m \u001b[38;5;28;01mif\u001b[39;00m \u001b[38;5;28mself\u001b[39m\u001b[38;5;241m.\u001b[39m_sampler_iter \u001b[38;5;129;01mis\u001b[39;00m \u001b[38;5;28;01mNone\u001b[39;00m:\n\u001b[0;32m    626\u001b[0m     \u001b[38;5;66;03m# TODO(https://github.com/pytorch/pytorch/issues/76750)\u001b[39;00m\n\u001b[0;32m    627\u001b[0m     \u001b[38;5;28mself\u001b[39m\u001b[38;5;241m.\u001b[39m_reset()  \u001b[38;5;66;03m# type: ignore[call-arg]\u001b[39;00m\n\u001b[1;32m--> 628\u001b[0m data \u001b[38;5;241m=\u001b[39m \u001b[38;5;28;43mself\u001b[39;49m\u001b[38;5;241;43m.\u001b[39;49m\u001b[43m_next_data\u001b[49m\u001b[43m(\u001b[49m\u001b[43m)\u001b[49m\n\u001b[0;32m    629\u001b[0m \u001b[38;5;28mself\u001b[39m\u001b[38;5;241m.\u001b[39m_num_yielded \u001b[38;5;241m+\u001b[39m\u001b[38;5;241m=\u001b[39m \u001b[38;5;241m1\u001b[39m\n\u001b[0;32m    630\u001b[0m \u001b[38;5;28;01mif\u001b[39;00m \u001b[38;5;28mself\u001b[39m\u001b[38;5;241m.\u001b[39m_dataset_kind \u001b[38;5;241m==\u001b[39m _DatasetKind\u001b[38;5;241m.\u001b[39mIterable \u001b[38;5;129;01mand\u001b[39;00m \\\n\u001b[0;32m    631\u001b[0m         \u001b[38;5;28mself\u001b[39m\u001b[38;5;241m.\u001b[39m_IterableDataset_len_called \u001b[38;5;129;01mis\u001b[39;00m \u001b[38;5;129;01mnot\u001b[39;00m \u001b[38;5;28;01mNone\u001b[39;00m \u001b[38;5;129;01mand\u001b[39;00m \\\n\u001b[0;32m    632\u001b[0m         \u001b[38;5;28mself\u001b[39m\u001b[38;5;241m.\u001b[39m_num_yielded \u001b[38;5;241m>\u001b[39m \u001b[38;5;28mself\u001b[39m\u001b[38;5;241m.\u001b[39m_IterableDataset_len_called:\n",
      "File \u001b[1;32mc:\\Users\\Jane\\AppData\\Local\\Programs\\Python\\Python39\\lib\\site-packages\\torch\\utils\\data\\dataloader.py:671\u001b[0m, in \u001b[0;36m_SingleProcessDataLoaderIter._next_data\u001b[1;34m(self)\u001b[0m\n\u001b[0;32m    669\u001b[0m \u001b[38;5;28;01mdef\u001b[39;00m \u001b[38;5;21m_next_data\u001b[39m(\u001b[38;5;28mself\u001b[39m):\n\u001b[0;32m    670\u001b[0m     index \u001b[38;5;241m=\u001b[39m \u001b[38;5;28mself\u001b[39m\u001b[38;5;241m.\u001b[39m_next_index()  \u001b[38;5;66;03m# may raise StopIteration\u001b[39;00m\n\u001b[1;32m--> 671\u001b[0m     data \u001b[38;5;241m=\u001b[39m \u001b[38;5;28;43mself\u001b[39;49m\u001b[38;5;241;43m.\u001b[39;49m\u001b[43m_dataset_fetcher\u001b[49m\u001b[38;5;241;43m.\u001b[39;49m\u001b[43mfetch\u001b[49m\u001b[43m(\u001b[49m\u001b[43mindex\u001b[49m\u001b[43m)\u001b[49m  \u001b[38;5;66;03m# may raise StopIteration\u001b[39;00m\n\u001b[0;32m    672\u001b[0m     \u001b[38;5;28;01mif\u001b[39;00m \u001b[38;5;28mself\u001b[39m\u001b[38;5;241m.\u001b[39m_pin_memory:\n\u001b[0;32m    673\u001b[0m         data \u001b[38;5;241m=\u001b[39m _utils\u001b[38;5;241m.\u001b[39mpin_memory\u001b[38;5;241m.\u001b[39mpin_memory(data, \u001b[38;5;28mself\u001b[39m\u001b[38;5;241m.\u001b[39m_pin_memory_device)\n",
      "File \u001b[1;32mc:\\Users\\Jane\\AppData\\Local\\Programs\\Python\\Python39\\lib\\site-packages\\torch\\utils\\data\\_utils\\fetch.py:58\u001b[0m, in \u001b[0;36m_MapDatasetFetcher.fetch\u001b[1;34m(self, possibly_batched_index)\u001b[0m\n\u001b[0;32m     56\u001b[0m         data \u001b[38;5;241m=\u001b[39m \u001b[38;5;28mself\u001b[39m\u001b[38;5;241m.\u001b[39mdataset\u001b[38;5;241m.\u001b[39m__getitems__(possibly_batched_index)\n\u001b[0;32m     57\u001b[0m     \u001b[38;5;28;01melse\u001b[39;00m:\n\u001b[1;32m---> 58\u001b[0m         data \u001b[38;5;241m=\u001b[39m [\u001b[38;5;28mself\u001b[39m\u001b[38;5;241m.\u001b[39mdataset[idx] \u001b[38;5;28;01mfor\u001b[39;00m idx \u001b[38;5;129;01min\u001b[39;00m possibly_batched_index]\n\u001b[0;32m     59\u001b[0m \u001b[38;5;28;01melse\u001b[39;00m:\n\u001b[0;32m     60\u001b[0m     data \u001b[38;5;241m=\u001b[39m \u001b[38;5;28mself\u001b[39m\u001b[38;5;241m.\u001b[39mdataset[possibly_batched_index]\n",
      "File \u001b[1;32mc:\\Users\\Jane\\AppData\\Local\\Programs\\Python\\Python39\\lib\\site-packages\\torch\\utils\\data\\_utils\\fetch.py:58\u001b[0m, in \u001b[0;36m<listcomp>\u001b[1;34m(.0)\u001b[0m\n\u001b[0;32m     56\u001b[0m         data \u001b[38;5;241m=\u001b[39m \u001b[38;5;28mself\u001b[39m\u001b[38;5;241m.\u001b[39mdataset\u001b[38;5;241m.\u001b[39m__getitems__(possibly_batched_index)\n\u001b[0;32m     57\u001b[0m     \u001b[38;5;28;01melse\u001b[39;00m:\n\u001b[1;32m---> 58\u001b[0m         data \u001b[38;5;241m=\u001b[39m [\u001b[38;5;28;43mself\u001b[39;49m\u001b[38;5;241;43m.\u001b[39;49m\u001b[43mdataset\u001b[49m\u001b[43m[\u001b[49m\u001b[43midx\u001b[49m\u001b[43m]\u001b[49m \u001b[38;5;28;01mfor\u001b[39;00m idx \u001b[38;5;129;01min\u001b[39;00m possibly_batched_index]\n\u001b[0;32m     59\u001b[0m \u001b[38;5;28;01melse\u001b[39;00m:\n\u001b[0;32m     60\u001b[0m     data \u001b[38;5;241m=\u001b[39m \u001b[38;5;28mself\u001b[39m\u001b[38;5;241m.\u001b[39mdataset[possibly_batched_index]\n",
      "File \u001b[1;32mc:\\Users\\Jane\\AppData\\Local\\Programs\\Python\\Python39\\lib\\site-packages\\torchvision\\datasets\\mnist.py:145\u001b[0m, in \u001b[0;36mMNIST.__getitem__\u001b[1;34m(self, index)\u001b[0m\n\u001b[0;32m    142\u001b[0m img \u001b[38;5;241m=\u001b[39m Image\u001b[38;5;241m.\u001b[39mfromarray(img\u001b[38;5;241m.\u001b[39mnumpy(), mode\u001b[38;5;241m=\u001b[39m\u001b[38;5;124m\"\u001b[39m\u001b[38;5;124mL\u001b[39m\u001b[38;5;124m\"\u001b[39m)\n\u001b[0;32m    144\u001b[0m \u001b[38;5;28;01mif\u001b[39;00m \u001b[38;5;28mself\u001b[39m\u001b[38;5;241m.\u001b[39mtransform \u001b[38;5;129;01mis\u001b[39;00m \u001b[38;5;129;01mnot\u001b[39;00m \u001b[38;5;28;01mNone\u001b[39;00m:\n\u001b[1;32m--> 145\u001b[0m     img \u001b[38;5;241m=\u001b[39m \u001b[38;5;28;43mself\u001b[39;49m\u001b[38;5;241;43m.\u001b[39;49m\u001b[43mtransform\u001b[49m\u001b[43m(\u001b[49m\u001b[43mimg\u001b[49m\u001b[43m)\u001b[49m\n\u001b[0;32m    147\u001b[0m \u001b[38;5;28;01mif\u001b[39;00m \u001b[38;5;28mself\u001b[39m\u001b[38;5;241m.\u001b[39mtarget_transform \u001b[38;5;129;01mis\u001b[39;00m \u001b[38;5;129;01mnot\u001b[39;00m \u001b[38;5;28;01mNone\u001b[39;00m:\n\u001b[0;32m    148\u001b[0m     target \u001b[38;5;241m=\u001b[39m \u001b[38;5;28mself\u001b[39m\u001b[38;5;241m.\u001b[39mtarget_transform(target)\n",
      "File \u001b[1;32mc:\\Users\\Jane\\AppData\\Local\\Programs\\Python\\Python39\\lib\\site-packages\\torchvision\\transforms\\transforms.py:95\u001b[0m, in \u001b[0;36mCompose.__call__\u001b[1;34m(self, img)\u001b[0m\n\u001b[0;32m     93\u001b[0m \u001b[38;5;28;01mdef\u001b[39;00m \u001b[38;5;21m__call__\u001b[39m(\u001b[38;5;28mself\u001b[39m, img):\n\u001b[0;32m     94\u001b[0m     \u001b[38;5;28;01mfor\u001b[39;00m t \u001b[38;5;129;01min\u001b[39;00m \u001b[38;5;28mself\u001b[39m\u001b[38;5;241m.\u001b[39mtransforms:\n\u001b[1;32m---> 95\u001b[0m         img \u001b[38;5;241m=\u001b[39m \u001b[43mt\u001b[49m\u001b[43m(\u001b[49m\u001b[43mimg\u001b[49m\u001b[43m)\u001b[49m\n\u001b[0;32m     96\u001b[0m     \u001b[38;5;28;01mreturn\u001b[39;00m img\n",
      "File \u001b[1;32mc:\\Users\\Jane\\AppData\\Local\\Programs\\Python\\Python39\\lib\\site-packages\\torchvision\\transforms\\transforms.py:135\u001b[0m, in \u001b[0;36mToTensor.__call__\u001b[1;34m(self, pic)\u001b[0m\n\u001b[0;32m    127\u001b[0m \u001b[38;5;28;01mdef\u001b[39;00m \u001b[38;5;21m__call__\u001b[39m(\u001b[38;5;28mself\u001b[39m, pic):\n\u001b[0;32m    128\u001b[0m \u001b[38;5;250m    \u001b[39m\u001b[38;5;124;03m\"\"\"\u001b[39;00m\n\u001b[0;32m    129\u001b[0m \u001b[38;5;124;03m    Args:\u001b[39;00m\n\u001b[0;32m    130\u001b[0m \u001b[38;5;124;03m        pic (PIL Image or numpy.ndarray): Image to be converted to tensor.\u001b[39;00m\n\u001b[1;32m   (...)\u001b[0m\n\u001b[0;32m    133\u001b[0m \u001b[38;5;124;03m        Tensor: Converted image.\u001b[39;00m\n\u001b[0;32m    134\u001b[0m \u001b[38;5;124;03m    \"\"\"\u001b[39;00m\n\u001b[1;32m--> 135\u001b[0m     \u001b[38;5;28;01mreturn\u001b[39;00m \u001b[43mF\u001b[49m\u001b[38;5;241;43m.\u001b[39;49m\u001b[43mto_tensor\u001b[49m\u001b[43m(\u001b[49m\u001b[43mpic\u001b[49m\u001b[43m)\u001b[49m\n",
      "File \u001b[1;32mc:\\Users\\Jane\\AppData\\Local\\Programs\\Python\\Python39\\lib\\site-packages\\torchvision\\transforms\\functional.py:171\u001b[0m, in \u001b[0;36mto_tensor\u001b[1;34m(pic)\u001b[0m\n\u001b[0;32m    169\u001b[0m img \u001b[38;5;241m=\u001b[39m img\u001b[38;5;241m.\u001b[39mpermute((\u001b[38;5;241m2\u001b[39m, \u001b[38;5;241m0\u001b[39m, \u001b[38;5;241m1\u001b[39m))\u001b[38;5;241m.\u001b[39mcontiguous()\n\u001b[0;32m    170\u001b[0m \u001b[38;5;28;01mif\u001b[39;00m \u001b[38;5;28misinstance\u001b[39m(img, torch\u001b[38;5;241m.\u001b[39mByteTensor):\n\u001b[1;32m--> 171\u001b[0m     \u001b[38;5;28;01mreturn\u001b[39;00m \u001b[43mimg\u001b[49m\u001b[38;5;241;43m.\u001b[39;49m\u001b[43mto\u001b[49m\u001b[43m(\u001b[49m\u001b[43mdtype\u001b[49m\u001b[38;5;241;43m=\u001b[39;49m\u001b[43mdefault_float_dtype\u001b[49m\u001b[43m)\u001b[49m\u001b[38;5;241;43m.\u001b[39;49m\u001b[43mdiv\u001b[49m\u001b[43m(\u001b[49m\u001b[38;5;241;43m255\u001b[39;49m\u001b[43m)\u001b[49m\n\u001b[0;32m    172\u001b[0m \u001b[38;5;28;01melse\u001b[39;00m:\n\u001b[0;32m    173\u001b[0m     \u001b[38;5;28;01mreturn\u001b[39;00m img\n",
      "\u001b[1;31mKeyboardInterrupt\u001b[0m: "
     ]
    }
   ],
   "source": [
    "# You can use the following code to visualize reconstructed samples\n",
    "# model_rbm = RBM(n_vis=n_vis, n_hid=n_hid, k=25)\n",
    "# model_rbm = train(model_rbm, train_loader, n_epochs=n_epochs, lr=lr)\n",
    "\n",
    "model_rbm.eval()\n",
    "\n",
    "vis_loader = torch.utils.data.DataLoader(test_dataset, batch_size=64)\n",
    "\n",
    "images = next(iter(vis_loader))[0]\n",
    "\n",
    "v, v_gibbs = model_rbm(images.view(-1, 784))\n",
    "\n",
    "show_and_save(make_grid(v_gibbs.view(64, 1, 28, 28).data), \"rbm_fake\")"
   ]
  },
  {
   "cell_type": "markdown",
   "id": "f2cb6e4f-90f3-4e70-a8dc-bfaf58c15753",
   "metadata": {},
   "source": [
    "# VAE"
   ]
  },
  {
   "cell_type": "code",
   "execution_count": 24,
   "id": "35fbb7f3-29d6-4c97-a791-70a1c2123996",
   "metadata": {
    "deletable": false,
    "nbgrader": {
     "cell_type": "code",
     "checksum": "0057c346f08f2c39f9c63405aa071c4d",
     "grade": false,
     "grade_id": "cell-bee2f38d108317bb",
     "locked": false,
     "schema_version": 3,
     "solution": true,
     "task": false
    }
   },
   "outputs": [],
   "source": [
    "class VAE(nn.Module):\n",
    "    def __init__(self, input_dim, hidden_dim, latent_dim):\n",
    "        super().__init__()\n",
    "        self.input_dim = input_dim\n",
    "        self.hidden_dim = hidden_dim\n",
    "        self.latent_dim = latent_dim\n",
    "        # Encoder\n",
    "        self.enc_lin = nn.Linear(input_dim, hidden_dim)\n",
    "        self.enc_mu = nn.Linear(hidden_dim, latent_dim)\n",
    "        self.enc_sigma = nn.Linear(hidden_dim, latent_dim)\n",
    "\n",
    "        # Decoder\n",
    "        self.dec_lin1 = nn.Linear(latent_dim, hidden_dim)\n",
    "        self.dec_lin2 = nn.Linear(hidden_dim, input_dim)\n",
    "\n",
    "    def encoding(self, x):\n",
    "        \"\"\"Encode inputs x.\n",
    "        Args:\n",
    "            x (Tensor): Inputs. Take Tanh as the enc_lin layer's non-linear activation function.\n",
    "        Returns:\n",
    "            (z_mu, z_sigma): Mean and log variance of latent variables z.\n",
    "        \"\"\"\n",
    "        # YOUR CODE HERE\n",
    "        z_mu = self.enc_mu(torch.tanh(self.enc_lin(x)))\n",
    "        z_sigma = self.enc_sigma(torch.tanh(self.enc_lin(x)))\n",
    "        return z_mu, z_sigma\n",
    "\n",
    "    def decoding(self, z):\n",
    "        \"\"\"Decode latent variable z into reconstructed data.\n",
    "        Two linear layers with Tanh as the middle layer's act func and Sigmoid as the output layer's act func.\n",
    "        Args:\n",
    "            z (Tensor): Inputs.\n",
    "        Returns:\n",
    "            x_hat: Reconstructed inputs.\n",
    "        \"\"\"\n",
    "        # YOUR CODE HERE\n",
    "        z = torch.tanh(self.dec_lin1(z))\n",
    "        z = F.sigmoid(self.dec_lin2(z))\n",
    "        return z\n",
    "\n",
    "    def forward(self, x):\n",
    "        \"\"\"Compute reconstructed inputs.\n",
    "        Args:\n",
    "            x (Tensor): Inputs.\n",
    "        Returns:\n",
    "            (x_hat, z_mu, z_sigma): Reconstructed inputs, mean and log variance of latent variables.\n",
    "        \"\"\"\n",
    "        # YOUR CODE HERE\n",
    "        z_mu, z_sigma = self.encoding(x)\n",
    "        z = z_mu + torch.randn_like(z_sigma) * torch.exp(0.5 * z_sigma)\n",
    "        x_hat = self.decoding(z)\n",
    "        return x_hat, z_mu, z_sigma\n",
    "\n",
    "    def get_loss(self, x):\n",
    "        \"\"\"Compute VAE loss.\n",
    "        Args:\n",
    "            x (Tensor): Inputs.\n",
    "        Returns:\n",
    "            loss (FloatTensor): reconstruction loss + KL loss\n",
    "        \"\"\"\n",
    "        x_hat, z_mu, z_sigma = self(x)\n",
    "        reconstruction_loss = F.mse_loss(x_hat, x, reduction='sum')\n",
    "        kl_loss = -0.5 * torch.sum(1 + z_sigma - z_mu.pow(2) - torch.exp(z_sigma))\n",
    "        return reconstruction_loss + kl_loss\n",
    "\n",
    "    @torch.no_grad()\n",
    "    def sample(self, n_samples, device):\n",
    "        random_z = torch.randn(n_samples, self.latent_dim).to(device)\n",
    "        x_hat = self.decoding(random_z)\n",
    "        return x_hat"
   ]
  },
  {
   "cell_type": "code",
   "execution_count": 25,
   "id": "afd29eaf-761d-4080-abdd-aa27dec94ee4",
   "metadata": {
    "deletable": false,
    "editable": false,
    "nbgrader": {
     "cell_type": "code",
     "checksum": "42abee4a99ef8fede7aac16bd1ec39fa",
     "grade": false,
     "grade_id": "cell-c3a0629f51ad80b1",
     "locked": true,
     "schema_version": 3,
     "solution": false,
     "task": false
    }
   },
   "outputs": [],
   "source": [
    "# DO NOT MODIFY\n",
    "train_dataset = datasets.MNIST(\n",
    "    \"./data\", train=True, transform=transforms.Compose([transforms.ToTensor()])\n",
    ")\n",
    "test_dataset = datasets.MNIST(\n",
    "    \"./data\", train=False, transform=transforms.Compose([transforms.ToTensor()])\n",
    ")\n",
    "\n",
    "batch_size = 128\n",
    "input_dim = 784\n",
    "hidden_dim = 500\n",
    "n_epochs = 40\n",
    "lr = 0.001\n",
    "vae_ckpt_fn = \"model_vae_seed2025.pt\"\n",
    "\n",
    "train_loader = torch.utils.data.DataLoader(\n",
    "    train_dataset, batch_size=batch_size, shuffle=True\n",
    ")\n",
    "test_loader = torch.utils.data.DataLoader(test_dataset, batch_size=batch_size)"
   ]
  },
  {
   "cell_type": "code",
   "execution_count": 26,
   "id": "50945f68-ee1c-4e68-84a1-3edec3b32590",
   "metadata": {
    "deletable": false,
    "editable": false,
    "nbgrader": {
     "cell_type": "code",
     "checksum": "b6347a1a4ee687e164dcad4f1d9126b6",
     "grade": true,
     "grade_id": "vae_test",
     "locked": true,
     "points": 10,
     "schema_version": 3,
     "solution": false,
     "task": false
    }
   },
   "outputs": [],
   "source": [
    "# You can try different latent_dim for the report, but use latent_dim=20 when submitting the checkpoint\n",
    "# Do not modify other parts of this cell\n",
    "if not os.path.exists(vae_ckpt_fn):\n",
    "    model_vae = VAE(input_dim=input_dim, hidden_dim=hidden_dim, latent_dim=20)\n",
    "    model_vae = train(model_vae, train_loader, n_epochs=n_epochs, lr=lr)\n",
    "    # save model, do not change the filename.\n",
    "    torch.save(model_vae.state_dict(), vae_ckpt_fn)"
   ]
  },
  {
   "cell_type": "code",
   "execution_count": 11,
   "id": "c386606b-1022-4922-a420-3cf9d12887a6",
   "metadata": {
    "deletable": false,
    "editable": false,
    "nbgrader": {
     "cell_type": "code",
     "checksum": "51dcbd3ff225e4d5159e2db75cc836f6",
     "grade": false,
     "grade_id": "cell-b65ef732dba947bf",
     "locked": true,
     "schema_version": 3,
     "solution": false,
     "task": false
    }
   },
   "outputs": [
    {
     "name": "stderr",
     "output_type": "stream",
     "text": [
      "  2%|▎         | 1/40 [00:06<04:32,  6.98s/it]"
     ]
    },
    {
     "name": "stdout",
     "output_type": "stream",
     "text": [
      "Epoch 0\t Loss=6216.9770\n"
     ]
    },
    {
     "name": "stderr",
     "output_type": "stream",
     "text": [
      "  5%|▌         | 2/40 [00:13<04:22,  6.91s/it]"
     ]
    },
    {
     "name": "stdout",
     "output_type": "stream",
     "text": [
      "Epoch 1\t Loss=5504.8156\n"
     ]
    },
    {
     "name": "stderr",
     "output_type": "stream",
     "text": [
      "  8%|▊         | 3/40 [00:20<04:14,  6.87s/it]"
     ]
    },
    {
     "name": "stdout",
     "output_type": "stream",
     "text": [
      "Epoch 2\t Loss=5321.5395\n"
     ]
    },
    {
     "name": "stderr",
     "output_type": "stream",
     "text": [
      " 10%|█         | 4/40 [00:27<04:12,  7.01s/it]"
     ]
    },
    {
     "name": "stdout",
     "output_type": "stream",
     "text": [
      "Epoch 3\t Loss=5229.9919\n"
     ]
    },
    {
     "name": "stderr",
     "output_type": "stream",
     "text": [
      " 12%|█▎        | 5/40 [00:35<04:13,  7.23s/it]"
     ]
    },
    {
     "name": "stdout",
     "output_type": "stream",
     "text": [
      "Epoch 4\t Loss=5160.2465\n"
     ]
    },
    {
     "name": "stderr",
     "output_type": "stream",
     "text": [
      " 15%|█▌        | 6/40 [00:42<04:06,  7.26s/it]"
     ]
    },
    {
     "name": "stdout",
     "output_type": "stream",
     "text": [
      "Epoch 5\t Loss=5106.3524\n"
     ]
    },
    {
     "name": "stderr",
     "output_type": "stream",
     "text": [
      " 18%|█▊        | 7/40 [00:49<03:55,  7.15s/it]"
     ]
    },
    {
     "name": "stdout",
     "output_type": "stream",
     "text": [
      "Epoch 6\t Loss=5061.8807\n"
     ]
    },
    {
     "name": "stderr",
     "output_type": "stream",
     "text": [
      " 20%|██        | 8/40 [00:56<03:47,  7.11s/it]"
     ]
    },
    {
     "name": "stdout",
     "output_type": "stream",
     "text": [
      "Epoch 7\t Loss=5023.1585\n"
     ]
    },
    {
     "name": "stderr",
     "output_type": "stream",
     "text": [
      " 22%|██▎       | 9/40 [01:03<03:38,  7.06s/it]"
     ]
    },
    {
     "name": "stdout",
     "output_type": "stream",
     "text": [
      "Epoch 8\t Loss=4990.9775\n"
     ]
    },
    {
     "name": "stderr",
     "output_type": "stream",
     "text": [
      " 25%|██▌       | 10/40 [01:10<03:31,  7.04s/it]"
     ]
    },
    {
     "name": "stdout",
     "output_type": "stream",
     "text": [
      "Epoch 9\t Loss=4962.6853\n"
     ]
    },
    {
     "name": "stderr",
     "output_type": "stream",
     "text": [
      " 28%|██▊       | 11/40 [01:17<03:25,  7.09s/it]"
     ]
    },
    {
     "name": "stdout",
     "output_type": "stream",
     "text": [
      "Epoch 10\t Loss=4934.4916\n"
     ]
    },
    {
     "name": "stderr",
     "output_type": "stream",
     "text": [
      " 30%|███       | 12/40 [01:25<03:20,  7.17s/it]"
     ]
    },
    {
     "name": "stdout",
     "output_type": "stream",
     "text": [
      "Epoch 11\t Loss=4912.0761\n"
     ]
    },
    {
     "name": "stderr",
     "output_type": "stream",
     "text": [
      " 32%|███▎      | 13/40 [01:32<03:11,  7.08s/it]"
     ]
    },
    {
     "name": "stdout",
     "output_type": "stream",
     "text": [
      "Epoch 12\t Loss=4892.6284\n"
     ]
    },
    {
     "name": "stderr",
     "output_type": "stream",
     "text": [
      " 35%|███▌      | 14/40 [01:38<03:02,  7.01s/it]"
     ]
    },
    {
     "name": "stdout",
     "output_type": "stream",
     "text": [
      "Epoch 13\t Loss=4868.2380\n"
     ]
    },
    {
     "name": "stderr",
     "output_type": "stream",
     "text": [
      " 38%|███▊      | 15/40 [01:45<02:55,  7.01s/it]"
     ]
    },
    {
     "name": "stdout",
     "output_type": "stream",
     "text": [
      "Epoch 14\t Loss=4849.6761\n"
     ]
    },
    {
     "name": "stderr",
     "output_type": "stream",
     "text": [
      " 40%|████      | 16/40 [01:53<02:52,  7.17s/it]"
     ]
    },
    {
     "name": "stdout",
     "output_type": "stream",
     "text": [
      "Epoch 15\t Loss=4831.9402\n"
     ]
    },
    {
     "name": "stderr",
     "output_type": "stream",
     "text": [
      " 42%|████▎     | 17/40 [02:00<02:44,  7.17s/it]"
     ]
    },
    {
     "name": "stdout",
     "output_type": "stream",
     "text": [
      "Epoch 16\t Loss=4814.8712\n"
     ]
    },
    {
     "name": "stderr",
     "output_type": "stream",
     "text": [
      " 45%|████▌     | 18/40 [02:07<02:36,  7.13s/it]"
     ]
    },
    {
     "name": "stdout",
     "output_type": "stream",
     "text": [
      "Epoch 17\t Loss=4800.3761\n"
     ]
    },
    {
     "name": "stderr",
     "output_type": "stream",
     "text": [
      " 48%|████▊     | 19/40 [02:14<02:29,  7.13s/it]"
     ]
    },
    {
     "name": "stdout",
     "output_type": "stream",
     "text": [
      "Epoch 18\t Loss=4783.5740\n"
     ]
    },
    {
     "name": "stderr",
     "output_type": "stream",
     "text": [
      " 50%|█████     | 20/40 [02:22<02:25,  7.29s/it]"
     ]
    },
    {
     "name": "stdout",
     "output_type": "stream",
     "text": [
      "Epoch 19\t Loss=4773.8429\n"
     ]
    },
    {
     "name": "stderr",
     "output_type": "stream",
     "text": [
      " 52%|█████▎    | 21/40 [02:29<02:18,  7.28s/it]"
     ]
    },
    {
     "name": "stdout",
     "output_type": "stream",
     "text": [
      "Epoch 20\t Loss=4760.4842\n"
     ]
    },
    {
     "name": "stderr",
     "output_type": "stream",
     "text": [
      " 55%|█████▌    | 22/40 [02:37<02:11,  7.31s/it]"
     ]
    },
    {
     "name": "stdout",
     "output_type": "stream",
     "text": [
      "Epoch 21\t Loss=4747.1361\n"
     ]
    },
    {
     "name": "stderr",
     "output_type": "stream",
     "text": [
      " 57%|█████▊    | 23/40 [02:45<02:07,  7.50s/it]"
     ]
    },
    {
     "name": "stdout",
     "output_type": "stream",
     "text": [
      "Epoch 22\t Loss=4732.9323\n"
     ]
    },
    {
     "name": "stderr",
     "output_type": "stream",
     "text": [
      " 60%|██████    | 24/40 [02:52<01:58,  7.39s/it]"
     ]
    },
    {
     "name": "stdout",
     "output_type": "stream",
     "text": [
      "Epoch 23\t Loss=4721.9967\n"
     ]
    },
    {
     "name": "stderr",
     "output_type": "stream",
     "text": [
      " 62%|██████▎   | 25/40 [02:59<01:49,  7.31s/it]"
     ]
    },
    {
     "name": "stdout",
     "output_type": "stream",
     "text": [
      "Epoch 24\t Loss=4710.5219\n"
     ]
    },
    {
     "name": "stderr",
     "output_type": "stream",
     "text": [
      " 65%|██████▌   | 26/40 [03:06<01:41,  7.24s/it]"
     ]
    },
    {
     "name": "stdout",
     "output_type": "stream",
     "text": [
      "Epoch 25\t Loss=4700.3512\n"
     ]
    },
    {
     "name": "stderr",
     "output_type": "stream",
     "text": [
      " 68%|██████▊   | 27/40 [03:13<01:33,  7.19s/it]"
     ]
    },
    {
     "name": "stdout",
     "output_type": "stream",
     "text": [
      "Epoch 26\t Loss=4693.9948\n"
     ]
    },
    {
     "name": "stderr",
     "output_type": "stream",
     "text": [
      " 70%|███████   | 28/40 [03:20<01:27,  7.27s/it]"
     ]
    },
    {
     "name": "stdout",
     "output_type": "stream",
     "text": [
      "Epoch 27\t Loss=4682.8873\n"
     ]
    },
    {
     "name": "stderr",
     "output_type": "stream",
     "text": [
      " 72%|███████▎  | 29/40 [03:28<01:19,  7.21s/it]"
     ]
    },
    {
     "name": "stdout",
     "output_type": "stream",
     "text": [
      "Epoch 28\t Loss=4673.3048\n"
     ]
    },
    {
     "name": "stderr",
     "output_type": "stream",
     "text": [
      " 75%|███████▌  | 30/40 [03:35<01:11,  7.17s/it]"
     ]
    },
    {
     "name": "stdout",
     "output_type": "stream",
     "text": [
      "Epoch 29\t Loss=4666.0443\n"
     ]
    },
    {
     "name": "stderr",
     "output_type": "stream",
     "text": [
      " 78%|███████▊  | 31/40 [03:42<01:03,  7.11s/it]"
     ]
    },
    {
     "name": "stdout",
     "output_type": "stream",
     "text": [
      "Epoch 30\t Loss=4661.4517\n"
     ]
    },
    {
     "name": "stderr",
     "output_type": "stream",
     "text": [
      " 80%|████████  | 32/40 [03:49<00:57,  7.14s/it]"
     ]
    },
    {
     "name": "stdout",
     "output_type": "stream",
     "text": [
      "Epoch 31\t Loss=4656.1434\n"
     ]
    },
    {
     "name": "stderr",
     "output_type": "stream",
     "text": [
      " 82%|████████▎ | 33/40 [03:57<00:51,  7.42s/it]"
     ]
    },
    {
     "name": "stdout",
     "output_type": "stream",
     "text": [
      "Epoch 32\t Loss=4643.0076\n"
     ]
    },
    {
     "name": "stderr",
     "output_type": "stream",
     "text": [
      " 85%|████████▌ | 34/40 [04:05<00:44,  7.49s/it]"
     ]
    },
    {
     "name": "stdout",
     "output_type": "stream",
     "text": [
      "Epoch 33\t Loss=4636.7183\n"
     ]
    },
    {
     "name": "stderr",
     "output_type": "stream",
     "text": [
      " 88%|████████▊ | 35/40 [04:13<00:38,  7.67s/it]"
     ]
    },
    {
     "name": "stdout",
     "output_type": "stream",
     "text": [
      "Epoch 34\t Loss=4630.8833\n"
     ]
    },
    {
     "name": "stderr",
     "output_type": "stream",
     "text": [
      " 90%|█████████ | 36/40 [04:20<00:30,  7.71s/it]"
     ]
    },
    {
     "name": "stdout",
     "output_type": "stream",
     "text": [
      "Epoch 35\t Loss=4624.9289\n"
     ]
    },
    {
     "name": "stderr",
     "output_type": "stream",
     "text": [
      " 92%|█████████▎| 37/40 [04:29<00:23,  7.85s/it]"
     ]
    },
    {
     "name": "stdout",
     "output_type": "stream",
     "text": [
      "Epoch 36\t Loss=4622.0850\n"
     ]
    },
    {
     "name": "stderr",
     "output_type": "stream",
     "text": [
      " 95%|█████████▌| 38/40 [04:37<00:16,  8.06s/it]"
     ]
    },
    {
     "name": "stdout",
     "output_type": "stream",
     "text": [
      "Epoch 37\t Loss=4615.8378\n"
     ]
    },
    {
     "name": "stderr",
     "output_type": "stream",
     "text": [
      " 98%|█████████▊| 39/40 [04:45<00:08,  8.12s/it]"
     ]
    },
    {
     "name": "stdout",
     "output_type": "stream",
     "text": [
      "Epoch 38\t Loss=4604.2771\n"
     ]
    },
    {
     "name": "stderr",
     "output_type": "stream",
     "text": [
      "100%|██████████| 40/40 [04:53<00:00,  7.34s/it]"
     ]
    },
    {
     "name": "stdout",
     "output_type": "stream",
     "text": [
      "Epoch 39\t Loss=4598.7002\n"
     ]
    },
    {
     "name": "stderr",
     "output_type": "stream",
     "text": [
      "\n"
     ]
    },
    {
     "data": {
      "image/png": "[encoded data removed]",
      "text/plain": [
       "<Figure size 640x480 with 1 Axes>"
      ]
     },
     "metadata": {},
     "output_type": "display_data"
    }
   ],
   "source": [
    "model_vae = VAE(input_dim=input_dim, hidden_dim=hidden_dim, latent_dim=2)\n",
    "model_vae = train(model_vae, train_loader, n_epochs=n_epochs, lr=lr)\n",
    "# You can use the following code to visualize generated samples\n",
    "\n",
    "model_vae.eval()\n",
    "x_hat = model_vae.sample(64, \"cpu\")\n",
    "# x_hat = x_hat.bernoulli()\n",
    "show_and_save(make_grid(x_hat.view(64, 1, 28, 28).data.cpu()), \"vae_fake\")"
   ]
  },
  {
   "cell_type": "markdown",
   "id": "871d7f40-2809-44ce-b91f-ccc96c9309ff",
   "metadata": {},
   "source": [
    "# VAE2"
   ]
  },
  {
   "cell_type": "code",
   "execution_count": 4,
   "id": "bf84fea1-c7f6-4c69-8807-f601d2d0f921",
   "metadata": {
    "deletable": false,
    "nbgrader": {
     "cell_type": "code",
     "checksum": "05870212cf9abde6d33e100802964386",
     "grade": false,
     "grade_id": "cell-5c0706f0637742ec",
     "locked": false,
     "schema_version": 3,
     "solution": true,
     "task": false
    }
   },
   "outputs": [],
   "source": [
    "class VAE2(nn.Module):\n",
    "    def __init__(self, latent_dim):\n",
    "        super().__init__()\n",
    "        self.latent_dim = latent_dim\n",
    "        self.encd = 8 * 3 * 3\n",
    "        self.decd = 8 * 3 * 3\n",
    "\n",
    "        self.conv1 = nn.Conv2d(1, 8, 3, padding=1)\n",
    "        self.conv2 = nn.Conv2d(8, 8, 3, padding=1)\n",
    "        self.conv3 = nn.Conv2d(8, 8, 3, padding=1)\n",
    "        self.maxpool = nn.MaxPool2d(2, stride=2)\n",
    "        self.enc_mu = nn.Linear(self.encd, self.latent_dim)\n",
    "        self.enc_sigma = nn.Linear(self.encd, self.latent_dim)\n",
    "\n",
    "        self.dec_fc = nn.Linear(self.latent_dim, self.decd)\n",
    "        self.deconv1 = nn.ConvTranspose2d(8, 8, 2, stride=2, output_padding=1)\n",
    "        self.deconv2 = nn.ConvTranspose2d( 8, 8,2,stride=2, )\n",
    "        self.deconv3 = nn.ConvTranspose2d(\n",
    "            8,\n",
    "            8,\n",
    "            2,\n",
    "            stride=2,\n",
    "        )\n",
    "        self.dec_conv = nn.Conv2d(8, 1, 3, padding=1)\n",
    "\n",
    "    def encoding(self, x):\n",
    "        \"\"\"Encode inputs x.\n",
    "        Args:\n",
    "            x (Tensor): Inputs. Take Tanh as the enc_lin layer's non-linear activation function.\n",
    "        Returns:\n",
    "            (z_mu, z_sigma): Mean and log variance of latent variables z.\n",
    "        \"\"\"\n",
    "        x = self.maxpool(F.relu(self.conv1(x)))\n",
    "        x = self.maxpool(F.relu(self.conv2(x)))\n",
    "        x = self.maxpool(F.relu(self.conv3(x)))\n",
    "        z_mu = self.enc_mu(x.view(-1, self.encd))\n",
    "        z_sigma = self.enc_sigma(x.view(-1, self.encd))\n",
    "        return z_mu, z_sigma\n",
    "\n",
    "    def decoding(self, z):\n",
    "        \"\"\"Decode latent variable z into reconstructed data.\n",
    "        Two linear layers with Tanh as the middle layer's act func and Sigmoid as the output layer's act func.\n",
    "        Args:\n",
    "            z (Tensor): Inputs.\n",
    "        Returns:\n",
    "            x_hat: Reconstructed inputs.\n",
    "        \"\"\"\n",
    "        z = self.dec_fc(z).view(-1, 8, 3, 3)\n",
    "        z = F.relu(self.deconv1(z))\n",
    "        z = F.relu(self.deconv2(z))\n",
    "        z = F.relu(self.deconv3(z))\n",
    "        x_hat = torch.sigmoid(self.dec_conv(z))\n",
    "\n",
    "        return x_hat\n",
    "\n",
    "    def forward(self, x):\n",
    "        \"\"\"Compute reconstructed inputs.\n",
    "        Args:\n",
    "            x (Tensor): Inputs.\n",
    "        Returns:\n",
    "            (x_hat, z_mu, z_sigma): Reconstructed inputs, mean and log variance of latent variables.\n",
    "        \"\"\"\n",
    "        # YOUR CODE HERE\n",
    "        z_mu, z_sigma = self.encoding(x)\n",
    "        z = z_mu + torch.randn_like(z_sigma) * torch.exp(0.5 * z_sigma)\n",
    "        x_hat = self.decoding(z)\n",
    "        return x_hat, z_mu, z_sigma\n",
    "\n",
    "    def get_loss(self, x):\n",
    "        \"\"\"Compute VAE loss.\n",
    "        Args:\n",
    "            x (Tensor): Inputs.\n",
    "        Returns:\n",
    "            loss (FloatTensor): reconstruction loss + KL loss\n",
    "        \"\"\"\n",
    "        x_hat, z_mu, z_sigma = self(x)\n",
    "        reconstruction_loss = F.mse_loss(x_hat, x, reduction=\"sum\")\n",
    "        kl_loss = -0.5 * torch.sum(1 + z_sigma - z_mu.pow(2) - torch.exp(z_sigma))\n",
    "        return reconstruction_loss + kl_loss\n",
    "\n",
    "    @torch.no_grad()\n",
    "    def sample(self, n_samples, device):\n",
    "        random_z = torch.randn(n_samples, self.latent_dim).to(device)\n",
    "        x_hat = self.decoding(random_z)\n",
    "        return x_hat"
   ]
  },
  {
   "cell_type": "code",
   "execution_count": 5,
   "id": "58c0b712-6d52-43e8-b197-9afd3cfe6aa5",
   "metadata": {
    "deletable": false,
    "editable": false,
    "nbgrader": {
     "cell_type": "code",
     "checksum": "dca82db7a2ef232bc649e20596a0400c",
     "grade": false,
     "grade_id": "cell-2d5ba1880e4131d6",
     "locked": true,
     "schema_version": 3,
     "solution": false,
     "task": false
    }
   },
   "outputs": [],
   "source": [
    "# DO NOT MODIFY\n",
    "train_dataset = datasets.MNIST(\n",
    "    \"./data\", train=True, transform=transforms.Compose([transforms.ToTensor()])\n",
    ")\n",
    "test_dataset = datasets.MNIST(\n",
    "    \"./data\", train=False, transform=transforms.Compose([transforms.ToTensor()])\n",
    ")\n",
    "\n",
    "batch_size = 128\n",
    "n_epochs = 40\n",
    "lr = 0.005\n",
    "vae_ckpt_fn = \"model_vae2_seed2025.pt\"\n",
    "\n",
    "train_loader = torch.utils.data.DataLoader(\n",
    "    train_dataset, batch_size=batch_size, shuffle=True\n",
    ")\n",
    "test_loader = torch.utils.data.DataLoader(test_dataset, batch_size=batch_size)"
   ]
  },
  {
   "cell_type": "code",
   "execution_count": 17,
   "id": "44eab692-33aa-483c-80b3-4956d5d361b7",
   "metadata": {
    "deletable": false,
    "editable": false,
    "nbgrader": {
     "cell_type": "code",
     "checksum": "ab8517b858f41ebfdf94691191cbd7d6",
     "grade": true,
     "grade_id": "vae2_test",
     "locked": true,
     "points": 15,
     "schema_version": 3,
     "solution": false,
     "task": false
    }
   },
   "outputs": [
    {
     "ename": "ImportError",
     "evalue": "IProgress not found. Please update jupyter and ipywidgets. See https://ipywidgets.readthedocs.io/en/stable/user_install.html",
     "output_type": "error",
     "traceback": [
      "\u001b[1;31m---------------------------------------------------------------------------\u001b[0m",
      "\u001b[1;31mImportError\u001b[0m                               Traceback (most recent call last)",
      "Cell \u001b[1;32mIn[17], line 5\u001b[0m\n\u001b[0;32m      3\u001b[0m \u001b[38;5;28;01mif\u001b[39;00m \u001b[38;5;129;01mnot\u001b[39;00m os\u001b[38;5;241m.\u001b[39mpath\u001b[38;5;241m.\u001b[39mexists(vae_ckpt_fn):\n\u001b[0;32m      4\u001b[0m     model_vae \u001b[38;5;241m=\u001b[39m VAE2(latent_dim\u001b[38;5;241m=\u001b[39m\u001b[38;5;241m20\u001b[39m)\n\u001b[1;32m----> 5\u001b[0m     model_vae \u001b[38;5;241m=\u001b[39m \u001b[43mtrain_vae2\u001b[49m\u001b[43m(\u001b[49m\u001b[43mmodel_vae\u001b[49m\u001b[43m,\u001b[49m\u001b[43m \u001b[49m\u001b[43mtrain_loader\u001b[49m\u001b[43m,\u001b[49m\u001b[43m \u001b[49m\u001b[43mn_epochs\u001b[49m\u001b[38;5;241;43m=\u001b[39;49m\u001b[43mn_epochs\u001b[49m\u001b[43m,\u001b[49m\u001b[43m \u001b[49m\u001b[43mlr\u001b[49m\u001b[38;5;241;43m=\u001b[39;49m\u001b[43mlr\u001b[49m\u001b[43m)\u001b[49m\n\u001b[0;32m      6\u001b[0m     \u001b[38;5;66;03m# save model, do not change the filename.\u001b[39;00m\n\u001b[0;32m      7\u001b[0m     torch\u001b[38;5;241m.\u001b[39msave(model_vae\u001b[38;5;241m.\u001b[39mstate_dict(), vae_ckpt_fn)\n",
      "Cell \u001b[1;32mIn[13], line 67\u001b[0m, in \u001b[0;36mtrain_vae2\u001b[1;34m(model, train_loader, n_epochs, lr)\u001b[0m\n\u001b[0;32m     65\u001b[0m train_op \u001b[38;5;241m=\u001b[39m optim\u001b[38;5;241m.\u001b[39mAdam(model\u001b[38;5;241m.\u001b[39mparameters(), lr)\n\u001b[0;32m     66\u001b[0m model\u001b[38;5;241m.\u001b[39mtrain()\n\u001b[1;32m---> 67\u001b[0m \u001b[38;5;28;01mfor\u001b[39;00m epoch \u001b[38;5;129;01min\u001b[39;00m \u001b[43mtqdm\u001b[49m\u001b[43m(\u001b[49m\u001b[38;5;28;43mrange\u001b[39;49m\u001b[43m(\u001b[49m\u001b[43mn_epochs\u001b[49m\u001b[43m)\u001b[49m\u001b[43m)\u001b[49m:\n\u001b[0;32m     68\u001b[0m     loss_ \u001b[38;5;241m=\u001b[39m []\n\u001b[0;32m     69\u001b[0m     \u001b[38;5;28;01mfor\u001b[39;00m _, (data, target) \u001b[38;5;129;01min\u001b[39;00m \u001b[38;5;28menumerate\u001b[39m(train_loader):\n",
      "File \u001b[1;32mc:\\Users\\zd16\\AppData\\Local\\Programs\\Python\\Python39\\lib\\site-packages\\tqdm\\notebook.py:233\u001b[0m, in \u001b[0;36mtqdm_notebook.__init__\u001b[1;34m(self, *args, **kwargs)\u001b[0m\n\u001b[0;32m    231\u001b[0m unit_scale \u001b[38;5;241m=\u001b[39m \u001b[38;5;241m1\u001b[39m \u001b[38;5;28;01mif\u001b[39;00m \u001b[38;5;28mself\u001b[39m\u001b[38;5;241m.\u001b[39munit_scale \u001b[38;5;129;01mis\u001b[39;00m \u001b[38;5;28;01mTrue\u001b[39;00m \u001b[38;5;28;01melse\u001b[39;00m \u001b[38;5;28mself\u001b[39m\u001b[38;5;241m.\u001b[39munit_scale \u001b[38;5;129;01mor\u001b[39;00m \u001b[38;5;241m1\u001b[39m\n\u001b[0;32m    232\u001b[0m total \u001b[38;5;241m=\u001b[39m \u001b[38;5;28mself\u001b[39m\u001b[38;5;241m.\u001b[39mtotal \u001b[38;5;241m*\u001b[39m unit_scale \u001b[38;5;28;01mif\u001b[39;00m \u001b[38;5;28mself\u001b[39m\u001b[38;5;241m.\u001b[39mtotal \u001b[38;5;28;01melse\u001b[39;00m \u001b[38;5;28mself\u001b[39m\u001b[38;5;241m.\u001b[39mtotal\n\u001b[1;32m--> 233\u001b[0m \u001b[38;5;28mself\u001b[39m\u001b[38;5;241m.\u001b[39mcontainer \u001b[38;5;241m=\u001b[39m \u001b[38;5;28;43mself\u001b[39;49m\u001b[38;5;241;43m.\u001b[39;49m\u001b[43mstatus_printer\u001b[49m\u001b[43m(\u001b[49m\u001b[38;5;28;43mself\u001b[39;49m\u001b[38;5;241;43m.\u001b[39;49m\u001b[43mfp\u001b[49m\u001b[43m,\u001b[49m\u001b[43m \u001b[49m\u001b[43mtotal\u001b[49m\u001b[43m,\u001b[49m\u001b[43m \u001b[49m\u001b[38;5;28;43mself\u001b[39;49m\u001b[38;5;241;43m.\u001b[39;49m\u001b[43mdesc\u001b[49m\u001b[43m,\u001b[49m\u001b[43m \u001b[49m\u001b[38;5;28;43mself\u001b[39;49m\u001b[38;5;241;43m.\u001b[39;49m\u001b[43mncols\u001b[49m\u001b[43m)\u001b[49m\n\u001b[0;32m    234\u001b[0m \u001b[38;5;28mself\u001b[39m\u001b[38;5;241m.\u001b[39mcontainer\u001b[38;5;241m.\u001b[39mpbar \u001b[38;5;241m=\u001b[39m proxy(\u001b[38;5;28mself\u001b[39m)\n\u001b[0;32m    235\u001b[0m \u001b[38;5;28mself\u001b[39m\u001b[38;5;241m.\u001b[39mdisplayed \u001b[38;5;241m=\u001b[39m \u001b[38;5;28;01mFalse\u001b[39;00m\n",
      "File \u001b[1;32mc:\\Users\\zd16\\AppData\\Local\\Programs\\Python\\Python39\\lib\\site-packages\\tqdm\\notebook.py:108\u001b[0m, in \u001b[0;36mtqdm_notebook.status_printer\u001b[1;34m(_, total, desc, ncols)\u001b[0m\n\u001b[0;32m     99\u001b[0m \u001b[38;5;66;03m# Fallback to text bar if there's no total\u001b[39;00m\n\u001b[0;32m    100\u001b[0m \u001b[38;5;66;03m# DEPRECATED: replaced with an 'info' style bar\u001b[39;00m\n\u001b[0;32m    101\u001b[0m \u001b[38;5;66;03m# if not total:\u001b[39;00m\n\u001b[1;32m   (...)\u001b[0m\n\u001b[0;32m    105\u001b[0m \n\u001b[0;32m    106\u001b[0m \u001b[38;5;66;03m# Prepare IPython progress bar\u001b[39;00m\n\u001b[0;32m    107\u001b[0m \u001b[38;5;28;01mif\u001b[39;00m IProgress \u001b[38;5;129;01mis\u001b[39;00m \u001b[38;5;28;01mNone\u001b[39;00m:  \u001b[38;5;66;03m# #187 #451 #558 #872\u001b[39;00m\n\u001b[1;32m--> 108\u001b[0m     \u001b[38;5;28;01mraise\u001b[39;00m \u001b[38;5;167;01mImportError\u001b[39;00m(WARN_NOIPYW)\n\u001b[0;32m    109\u001b[0m \u001b[38;5;28;01mif\u001b[39;00m total:\n\u001b[0;32m    110\u001b[0m     pbar \u001b[38;5;241m=\u001b[39m IProgress(\u001b[38;5;28mmin\u001b[39m\u001b[38;5;241m=\u001b[39m\u001b[38;5;241m0\u001b[39m, \u001b[38;5;28mmax\u001b[39m\u001b[38;5;241m=\u001b[39mtotal)\n",
      "\u001b[1;31mImportError\u001b[0m: IProgress not found. Please update jupyter and ipywidgets. See https://ipywidgets.readthedocs.io/en/stable/user_install.html"
     ]
    }
   ],
   "source": [
    "# You can try different latent_dim for the report, but use latent_dim=20 when submitting the checkpoint\n",
    "# Do not modify other parts of this cell\n",
    "if not os.path.exists(vae_ckpt_fn):\n",
    "    model_vae = VAE2(latent_dim=20)\n",
    "    model_vae = train_vae2(model_vae, train_loader, n_epochs=n_epochs, lr=lr)\n",
    "    # save model, do not change the filename.\n",
    "    torch.save(model_vae.state_dict(), vae_ckpt_fn)"
   ]
  },
  {
   "cell_type": "code",
   "execution_count": 15,
   "id": "5a66a6c0-2886-41c5-9f87-6b0bbe5ee440",
   "metadata": {
    "deletable": false,
    "editable": false,
    "nbgrader": {
     "cell_type": "code",
     "checksum": "a67826e4b9ee6e9079fdcda8586a0c37",
     "grade": false,
     "grade_id": "cell-40f1699bb0451a09",
     "locked": true,
     "schema_version": 3,
     "solution": false,
     "task": false
    }
   },
   "outputs": [
    {
     "name": "stderr",
     "output_type": "stream",
     "text": [
      "  2%|▎         | 1/40 [00:23<14:57, 23.02s/it]"
     ]
    },
    {
     "name": "stdout",
     "output_type": "stream",
     "text": [
      "Epoch 0\t Loss=6695.8374\n"
     ]
    },
    {
     "name": "stderr",
     "output_type": "stream",
     "text": [
      "  5%|▌         | 2/40 [00:46<14:50, 23.43s/it]"
     ]
    },
    {
     "name": "stdout",
     "output_type": "stream",
     "text": [
      "Epoch 1\t Loss=4992.0066\n"
     ]
    },
    {
     "name": "stderr",
     "output_type": "stream",
     "text": [
      "  8%|▊         | 3/40 [01:10<14:37, 23.73s/it]"
     ]
    },
    {
     "name": "stdout",
     "output_type": "stream",
     "text": [
      "Epoch 2\t Loss=4848.0842\n"
     ]
    },
    {
     "name": "stderr",
     "output_type": "stream",
     "text": [
      " 10%|█         | 4/40 [01:35<14:26, 24.06s/it]"
     ]
    },
    {
     "name": "stdout",
     "output_type": "stream",
     "text": [
      "Epoch 3\t Loss=4781.6684\n"
     ]
    },
    {
     "name": "stderr",
     "output_type": "stream",
     "text": [
      " 12%|█▎        | 5/40 [02:03<14:54, 25.57s/it]"
     ]
    },
    {
     "name": "stdout",
     "output_type": "stream",
     "text": [
      "Epoch 4\t Loss=4742.5933\n"
     ]
    },
    {
     "name": "stderr",
     "output_type": "stream",
     "text": [
      " 15%|█▌        | 6/40 [02:27<14:12, 25.06s/it]"
     ]
    },
    {
     "name": "stdout",
     "output_type": "stream",
     "text": [
      "Epoch 5\t Loss=4715.8530\n"
     ]
    },
    {
     "name": "stderr",
     "output_type": "stream",
     "text": [
      " 18%|█▊        | 7/40 [02:50<13:26, 24.45s/it]"
     ]
    },
    {
     "name": "stdout",
     "output_type": "stream",
     "text": [
      "Epoch 6\t Loss=4690.5593\n"
     ]
    },
    {
     "name": "stderr",
     "output_type": "stream",
     "text": [
      " 20%|██        | 8/40 [03:14<12:51, 24.11s/it]"
     ]
    },
    {
     "name": "stdout",
     "output_type": "stream",
     "text": [
      "Epoch 7\t Loss=4677.7933\n"
     ]
    },
    {
     "name": "stderr",
     "output_type": "stream",
     "text": [
      " 22%|██▎       | 9/40 [03:38<12:24, 24.01s/it]"
     ]
    },
    {
     "name": "stdout",
     "output_type": "stream",
     "text": [
      "Epoch 8\t Loss=4657.8720\n"
     ]
    },
    {
     "name": "stderr",
     "output_type": "stream",
     "text": [
      " 25%|██▌       | 10/40 [04:01<11:56, 23.87s/it]"
     ]
    },
    {
     "name": "stdout",
     "output_type": "stream",
     "text": [
      "Epoch 9\t Loss=4648.6748\n"
     ]
    },
    {
     "name": "stderr",
     "output_type": "stream",
     "text": [
      " 28%|██▊       | 11/40 [04:25<11:32, 23.88s/it]"
     ]
    },
    {
     "name": "stdout",
     "output_type": "stream",
     "text": [
      "Epoch 10\t Loss=4633.7095\n"
     ]
    },
    {
     "name": "stderr",
     "output_type": "stream",
     "text": [
      " 30%|███       | 12/40 [04:48<11:04, 23.72s/it]"
     ]
    },
    {
     "name": "stdout",
     "output_type": "stream",
     "text": [
      "Epoch 11\t Loss=4623.6506\n"
     ]
    },
    {
     "name": "stderr",
     "output_type": "stream",
     "text": [
      " 32%|███▎      | 13/40 [05:11<10:35, 23.53s/it]"
     ]
    },
    {
     "name": "stdout",
     "output_type": "stream",
     "text": [
      "Epoch 12\t Loss=4609.4929\n"
     ]
    },
    {
     "name": "stderr",
     "output_type": "stream",
     "text": [
      " 35%|███▌      | 14/40 [05:35<10:11, 23.54s/it]"
     ]
    },
    {
     "name": "stdout",
     "output_type": "stream",
     "text": [
      "Epoch 13\t Loss=4609.8263\n"
     ]
    },
    {
     "name": "stderr",
     "output_type": "stream",
     "text": [
      " 38%|███▊      | 15/40 [05:58<09:44, 23.38s/it]"
     ]
    },
    {
     "name": "stdout",
     "output_type": "stream",
     "text": [
      "Epoch 14\t Loss=4600.2546\n"
     ]
    },
    {
     "name": "stderr",
     "output_type": "stream",
     "text": [
      " 40%|████      | 16/40 [06:22<09:22, 23.44s/it]"
     ]
    },
    {
     "name": "stdout",
     "output_type": "stream",
     "text": [
      "Epoch 15\t Loss=4590.9919\n"
     ]
    },
    {
     "name": "stderr",
     "output_type": "stream",
     "text": [
      " 42%|████▎     | 17/40 [06:45<08:58, 23.40s/it]"
     ]
    },
    {
     "name": "stdout",
     "output_type": "stream",
     "text": [
      "Epoch 16\t Loss=4587.9433\n"
     ]
    },
    {
     "name": "stderr",
     "output_type": "stream",
     "text": [
      " 45%|████▌     | 18/40 [07:08<08:32, 23.30s/it]"
     ]
    },
    {
     "name": "stdout",
     "output_type": "stream",
     "text": [
      "Epoch 17\t Loss=4584.8760\n"
     ]
    },
    {
     "name": "stderr",
     "output_type": "stream",
     "text": [
      " 48%|████▊     | 19/40 [07:31<08:08, 23.24s/it]"
     ]
    },
    {
     "name": "stdout",
     "output_type": "stream",
     "text": [
      "Epoch 18\t Loss=4576.6888\n"
     ]
    },
    {
     "name": "stderr",
     "output_type": "stream",
     "text": [
      " 50%|█████     | 20/40 [07:55<07:48, 23.45s/it]"
     ]
    },
    {
     "name": "stdout",
     "output_type": "stream",
     "text": [
      "Epoch 19\t Loss=4575.9250\n"
     ]
    },
    {
     "name": "stderr",
     "output_type": "stream",
     "text": [
      " 52%|█████▎    | 21/40 [08:20<07:36, 24.02s/it]"
     ]
    },
    {
     "name": "stdout",
     "output_type": "stream",
     "text": [
      "Epoch 20\t Loss=4569.4161\n"
     ]
    },
    {
     "name": "stderr",
     "output_type": "stream",
     "text": [
      " 55%|█████▌    | 22/40 [08:44<07:07, 23.76s/it]"
     ]
    },
    {
     "name": "stdout",
     "output_type": "stream",
     "text": [
      "Epoch 21\t Loss=4565.3136\n"
     ]
    },
    {
     "name": "stderr",
     "output_type": "stream",
     "text": [
      " 57%|█████▊    | 23/40 [09:07<06:40, 23.58s/it]"
     ]
    },
    {
     "name": "stdout",
     "output_type": "stream",
     "text": [
      "Epoch 22\t Loss=4560.0101\n"
     ]
    },
    {
     "name": "stderr",
     "output_type": "stream",
     "text": [
      " 60%|██████    | 24/40 [09:31<06:19, 23.72s/it]"
     ]
    },
    {
     "name": "stdout",
     "output_type": "stream",
     "text": [
      "Epoch 23\t Loss=4559.2236\n"
     ]
    },
    {
     "name": "stderr",
     "output_type": "stream",
     "text": [
      " 62%|██████▎   | 25/40 [09:55<05:57, 23.82s/it]"
     ]
    },
    {
     "name": "stdout",
     "output_type": "stream",
     "text": [
      "Epoch 24\t Loss=4560.4615\n"
     ]
    },
    {
     "name": "stderr",
     "output_type": "stream",
     "text": [
      " 65%|██████▌   | 26/40 [10:20<05:37, 24.12s/it]"
     ]
    },
    {
     "name": "stdout",
     "output_type": "stream",
     "text": [
      "Epoch 25\t Loss=4548.6258\n"
     ]
    },
    {
     "name": "stderr",
     "output_type": "stream",
     "text": [
      " 68%|██████▊   | 27/40 [10:45<05:17, 24.44s/it]"
     ]
    },
    {
     "name": "stdout",
     "output_type": "stream",
     "text": [
      "Epoch 26\t Loss=4548.3270\n"
     ]
    },
    {
     "name": "stderr",
     "output_type": "stream",
     "text": [
      " 70%|███████   | 28/40 [11:09<04:53, 24.45s/it]"
     ]
    },
    {
     "name": "stdout",
     "output_type": "stream",
     "text": [
      "Epoch 27\t Loss=4549.0230\n"
     ]
    },
    {
     "name": "stderr",
     "output_type": "stream",
     "text": [
      " 72%|███████▎  | 29/40 [11:38<04:43, 25.81s/it]"
     ]
    },
    {
     "name": "stdout",
     "output_type": "stream",
     "text": [
      "Epoch 28\t Loss=4553.1175\n"
     ]
    },
    {
     "name": "stderr",
     "output_type": "stream",
     "text": [
      " 75%|███████▌  | 30/40 [12:05<04:22, 26.24s/it]"
     ]
    },
    {
     "name": "stdout",
     "output_type": "stream",
     "text": [
      "Epoch 29\t Loss=4543.7691\n"
     ]
    },
    {
     "name": "stderr",
     "output_type": "stream",
     "text": [
      " 78%|███████▊  | 31/40 [12:30<03:52, 25.83s/it]"
     ]
    },
    {
     "name": "stdout",
     "output_type": "stream",
     "text": [
      "Epoch 30\t Loss=4542.7317\n"
     ]
    },
    {
     "name": "stderr",
     "output_type": "stream",
     "text": [
      " 80%|████████  | 32/40 [12:55<03:24, 25.51s/it]"
     ]
    },
    {
     "name": "stdout",
     "output_type": "stream",
     "text": [
      "Epoch 31\t Loss=4542.5320\n"
     ]
    },
    {
     "name": "stderr",
     "output_type": "stream",
     "text": [
      " 82%|████████▎ | 33/40 [13:19<02:55, 25.13s/it]"
     ]
    },
    {
     "name": "stdout",
     "output_type": "stream",
     "text": [
      "Epoch 32\t Loss=4544.0853\n"
     ]
    },
    {
     "name": "stderr",
     "output_type": "stream",
     "text": [
      " 85%|████████▌ | 34/40 [13:43<02:28, 24.77s/it]"
     ]
    },
    {
     "name": "stdout",
     "output_type": "stream",
     "text": [
      "Epoch 33\t Loss=4536.3548\n"
     ]
    },
    {
     "name": "stderr",
     "output_type": "stream",
     "text": [
      " 88%|████████▊ | 35/40 [14:07<02:02, 24.60s/it]"
     ]
    },
    {
     "name": "stdout",
     "output_type": "stream",
     "text": [
      "Epoch 34\t Loss=4535.6144\n"
     ]
    },
    {
     "name": "stderr",
     "output_type": "stream",
     "text": [
      " 90%|█████████ | 36/40 [14:32<01:38, 24.51s/it]"
     ]
    },
    {
     "name": "stdout",
     "output_type": "stream",
     "text": [
      "Epoch 35\t Loss=4536.2806\n"
     ]
    },
    {
     "name": "stderr",
     "output_type": "stream",
     "text": [
      " 92%|█████████▎| 37/40 [14:56<01:12, 24.28s/it]"
     ]
    },
    {
     "name": "stdout",
     "output_type": "stream",
     "text": [
      "Epoch 36\t Loss=4536.4306\n"
     ]
    },
    {
     "name": "stderr",
     "output_type": "stream",
     "text": [
      " 95%|█████████▌| 38/40 [15:21<00:49, 24.57s/it]"
     ]
    },
    {
     "name": "stdout",
     "output_type": "stream",
     "text": [
      "Epoch 37\t Loss=4532.5435\n"
     ]
    },
    {
     "name": "stderr",
     "output_type": "stream",
     "text": [
      " 98%|█████████▊| 39/40 [15:45<00:24, 24.48s/it]"
     ]
    },
    {
     "name": "stdout",
     "output_type": "stream",
     "text": [
      "Epoch 38\t Loss=4524.8250\n"
     ]
    },
    {
     "name": "stderr",
     "output_type": "stream",
     "text": [
      "100%|██████████| 40/40 [16:10<00:00, 24.25s/it]"
     ]
    },
    {
     "name": "stdout",
     "output_type": "stream",
     "text": [
      "Epoch 39\t Loss=4528.6368\n"
     ]
    },
    {
     "name": "stderr",
     "output_type": "stream",
     "text": [
      "\n"
     ]
    },
    {
     "data": {
      "image/png": "[encoded data removed]",
      "text/plain": [
       "<Figure size 640x480 with 1 Axes>"
      ]
     },
     "metadata": {},
     "output_type": "display_data"
    }
   ],
   "source": [
    "model_vae = VAE2(latent_dim=20)\n",
    "model_vae = train_vae2(model_vae, train_loader, n_epochs=n_epochs, lr=lr)\n",
    "# You can use the following code to visualize generated samples\n",
    "model_vae.eval()\n",
    "x_hat = model_vae.sample(64, \"cpu\")\n",
    "# x_hat = x_hat.bernoulli()\n",
    "show_and_save(make_grid(x_hat.view(64, 1, 28, 28).data.cpu()), \"vae_fake\")"
   ]
  },
  {
   "cell_type": "code",
   "execution_count": 13,
   "id": "ae5bfec7",
   "metadata": {},
   "outputs": [],
   "source": [
    "model_vae = VAE2(latent_dim=20)"
   ]
  },
  {
   "cell_type": "code",
   "execution_count": 14,
   "id": "b7a4c490",
   "metadata": {},
   "outputs": [
    {
     "data": {
      "text/plain": [
       "tensor([[[[ 0.2207, -0.1437, -0.1115],\n",
       "          [ 0.2286,  0.2174,  0.1250],\n",
       "          [-0.0213, -0.1251,  0.0919]]],\n",
       "\n",
       "\n",
       "        [[[ 0.1355,  0.2624, -0.2731],\n",
       "          [ 0.0403, -0.0130,  0.0057],\n",
       "          [-0.2036, -0.1503,  0.1508]]],\n",
       "\n",
       "\n",
       "        [[[ 0.2400, -0.2542,  0.2645],\n",
       "          [-0.1514, -0.1807,  0.1777],\n",
       "          [-0.3063,  0.2556, -0.1796]]],\n",
       "\n",
       "\n",
       "        [[[ 0.1916,  0.0426,  0.2348],\n",
       "          [-0.2841, -0.2932, -0.1923],\n",
       "          [ 0.0922,  0.2044, -0.3144]]],\n",
       "\n",
       "\n",
       "        [[[-0.0760,  0.2765, -0.2750],\n",
       "          [ 0.0950, -0.1041, -0.0370],\n",
       "          [-0.0046, -0.2314, -0.2452]]],\n",
       "\n",
       "\n",
       "        [[[-0.2904, -0.2546, -0.2820],\n",
       "          [-0.2564,  0.2952, -0.0361],\n",
       "          [-0.0533, -0.2053,  0.0285]]],\n",
       "\n",
       "\n",
       "        [[[-0.1085,  0.2267,  0.2028],\n",
       "          [-0.3057,  0.1822, -0.1253],\n",
       "          [ 0.1490, -0.2185, -0.2877]]],\n",
       "\n",
       "\n",
       "        [[[-0.3247,  0.3280, -0.2789],\n",
       "          [-0.1785, -0.0114, -0.0126],\n",
       "          [ 0.0889,  0.1844,  0.1515]]]])"
      ]
     },
     "execution_count": 14,
     "metadata": {},
     "output_type": "execute_result"
    }
   ],
   "source": [
    "model_vae.state_dict()['conv1.weight']"
   ]
  },
  {
   "cell_type": "code",
   "execution_count": null,
   "id": "50799849",
   "metadata": {},
   "outputs": [],
   "source": []
  }
 ],
 "metadata": {
  "kernelspec": {
   "display_name": "num-embeddings",
   "language": "python",
   "name": "python3"
  },
  "language_info": {
   "codemirror_mode": {
    "name": "ipython",
    "version": 3
   },
   "file_extension": ".py",
   "mimetype": "text/x-python",
   "name": "python",
   "nbconvert_exporter": "python",
   "pygments_lexer": "ipython3",
   "version": "3.9.7"
  }
 },
 "nbformat": 4,
 "nbformat_minor": 5
}
