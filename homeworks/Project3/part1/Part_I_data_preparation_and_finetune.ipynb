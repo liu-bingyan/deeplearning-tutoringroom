{
  "cells": [
    {
      "cell_type": "markdown",
      "source": [
        "You’re a Machine Learning Engineer at a fast-paced AI startup building intelligent assistant products powered by large language models. Your team is evaluating Meta’s LLaMA model as a potential foundation model for your internal applications.\n",
        "\n",
        "In this phase of the project, your goal is to run a fine-tuning proof of concept (PoC). You’ll start by preparing a dataset relevant to your use case, tokenizing it, and creating a dataloader. Then, you’ll serve the base LLaMA model using huggingface transformer to establish a performance baseline.\n",
        "\n",
        "Once the baseline is established, you’ll fine-tune the model using methods like LoRA or other resource-efficient techniques. Finally, you’ll re-evaluate the model to measure accuracy improvements using task-specific metrics (e.g., BLEU, ROUGE etc.), and reflect on how fine-tuning affects model performance.\n",
        "\n",
        "**The T4 GPU on Google Colab should be sufficient for this MP. You don’t need to purchase Colab Pro, as the T4 is available for free for a limited time every day. However, avoid wasting GPU time when not running code, as the free tier can run out quickly.**\n",
        "\n"
      ],
      "metadata": {
        "id": "yEOjZyTZdp_9"
      },
      "id": "yEOjZyTZdp_9"
    },
    {
      "cell_type": "markdown",
      "source": [
        "# Step 0: set up environment"
      ],
      "metadata": {
        "id": "fhF6eK8cT9MY"
      },
      "id": "fhF6eK8cT9MY"
    },
    {
      "cell_type": "code",
      "execution_count": 1,
      "id": "64b4e20b-4988-4a38-bcde-3ca9172fb934",
      "metadata": {
        "scrolled": true,
        "id": "64b4e20b-4988-4a38-bcde-3ca9172fb934",
        "collapsed": true,
        "colab": {
          "base_uri": "https://localhost:8080/"
        },
        "outputId": "5947f9d4-b8aa-471d-ccd0-926ba94dc1f7"
      },
      "outputs": [
        {
          "output_type": "stream",
          "name": "stdout",
          "text": [
            "Collecting datasets\n",
            "  Downloading datasets-3.5.0-py3-none-any.whl.metadata (19 kB)\n",
            "Requirement already satisfied: filelock in /usr/local/lib/python3.11/dist-packages (from datasets) (3.18.0)\n",
            "Requirement already satisfied: numpy>=1.17 in /usr/local/lib/python3.11/dist-packages (from datasets) (2.0.2)\n",
            "Requirement already satisfied: pyarrow>=15.0.0 in /usr/local/lib/python3.11/dist-packages (from datasets) (18.1.0)\n",
            "Collecting dill<0.3.9,>=0.3.0 (from datasets)\n",
            "  Downloading dill-0.3.8-py3-none-any.whl.metadata (10 kB)\n",
            "Requirement already satisfied: pandas in /usr/local/lib/python3.11/dist-packages (from datasets) (2.2.2)\n",
            "Requirement already satisfied: requests>=2.32.2 in /usr/local/lib/python3.11/dist-packages (from datasets) (2.32.3)\n",
            "Requirement already satisfied: tqdm>=4.66.3 in /usr/local/lib/python3.11/dist-packages (from datasets) (4.67.1)\n",
            "Collecting xxhash (from datasets)\n",
            "  Downloading xxhash-3.5.0-cp311-cp311-manylinux_2_17_x86_64.manylinux2014_x86_64.whl.metadata (12 kB)\n",
            "Collecting multiprocess<0.70.17 (from datasets)\n",
            "  Downloading multiprocess-0.70.16-py311-none-any.whl.metadata (7.2 kB)\n",
            "Collecting fsspec<=2024.12.0,>=2023.1.0 (from fsspec[http]<=2024.12.0,>=2023.1.0->datasets)\n",
            "  Downloading fsspec-2024.12.0-py3-none-any.whl.metadata (11 kB)\n",
            "Requirement already satisfied: aiohttp in /usr/local/lib/python3.11/dist-packages (from datasets) (3.11.15)\n",
            "Requirement already satisfied: huggingface-hub>=0.24.0 in /usr/local/lib/python3.11/dist-packages (from datasets) (0.30.2)\n",
            "Requirement already satisfied: packaging in /usr/local/lib/python3.11/dist-packages (from datasets) (24.2)\n",
            "Requirement already satisfied: pyyaml>=5.1 in /usr/local/lib/python3.11/dist-packages (from datasets) (6.0.2)\n",
            "Requirement already satisfied: aiohappyeyeballs>=2.3.0 in /usr/local/lib/python3.11/dist-packages (from aiohttp->datasets) (2.6.1)\n",
            "Requirement already satisfied: aiosignal>=1.1.2 in /usr/local/lib/python3.11/dist-packages (from aiohttp->datasets) (1.3.2)\n",
            "Requirement already satisfied: attrs>=17.3.0 in /usr/local/lib/python3.11/dist-packages (from aiohttp->datasets) (25.3.0)\n",
            "Requirement already satisfied: frozenlist>=1.1.1 in /usr/local/lib/python3.11/dist-packages (from aiohttp->datasets) (1.5.0)\n",
            "Requirement already satisfied: multidict<7.0,>=4.5 in /usr/local/lib/python3.11/dist-packages (from aiohttp->datasets) (6.4.2)\n",
            "Requirement already satisfied: propcache>=0.2.0 in /usr/local/lib/python3.11/dist-packages (from aiohttp->datasets) (0.3.1)\n",
            "Requirement already satisfied: yarl<2.0,>=1.17.0 in /usr/local/lib/python3.11/dist-packages (from aiohttp->datasets) (1.19.0)\n",
            "Requirement already satisfied: typing-extensions>=3.7.4.3 in /usr/local/lib/python3.11/dist-packages (from huggingface-hub>=0.24.0->datasets) (4.13.1)\n",
            "Requirement already satisfied: charset-normalizer<4,>=2 in /usr/local/lib/python3.11/dist-packages (from requests>=2.32.2->datasets) (3.4.1)\n",
            "Requirement already satisfied: idna<4,>=2.5 in /usr/local/lib/python3.11/dist-packages (from requests>=2.32.2->datasets) (3.10)\n",
            "Requirement already satisfied: urllib3<3,>=1.21.1 in /usr/local/lib/python3.11/dist-packages (from requests>=2.32.2->datasets) (2.3.0)\n",
            "Requirement already satisfied: certifi>=2017.4.17 in /usr/local/lib/python3.11/dist-packages (from requests>=2.32.2->datasets) (2025.1.31)\n",
            "Requirement already satisfied: python-dateutil>=2.8.2 in /usr/local/lib/python3.11/dist-packages (from pandas->datasets) (2.8.2)\n",
            "Requirement already satisfied: pytz>=2020.1 in /usr/local/lib/python3.11/dist-packages (from pandas->datasets) (2025.2)\n",
            "Requirement already satisfied: tzdata>=2022.7 in /usr/local/lib/python3.11/dist-packages (from pandas->datasets) (2025.2)\n",
            "Requirement already satisfied: six>=1.5 in /usr/local/lib/python3.11/dist-packages (from python-dateutil>=2.8.2->pandas->datasets) (1.17.0)\n",
            "Downloading datasets-3.5.0-py3-none-any.whl (491 kB)\n",
            "\u001b[2K   \u001b[90m━━━━━━━━━━━━━━━━━━━━━━━━━━━━━━━━━━━━━━━━\u001b[0m \u001b[32m491.2/491.2 kB\u001b[0m \u001b[31m8.2 MB/s\u001b[0m eta \u001b[36m0:00:00\u001b[0m\n",
            "\u001b[?25hDownloading dill-0.3.8-py3-none-any.whl (116 kB)\n",
            "\u001b[2K   \u001b[90m━━━━━━━━━━━━━━━━━━━━━━━━━━━━━━━━━━━━━━━━\u001b[0m \u001b[32m116.3/116.3 kB\u001b[0m \u001b[31m10.7 MB/s\u001b[0m eta \u001b[36m0:00:00\u001b[0m\n",
            "\u001b[?25hDownloading fsspec-2024.12.0-py3-none-any.whl (183 kB)\n",
            "\u001b[2K   \u001b[90m━━━━━━━━━━━━━━━━━━━━━━━━━━━━━━━━━━━━━━━━\u001b[0m \u001b[32m183.9/183.9 kB\u001b[0m \u001b[31m16.0 MB/s\u001b[0m eta \u001b[36m0:00:00\u001b[0m\n",
            "\u001b[?25hDownloading multiprocess-0.70.16-py311-none-any.whl (143 kB)\n",
            "\u001b[2K   \u001b[90m━━━━━━━━━━━━━━━━━━━━━━━━━━━━━━━━━━━━━━━━\u001b[0m \u001b[32m143.5/143.5 kB\u001b[0m \u001b[31m12.3 MB/s\u001b[0m eta \u001b[36m0:00:00\u001b[0m\n",
            "\u001b[?25hDownloading xxhash-3.5.0-cp311-cp311-manylinux_2_17_x86_64.manylinux2014_x86_64.whl (194 kB)\n",
            "\u001b[2K   \u001b[90m━━━━━━━━━━━━━━━━━━━━━━━━━━━━━━━━━━━━━━━━\u001b[0m \u001b[32m194.8/194.8 kB\u001b[0m \u001b[31m16.7 MB/s\u001b[0m eta \u001b[36m0:00:00\u001b[0m\n",
            "\u001b[?25hInstalling collected packages: xxhash, fsspec, dill, multiprocess, datasets\n",
            "  Attempting uninstall: fsspec\n",
            "    Found existing installation: fsspec 2025.3.2\n",
            "    Uninstalling fsspec-2025.3.2:\n",
            "      Successfully uninstalled fsspec-2025.3.2\n",
            "\u001b[31mERROR: pip's dependency resolver does not currently take into account all the packages that are installed. This behaviour is the source of the following dependency conflicts.\n",
            "gcsfs 2025.3.2 requires fsspec==2025.3.2, but you have fsspec 2024.12.0 which is incompatible.\n",
            "torch 2.6.0+cu124 requires nvidia-cublas-cu12==12.4.5.8; platform_system == \"Linux\" and platform_machine == \"x86_64\", but you have nvidia-cublas-cu12 12.5.3.2 which is incompatible.\n",
            "torch 2.6.0+cu124 requires nvidia-cuda-cupti-cu12==12.4.127; platform_system == \"Linux\" and platform_machine == \"x86_64\", but you have nvidia-cuda-cupti-cu12 12.5.82 which is incompatible.\n",
            "torch 2.6.0+cu124 requires nvidia-cuda-nvrtc-cu12==12.4.127; platform_system == \"Linux\" and platform_machine == \"x86_64\", but you have nvidia-cuda-nvrtc-cu12 12.5.82 which is incompatible.\n",
            "torch 2.6.0+cu124 requires nvidia-cuda-runtime-cu12==12.4.127; platform_system == \"Linux\" and platform_machine == \"x86_64\", but you have nvidia-cuda-runtime-cu12 12.5.82 which is incompatible.\n",
            "torch 2.6.0+cu124 requires nvidia-cudnn-cu12==9.1.0.70; platform_system == \"Linux\" and platform_machine == \"x86_64\", but you have nvidia-cudnn-cu12 9.3.0.75 which is incompatible.\n",
            "torch 2.6.0+cu124 requires nvidia-cufft-cu12==11.2.1.3; platform_system == \"Linux\" and platform_machine == \"x86_64\", but you have nvidia-cufft-cu12 11.2.3.61 which is incompatible.\n",
            "torch 2.6.0+cu124 requires nvidia-curand-cu12==10.3.5.147; platform_system == \"Linux\" and platform_machine == \"x86_64\", but you have nvidia-curand-cu12 10.3.6.82 which is incompatible.\n",
            "torch 2.6.0+cu124 requires nvidia-cusolver-cu12==11.6.1.9; platform_system == \"Linux\" and platform_machine == \"x86_64\", but you have nvidia-cusolver-cu12 11.6.3.83 which is incompatible.\n",
            "torch 2.6.0+cu124 requires nvidia-cusparse-cu12==12.3.1.170; platform_system == \"Linux\" and platform_machine == \"x86_64\", but you have nvidia-cusparse-cu12 12.5.1.3 which is incompatible.\n",
            "torch 2.6.0+cu124 requires nvidia-nvjitlink-cu12==12.4.127; platform_system == \"Linux\" and platform_machine == \"x86_64\", but you have nvidia-nvjitlink-cu12 12.5.82 which is incompatible.\u001b[0m\u001b[31m\n",
            "\u001b[0mSuccessfully installed datasets-3.5.0 dill-0.3.8 fsspec-2024.12.0 multiprocess-0.70.16 xxhash-3.5.0\n",
            "Collecting transformers==4.46.2\n",
            "  Downloading transformers-4.46.2-py3-none-any.whl.metadata (44 kB)\n",
            "\u001b[2K     \u001b[90m━━━━━━━━━━━━━━━━━━━━━━━━━━━━━━━━━━━━━━━━\u001b[0m \u001b[32m44.1/44.1 kB\u001b[0m \u001b[31m1.7 MB/s\u001b[0m eta \u001b[36m0:00:00\u001b[0m\n",
            "\u001b[?25hRequirement already satisfied: filelock in /usr/local/lib/python3.11/dist-packages (from transformers==4.46.2) (3.18.0)\n",
            "Requirement already satisfied: huggingface-hub<1.0,>=0.23.2 in /usr/local/lib/python3.11/dist-packages (from transformers==4.46.2) (0.30.2)\n",
            "Requirement already satisfied: numpy>=1.17 in /usr/local/lib/python3.11/dist-packages (from transformers==4.46.2) (2.0.2)\n",
            "Requirement already satisfied: packaging>=20.0 in /usr/local/lib/python3.11/dist-packages (from transformers==4.46.2) (24.2)\n",
            "Requirement already satisfied: pyyaml>=5.1 in /usr/local/lib/python3.11/dist-packages (from transformers==4.46.2) (6.0.2)\n",
            "Requirement already satisfied: regex!=2019.12.17 in /usr/local/lib/python3.11/dist-packages (from transformers==4.46.2) (2024.11.6)\n",
            "Requirement already satisfied: requests in /usr/local/lib/python3.11/dist-packages (from transformers==4.46.2) (2.32.3)\n",
            "Requirement already satisfied: safetensors>=0.4.1 in /usr/local/lib/python3.11/dist-packages (from transformers==4.46.2) (0.5.3)\n",
            "Collecting tokenizers<0.21,>=0.20 (from transformers==4.46.2)\n",
            "  Downloading tokenizers-0.20.3-cp311-cp311-manylinux_2_17_x86_64.manylinux2014_x86_64.whl.metadata (6.7 kB)\n",
            "Requirement already satisfied: tqdm>=4.27 in /usr/local/lib/python3.11/dist-packages (from transformers==4.46.2) (4.67.1)\n",
            "Requirement already satisfied: fsspec>=2023.5.0 in /usr/local/lib/python3.11/dist-packages (from huggingface-hub<1.0,>=0.23.2->transformers==4.46.2) (2024.12.0)\n",
            "Requirement already satisfied: typing-extensions>=3.7.4.3 in /usr/local/lib/python3.11/dist-packages (from huggingface-hub<1.0,>=0.23.2->transformers==4.46.2) (4.13.1)\n",
            "Requirement already satisfied: charset-normalizer<4,>=2 in /usr/local/lib/python3.11/dist-packages (from requests->transformers==4.46.2) (3.4.1)\n",
            "Requirement already satisfied: idna<4,>=2.5 in /usr/local/lib/python3.11/dist-packages (from requests->transformers==4.46.2) (3.10)\n",
            "Requirement already satisfied: urllib3<3,>=1.21.1 in /usr/local/lib/python3.11/dist-packages (from requests->transformers==4.46.2) (2.3.0)\n",
            "Requirement already satisfied: certifi>=2017.4.17 in /usr/local/lib/python3.11/dist-packages (from requests->transformers==4.46.2) (2025.1.31)\n",
            "Downloading transformers-4.46.2-py3-none-any.whl (10.0 MB)\n",
            "\u001b[2K   \u001b[90m━━━━━━━━━━━━━━━━━━━━━━━━━━━━━━━━━━━━━━━━\u001b[0m \u001b[32m10.0/10.0 MB\u001b[0m \u001b[31m73.3 MB/s\u001b[0m eta \u001b[36m0:00:00\u001b[0m\n",
            "\u001b[?25hDownloading tokenizers-0.20.3-cp311-cp311-manylinux_2_17_x86_64.manylinux2014_x86_64.whl (3.0 MB)\n",
            "\u001b[2K   \u001b[90m━━━━━━━━━━━━━━━━━━━━━━━━━━━━━━━━━━━━━━━━\u001b[0m \u001b[32m3.0/3.0 MB\u001b[0m \u001b[31m96.3 MB/s\u001b[0m eta \u001b[36m0:00:00\u001b[0m\n",
            "\u001b[?25hInstalling collected packages: tokenizers, transformers\n",
            "  Attempting uninstall: tokenizers\n",
            "    Found existing installation: tokenizers 0.21.1\n",
            "    Uninstalling tokenizers-0.21.1:\n",
            "      Successfully uninstalled tokenizers-0.21.1\n",
            "  Attempting uninstall: transformers\n",
            "    Found existing installation: transformers 4.51.1\n",
            "    Uninstalling transformers-4.51.1:\n",
            "      Successfully uninstalled transformers-4.51.1\n",
            "Successfully installed tokenizers-0.20.3 transformers-4.46.2\n",
            "Requirement already satisfied: absl-py in /usr/local/lib/python3.11/dist-packages (1.4.0)\n",
            "Requirement already satisfied: nltk in /usr/local/lib/python3.11/dist-packages (3.9.1)\n",
            "Collecting rouge-score\n",
            "  Downloading rouge_score-0.1.2.tar.gz (17 kB)\n",
            "  Preparing metadata (setup.py) ... \u001b[?25l\u001b[?25hdone\n",
            "Requirement already satisfied: click in /usr/local/lib/python3.11/dist-packages (from nltk) (8.1.8)\n",
            "Requirement already satisfied: joblib in /usr/local/lib/python3.11/dist-packages (from nltk) (1.4.2)\n",
            "Requirement already satisfied: regex>=2021.8.3 in /usr/local/lib/python3.11/dist-packages (from nltk) (2024.11.6)\n",
            "Requirement already satisfied: tqdm in /usr/local/lib/python3.11/dist-packages (from nltk) (4.67.1)\n",
            "Requirement already satisfied: numpy in /usr/local/lib/python3.11/dist-packages (from rouge-score) (2.0.2)\n",
            "Requirement already satisfied: six>=1.14.0 in /usr/local/lib/python3.11/dist-packages (from rouge-score) (1.17.0)\n",
            "Building wheels for collected packages: rouge-score\n",
            "  Building wheel for rouge-score (setup.py) ... \u001b[?25l\u001b[?25hdone\n",
            "  Created wheel for rouge-score: filename=rouge_score-0.1.2-py3-none-any.whl size=24934 sha256=13cb4bb428ea8f693709fa1fe33576a711d2b337bf5ca6feeb9e99fae7d2eb8d\n",
            "  Stored in directory: /root/.cache/pip/wheels/1e/19/43/8a442dc83660ca25e163e1bd1f89919284ab0d0c1475475148\n",
            "Successfully built rouge-score\n",
            "Installing collected packages: rouge-score\n",
            "Successfully installed rouge-score-0.1.2\n",
            "Collecting evaluate\n",
            "  Downloading evaluate-0.4.3-py3-none-any.whl.metadata (9.2 kB)\n",
            "Requirement already satisfied: datasets>=2.0.0 in /usr/local/lib/python3.11/dist-packages (from evaluate) (3.5.0)\n",
            "Requirement already satisfied: numpy>=1.17 in /usr/local/lib/python3.11/dist-packages (from evaluate) (2.0.2)\n",
            "Requirement already satisfied: dill in /usr/local/lib/python3.11/dist-packages (from evaluate) (0.3.8)\n",
            "Requirement already satisfied: pandas in /usr/local/lib/python3.11/dist-packages (from evaluate) (2.2.2)\n",
            "Requirement already satisfied: requests>=2.19.0 in /usr/local/lib/python3.11/dist-packages (from evaluate) (2.32.3)\n",
            "Requirement already satisfied: tqdm>=4.62.1 in /usr/local/lib/python3.11/dist-packages (from evaluate) (4.67.1)\n",
            "Requirement already satisfied: xxhash in /usr/local/lib/python3.11/dist-packages (from evaluate) (3.5.0)\n",
            "Requirement already satisfied: multiprocess in /usr/local/lib/python3.11/dist-packages (from evaluate) (0.70.16)\n",
            "Requirement already satisfied: fsspec>=2021.05.0 in /usr/local/lib/python3.11/dist-packages (from fsspec[http]>=2021.05.0->evaluate) (2024.12.0)\n",
            "Requirement already satisfied: huggingface-hub>=0.7.0 in /usr/local/lib/python3.11/dist-packages (from evaluate) (0.30.2)\n",
            "Requirement already satisfied: packaging in /usr/local/lib/python3.11/dist-packages (from evaluate) (24.2)\n",
            "Requirement already satisfied: filelock in /usr/local/lib/python3.11/dist-packages (from datasets>=2.0.0->evaluate) (3.18.0)\n",
            "Requirement already satisfied: pyarrow>=15.0.0 in /usr/local/lib/python3.11/dist-packages (from datasets>=2.0.0->evaluate) (18.1.0)\n",
            "Requirement already satisfied: aiohttp in /usr/local/lib/python3.11/dist-packages (from datasets>=2.0.0->evaluate) (3.11.15)\n",
            "Requirement already satisfied: pyyaml>=5.1 in /usr/local/lib/python3.11/dist-packages (from datasets>=2.0.0->evaluate) (6.0.2)\n",
            "Requirement already satisfied: typing-extensions>=3.7.4.3 in /usr/local/lib/python3.11/dist-packages (from huggingface-hub>=0.7.0->evaluate) (4.13.1)\n",
            "Requirement already satisfied: charset-normalizer<4,>=2 in /usr/local/lib/python3.11/dist-packages (from requests>=2.19.0->evaluate) (3.4.1)\n",
            "Requirement already satisfied: idna<4,>=2.5 in /usr/local/lib/python3.11/dist-packages (from requests>=2.19.0->evaluate) (3.10)\n",
            "Requirement already satisfied: urllib3<3,>=1.21.1 in /usr/local/lib/python3.11/dist-packages (from requests>=2.19.0->evaluate) (2.3.0)\n",
            "Requirement already satisfied: certifi>=2017.4.17 in /usr/local/lib/python3.11/dist-packages (from requests>=2.19.0->evaluate) (2025.1.31)\n",
            "Requirement already satisfied: python-dateutil>=2.8.2 in /usr/local/lib/python3.11/dist-packages (from pandas->evaluate) (2.8.2)\n",
            "Requirement already satisfied: pytz>=2020.1 in /usr/local/lib/python3.11/dist-packages (from pandas->evaluate) (2025.2)\n",
            "Requirement already satisfied: tzdata>=2022.7 in /usr/local/lib/python3.11/dist-packages (from pandas->evaluate) (2025.2)\n",
            "Requirement already satisfied: aiohappyeyeballs>=2.3.0 in /usr/local/lib/python3.11/dist-packages (from aiohttp->datasets>=2.0.0->evaluate) (2.6.1)\n",
            "Requirement already satisfied: aiosignal>=1.1.2 in /usr/local/lib/python3.11/dist-packages (from aiohttp->datasets>=2.0.0->evaluate) (1.3.2)\n",
            "Requirement already satisfied: attrs>=17.3.0 in /usr/local/lib/python3.11/dist-packages (from aiohttp->datasets>=2.0.0->evaluate) (25.3.0)\n",
            "Requirement already satisfied: frozenlist>=1.1.1 in /usr/local/lib/python3.11/dist-packages (from aiohttp->datasets>=2.0.0->evaluate) (1.5.0)\n",
            "Requirement already satisfied: multidict<7.0,>=4.5 in /usr/local/lib/python3.11/dist-packages (from aiohttp->datasets>=2.0.0->evaluate) (6.4.2)\n",
            "Requirement already satisfied: propcache>=0.2.0 in /usr/local/lib/python3.11/dist-packages (from aiohttp->datasets>=2.0.0->evaluate) (0.3.1)\n",
            "Requirement already satisfied: yarl<2.0,>=1.17.0 in /usr/local/lib/python3.11/dist-packages (from aiohttp->datasets>=2.0.0->evaluate) (1.19.0)\n",
            "Requirement already satisfied: six>=1.5 in /usr/local/lib/python3.11/dist-packages (from python-dateutil>=2.8.2->pandas->evaluate) (1.17.0)\n",
            "Downloading evaluate-0.4.3-py3-none-any.whl (84 kB)\n",
            "\u001b[2K   \u001b[90m━━━━━━━━━━━━━━━━━━━━━━━━━━━━━━━━━━━━━━━━\u001b[0m \u001b[32m84.0/84.0 kB\u001b[0m \u001b[31m2.2 MB/s\u001b[0m eta \u001b[36m0:00:00\u001b[0m\n",
            "\u001b[?25hInstalling collected packages: evaluate\n",
            "Successfully installed evaluate-0.4.3\n",
            "Collecting bert_score\n",
            "  Downloading bert_score-0.3.13-py3-none-any.whl.metadata (15 kB)\n",
            "Requirement already satisfied: torch>=1.0.0 in /usr/local/lib/python3.11/dist-packages (from bert_score) (2.6.0+cu124)\n",
            "Requirement already satisfied: pandas>=1.0.1 in /usr/local/lib/python3.11/dist-packages (from bert_score) (2.2.2)\n",
            "Requirement already satisfied: transformers>=3.0.0 in /usr/local/lib/python3.11/dist-packages (from bert_score) (4.46.2)\n",
            "Requirement already satisfied: numpy in /usr/local/lib/python3.11/dist-packages (from bert_score) (2.0.2)\n",
            "Requirement already satisfied: requests in /usr/local/lib/python3.11/dist-packages (from bert_score) (2.32.3)\n",
            "Requirement already satisfied: tqdm>=4.31.1 in /usr/local/lib/python3.11/dist-packages (from bert_score) (4.67.1)\n",
            "Requirement already satisfied: matplotlib in /usr/local/lib/python3.11/dist-packages (from bert_score) (3.10.0)\n",
            "Requirement already satisfied: packaging>=20.9 in /usr/local/lib/python3.11/dist-packages (from bert_score) (24.2)\n",
            "Requirement already satisfied: python-dateutil>=2.8.2 in /usr/local/lib/python3.11/dist-packages (from pandas>=1.0.1->bert_score) (2.8.2)\n",
            "Requirement already satisfied: pytz>=2020.1 in /usr/local/lib/python3.11/dist-packages (from pandas>=1.0.1->bert_score) (2025.2)\n",
            "Requirement already satisfied: tzdata>=2022.7 in /usr/local/lib/python3.11/dist-packages (from pandas>=1.0.1->bert_score) (2025.2)\n",
            "Requirement already satisfied: filelock in /usr/local/lib/python3.11/dist-packages (from torch>=1.0.0->bert_score) (3.18.0)\n",
            "Requirement already satisfied: typing-extensions>=4.10.0 in /usr/local/lib/python3.11/dist-packages (from torch>=1.0.0->bert_score) (4.13.1)\n",
            "Requirement already satisfied: networkx in /usr/local/lib/python3.11/dist-packages (from torch>=1.0.0->bert_score) (3.4.2)\n",
            "Requirement already satisfied: jinja2 in /usr/local/lib/python3.11/dist-packages (from torch>=1.0.0->bert_score) (3.1.6)\n",
            "Requirement already satisfied: fsspec in /usr/local/lib/python3.11/dist-packages (from torch>=1.0.0->bert_score) (2024.12.0)\n",
            "Collecting nvidia-cuda-nvrtc-cu12==12.4.127 (from torch>=1.0.0->bert_score)\n",
            "  Downloading nvidia_cuda_nvrtc_cu12-12.4.127-py3-none-manylinux2014_x86_64.whl.metadata (1.5 kB)\n",
            "Collecting nvidia-cuda-runtime-cu12==12.4.127 (from torch>=1.0.0->bert_score)\n",
            "  Downloading nvidia_cuda_runtime_cu12-12.4.127-py3-none-manylinux2014_x86_64.whl.metadata (1.5 kB)\n",
            "Collecting nvidia-cuda-cupti-cu12==12.4.127 (from torch>=1.0.0->bert_score)\n",
            "  Downloading nvidia_cuda_cupti_cu12-12.4.127-py3-none-manylinux2014_x86_64.whl.metadata (1.6 kB)\n",
            "Collecting nvidia-cudnn-cu12==9.1.0.70 (from torch>=1.0.0->bert_score)\n",
            "  Downloading nvidia_cudnn_cu12-9.1.0.70-py3-none-manylinux2014_x86_64.whl.metadata (1.6 kB)\n",
            "Collecting nvidia-cublas-cu12==12.4.5.8 (from torch>=1.0.0->bert_score)\n",
            "  Downloading nvidia_cublas_cu12-12.4.5.8-py3-none-manylinux2014_x86_64.whl.metadata (1.5 kB)\n",
            "Collecting nvidia-cufft-cu12==11.2.1.3 (from torch>=1.0.0->bert_score)\n",
            "  Downloading nvidia_cufft_cu12-11.2.1.3-py3-none-manylinux2014_x86_64.whl.metadata (1.5 kB)\n",
            "Collecting nvidia-curand-cu12==10.3.5.147 (from torch>=1.0.0->bert_score)\n",
            "  Downloading nvidia_curand_cu12-10.3.5.147-py3-none-manylinux2014_x86_64.whl.metadata (1.5 kB)\n",
            "Collecting nvidia-cusolver-cu12==11.6.1.9 (from torch>=1.0.0->bert_score)\n",
            "  Downloading nvidia_cusolver_cu12-11.6.1.9-py3-none-manylinux2014_x86_64.whl.metadata (1.6 kB)\n",
            "Collecting nvidia-cusparse-cu12==12.3.1.170 (from torch>=1.0.0->bert_score)\n",
            "  Downloading nvidia_cusparse_cu12-12.3.1.170-py3-none-manylinux2014_x86_64.whl.metadata (1.6 kB)\n",
            "Requirement already satisfied: nvidia-cusparselt-cu12==0.6.2 in /usr/local/lib/python3.11/dist-packages (from torch>=1.0.0->bert_score) (0.6.2)\n",
            "Requirement already satisfied: nvidia-nccl-cu12==2.21.5 in /usr/local/lib/python3.11/dist-packages (from torch>=1.0.0->bert_score) (2.21.5)\n",
            "Requirement already satisfied: nvidia-nvtx-cu12==12.4.127 in /usr/local/lib/python3.11/dist-packages (from torch>=1.0.0->bert_score) (12.4.127)\n",
            "Collecting nvidia-nvjitlink-cu12==12.4.127 (from torch>=1.0.0->bert_score)\n",
            "  Downloading nvidia_nvjitlink_cu12-12.4.127-py3-none-manylinux2014_x86_64.whl.metadata (1.5 kB)\n",
            "Requirement already satisfied: triton==3.2.0 in /usr/local/lib/python3.11/dist-packages (from torch>=1.0.0->bert_score) (3.2.0)\n",
            "Requirement already satisfied: sympy==1.13.1 in /usr/local/lib/python3.11/dist-packages (from torch>=1.0.0->bert_score) (1.13.1)\n",
            "Requirement already satisfied: mpmath<1.4,>=1.1.0 in /usr/local/lib/python3.11/dist-packages (from sympy==1.13.1->torch>=1.0.0->bert_score) (1.3.0)\n",
            "Requirement already satisfied: huggingface-hub<1.0,>=0.23.2 in /usr/local/lib/python3.11/dist-packages (from transformers>=3.0.0->bert_score) (0.30.2)\n",
            "Requirement already satisfied: pyyaml>=5.1 in /usr/local/lib/python3.11/dist-packages (from transformers>=3.0.0->bert_score) (6.0.2)\n",
            "Requirement already satisfied: regex!=2019.12.17 in /usr/local/lib/python3.11/dist-packages (from transformers>=3.0.0->bert_score) (2024.11.6)\n",
            "Requirement already satisfied: safetensors>=0.4.1 in /usr/local/lib/python3.11/dist-packages (from transformers>=3.0.0->bert_score) (0.5.3)\n",
            "Requirement already satisfied: tokenizers<0.21,>=0.20 in /usr/local/lib/python3.11/dist-packages (from transformers>=3.0.0->bert_score) (0.20.3)\n",
            "Requirement already satisfied: contourpy>=1.0.1 in /usr/local/lib/python3.11/dist-packages (from matplotlib->bert_score) (1.3.1)\n",
            "Requirement already satisfied: cycler>=0.10 in /usr/local/lib/python3.11/dist-packages (from matplotlib->bert_score) (0.12.1)\n",
            "Requirement already satisfied: fonttools>=4.22.0 in /usr/local/lib/python3.11/dist-packages (from matplotlib->bert_score) (4.57.0)\n",
            "Requirement already satisfied: kiwisolver>=1.3.1 in /usr/local/lib/python3.11/dist-packages (from matplotlib->bert_score) (1.4.8)\n",
            "Requirement already satisfied: pillow>=8 in /usr/local/lib/python3.11/dist-packages (from matplotlib->bert_score) (11.1.0)\n",
            "Requirement already satisfied: pyparsing>=2.3.1 in /usr/local/lib/python3.11/dist-packages (from matplotlib->bert_score) (3.2.3)\n",
            "Requirement already satisfied: charset-normalizer<4,>=2 in /usr/local/lib/python3.11/dist-packages (from requests->bert_score) (3.4.1)\n",
            "Requirement already satisfied: idna<4,>=2.5 in /usr/local/lib/python3.11/dist-packages (from requests->bert_score) (3.10)\n",
            "Requirement already satisfied: urllib3<3,>=1.21.1 in /usr/local/lib/python3.11/dist-packages (from requests->bert_score) (2.3.0)\n",
            "Requirement already satisfied: certifi>=2017.4.17 in /usr/local/lib/python3.11/dist-packages (from requests->bert_score) (2025.1.31)\n",
            "Requirement already satisfied: six>=1.5 in /usr/local/lib/python3.11/dist-packages (from python-dateutil>=2.8.2->pandas>=1.0.1->bert_score) (1.17.0)\n",
            "Requirement already satisfied: MarkupSafe>=2.0 in /usr/local/lib/python3.11/dist-packages (from jinja2->torch>=1.0.0->bert_score) (3.0.2)\n",
            "Downloading bert_score-0.3.13-py3-none-any.whl (61 kB)\n",
            "\u001b[2K   \u001b[90m━━━━━━━━━━━━━━━━━━━━━━━━━━━━━━━━━━━━━━━━\u001b[0m \u001b[32m61.1/61.1 kB\u001b[0m \u001b[31m2.5 MB/s\u001b[0m eta \u001b[36m0:00:00\u001b[0m\n",
            "\u001b[?25hDownloading nvidia_cublas_cu12-12.4.5.8-py3-none-manylinux2014_x86_64.whl (363.4 MB)\n",
            "\u001b[2K   \u001b[90m━━━━━━━━━━━━━━━━━━━━━━━━━━━━━━━━━━━━━━━━\u001b[0m \u001b[32m363.4/363.4 MB\u001b[0m \u001b[31m2.3 MB/s\u001b[0m eta \u001b[36m0:00:00\u001b[0m\n",
            "\u001b[?25hDownloading nvidia_cuda_cupti_cu12-12.4.127-py3-none-manylinux2014_x86_64.whl (13.8 MB)\n",
            "\u001b[2K   \u001b[90m━━━━━━━━━━━━━━━━━━━━━━━━━━━━━━━━━━━━━━━━\u001b[0m \u001b[32m13.8/13.8 MB\u001b[0m \u001b[31m115.0 MB/s\u001b[0m eta \u001b[36m0:00:00\u001b[0m\n",
            "\u001b[?25hDownloading nvidia_cuda_nvrtc_cu12-12.4.127-py3-none-manylinux2014_x86_64.whl (24.6 MB)\n",
            "\u001b[2K   \u001b[90m━━━━━━━━━━━━━━━━━━━━━━━━━━━━━━━━━━━━━━━━\u001b[0m \u001b[32m24.6/24.6 MB\u001b[0m \u001b[31m86.0 MB/s\u001b[0m eta \u001b[36m0:00:00\u001b[0m\n",
            "\u001b[?25hDownloading nvidia_cuda_runtime_cu12-12.4.127-py3-none-manylinux2014_x86_64.whl (883 kB)\n",
            "\u001b[2K   \u001b[90m━━━━━━━━━━━━━━━━━━━━━━━━━━━━━━━━━━━━━━━━\u001b[0m \u001b[32m883.7/883.7 kB\u001b[0m \u001b[31m50.7 MB/s\u001b[0m eta \u001b[36m0:00:00\u001b[0m\n",
            "\u001b[?25hDownloading nvidia_cudnn_cu12-9.1.0.70-py3-none-manylinux2014_x86_64.whl (664.8 MB)\n",
            "\u001b[2K   \u001b[90m━━━━━━━━━━━━━━━━━━━━━━━━━━━━━━━━━━━━━━━━\u001b[0m \u001b[32m664.8/664.8 MB\u001b[0m \u001b[31m1.4 MB/s\u001b[0m eta \u001b[36m0:00:00\u001b[0m\n",
            "\u001b[?25hDownloading nvidia_cufft_cu12-11.2.1.3-py3-none-manylinux2014_x86_64.whl (211.5 MB)\n",
            "\u001b[2K   \u001b[90m━━━━━━━━━━━━━━━━━━━━━━━━━━━━━━━━━━━━━━━━\u001b[0m \u001b[32m211.5/211.5 MB\u001b[0m \u001b[31m8.5 MB/s\u001b[0m eta \u001b[36m0:00:00\u001b[0m\n",
            "\u001b[?25hDownloading nvidia_curand_cu12-10.3.5.147-py3-none-manylinux2014_x86_64.whl (56.3 MB)\n",
            "\u001b[2K   \u001b[90m━━━━━━━━━━━━━━━━━━━━━━━━━━━━━━━━━━━━━━━━\u001b[0m \u001b[32m56.3/56.3 MB\u001b[0m \u001b[31m14.8 MB/s\u001b[0m eta \u001b[36m0:00:00\u001b[0m\n",
            "\u001b[?25hDownloading nvidia_cusolver_cu12-11.6.1.9-py3-none-manylinux2014_x86_64.whl (127.9 MB)\n",
            "\u001b[2K   \u001b[90m━━━━━━━━━━━━━━━━━━━━━━━━━━━━━━━━━━━━━━━━\u001b[0m \u001b[32m127.9/127.9 MB\u001b[0m \u001b[31m16.7 MB/s\u001b[0m eta \u001b[36m0:00:00\u001b[0m\n",
            "\u001b[?25hDownloading nvidia_cusparse_cu12-12.3.1.170-py3-none-manylinux2014_x86_64.whl (207.5 MB)\n",
            "\u001b[2K   \u001b[90m━━━━━━━━━━━━━━━━━━━━━━━━━━━━━━━━━━━━━━━━\u001b[0m \u001b[32m207.5/207.5 MB\u001b[0m \u001b[31m4.1 MB/s\u001b[0m eta \u001b[36m0:00:00\u001b[0m\n",
            "\u001b[?25hDownloading nvidia_nvjitlink_cu12-12.4.127-py3-none-manylinux2014_x86_64.whl (21.1 MB)\n",
            "\u001b[2K   \u001b[90m━━━━━━━━━━━━━━━━━━━━━━━━━━━━━━━━━━━━━━━━\u001b[0m \u001b[32m21.1/21.1 MB\u001b[0m \u001b[31m92.6 MB/s\u001b[0m eta \u001b[36m0:00:00\u001b[0m\n",
            "\u001b[?25hInstalling collected packages: nvidia-nvjitlink-cu12, nvidia-curand-cu12, nvidia-cufft-cu12, nvidia-cuda-runtime-cu12, nvidia-cuda-nvrtc-cu12, nvidia-cuda-cupti-cu12, nvidia-cublas-cu12, nvidia-cusparse-cu12, nvidia-cudnn-cu12, nvidia-cusolver-cu12, bert_score\n",
            "  Attempting uninstall: nvidia-nvjitlink-cu12\n",
            "    Found existing installation: nvidia-nvjitlink-cu12 12.5.82\n",
            "    Uninstalling nvidia-nvjitlink-cu12-12.5.82:\n",
            "      Successfully uninstalled nvidia-nvjitlink-cu12-12.5.82\n",
            "  Attempting uninstall: nvidia-curand-cu12\n",
            "    Found existing installation: nvidia-curand-cu12 10.3.6.82\n",
            "    Uninstalling nvidia-curand-cu12-10.3.6.82:\n",
            "      Successfully uninstalled nvidia-curand-cu12-10.3.6.82\n",
            "  Attempting uninstall: nvidia-cufft-cu12\n",
            "    Found existing installation: nvidia-cufft-cu12 11.2.3.61\n",
            "    Uninstalling nvidia-cufft-cu12-11.2.3.61:\n",
            "      Successfully uninstalled nvidia-cufft-cu12-11.2.3.61\n",
            "  Attempting uninstall: nvidia-cuda-runtime-cu12\n",
            "    Found existing installation: nvidia-cuda-runtime-cu12 12.5.82\n",
            "    Uninstalling nvidia-cuda-runtime-cu12-12.5.82:\n",
            "      Successfully uninstalled nvidia-cuda-runtime-cu12-12.5.82\n",
            "  Attempting uninstall: nvidia-cuda-nvrtc-cu12\n",
            "    Found existing installation: nvidia-cuda-nvrtc-cu12 12.5.82\n",
            "    Uninstalling nvidia-cuda-nvrtc-cu12-12.5.82:\n",
            "      Successfully uninstalled nvidia-cuda-nvrtc-cu12-12.5.82\n",
            "  Attempting uninstall: nvidia-cuda-cupti-cu12\n",
            "    Found existing installation: nvidia-cuda-cupti-cu12 12.5.82\n",
            "    Uninstalling nvidia-cuda-cupti-cu12-12.5.82:\n",
            "      Successfully uninstalled nvidia-cuda-cupti-cu12-12.5.82\n",
            "  Attempting uninstall: nvidia-cublas-cu12\n",
            "    Found existing installation: nvidia-cublas-cu12 12.5.3.2\n",
            "    Uninstalling nvidia-cublas-cu12-12.5.3.2:\n",
            "      Successfully uninstalled nvidia-cublas-cu12-12.5.3.2\n",
            "  Attempting uninstall: nvidia-cusparse-cu12\n",
            "    Found existing installation: nvidia-cusparse-cu12 12.5.1.3\n",
            "    Uninstalling nvidia-cusparse-cu12-12.5.1.3:\n",
            "      Successfully uninstalled nvidia-cusparse-cu12-12.5.1.3\n",
            "  Attempting uninstall: nvidia-cudnn-cu12\n",
            "    Found existing installation: nvidia-cudnn-cu12 9.3.0.75\n",
            "    Uninstalling nvidia-cudnn-cu12-9.3.0.75:\n",
            "      Successfully uninstalled nvidia-cudnn-cu12-9.3.0.75\n",
            "  Attempting uninstall: nvidia-cusolver-cu12\n",
            "    Found existing installation: nvidia-cusolver-cu12 11.6.3.83\n",
            "    Uninstalling nvidia-cusolver-cu12-11.6.3.83:\n",
            "      Successfully uninstalled nvidia-cusolver-cu12-11.6.3.83\n",
            "Successfully installed bert_score-0.3.13 nvidia-cublas-cu12-12.4.5.8 nvidia-cuda-cupti-cu12-12.4.127 nvidia-cuda-nvrtc-cu12-12.4.127 nvidia-cuda-runtime-cu12-12.4.127 nvidia-cudnn-cu12-9.1.0.70 nvidia-cufft-cu12-11.2.1.3 nvidia-curand-cu12-10.3.5.147 nvidia-cusolver-cu12-11.6.1.9 nvidia-cusparse-cu12-12.3.1.170 nvidia-nvjitlink-cu12-12.4.127\n",
            "Requirement already satisfied: peft in /usr/local/lib/python3.11/dist-packages (0.14.0)\n",
            "Requirement already satisfied: numpy>=1.17 in /usr/local/lib/python3.11/dist-packages (from peft) (2.0.2)\n",
            "Requirement already satisfied: packaging>=20.0 in /usr/local/lib/python3.11/dist-packages (from peft) (24.2)\n",
            "Requirement already satisfied: psutil in /usr/local/lib/python3.11/dist-packages (from peft) (5.9.5)\n",
            "Requirement already satisfied: pyyaml in /usr/local/lib/python3.11/dist-packages (from peft) (6.0.2)\n",
            "Requirement already satisfied: torch>=1.13.0 in /usr/local/lib/python3.11/dist-packages (from peft) (2.6.0+cu124)\n",
            "Requirement already satisfied: transformers in /usr/local/lib/python3.11/dist-packages (from peft) (4.46.2)\n",
            "Requirement already satisfied: tqdm in /usr/local/lib/python3.11/dist-packages (from peft) (4.67.1)\n",
            "Requirement already satisfied: accelerate>=0.21.0 in /usr/local/lib/python3.11/dist-packages (from peft) (1.5.2)\n",
            "Requirement already satisfied: safetensors in /usr/local/lib/python3.11/dist-packages (from peft) (0.5.3)\n",
            "Requirement already satisfied: huggingface-hub>=0.25.0 in /usr/local/lib/python3.11/dist-packages (from peft) (0.30.2)\n",
            "Requirement already satisfied: filelock in /usr/local/lib/python3.11/dist-packages (from huggingface-hub>=0.25.0->peft) (3.18.0)\n",
            "Requirement already satisfied: fsspec>=2023.5.0 in /usr/local/lib/python3.11/dist-packages (from huggingface-hub>=0.25.0->peft) (2024.12.0)\n",
            "Requirement already satisfied: requests in /usr/local/lib/python3.11/dist-packages (from huggingface-hub>=0.25.0->peft) (2.32.3)\n",
            "Requirement already satisfied: typing-extensions>=3.7.4.3 in /usr/local/lib/python3.11/dist-packages (from huggingface-hub>=0.25.0->peft) (4.13.1)\n",
            "Requirement already satisfied: networkx in /usr/local/lib/python3.11/dist-packages (from torch>=1.13.0->peft) (3.4.2)\n",
            "Requirement already satisfied: jinja2 in /usr/local/lib/python3.11/dist-packages (from torch>=1.13.0->peft) (3.1.6)\n",
            "Requirement already satisfied: nvidia-cuda-nvrtc-cu12==12.4.127 in /usr/local/lib/python3.11/dist-packages (from torch>=1.13.0->peft) (12.4.127)\n",
            "Requirement already satisfied: nvidia-cuda-runtime-cu12==12.4.127 in /usr/local/lib/python3.11/dist-packages (from torch>=1.13.0->peft) (12.4.127)\n",
            "Requirement already satisfied: nvidia-cuda-cupti-cu12==12.4.127 in /usr/local/lib/python3.11/dist-packages (from torch>=1.13.0->peft) (12.4.127)\n",
            "Requirement already satisfied: nvidia-cudnn-cu12==9.1.0.70 in /usr/local/lib/python3.11/dist-packages (from torch>=1.13.0->peft) (9.1.0.70)\n",
            "Requirement already satisfied: nvidia-cublas-cu12==12.4.5.8 in /usr/local/lib/python3.11/dist-packages (from torch>=1.13.0->peft) (12.4.5.8)\n",
            "Requirement already satisfied: nvidia-cufft-cu12==11.2.1.3 in /usr/local/lib/python3.11/dist-packages (from torch>=1.13.0->peft) (11.2.1.3)\n",
            "Requirement already satisfied: nvidia-curand-cu12==10.3.5.147 in /usr/local/lib/python3.11/dist-packages (from torch>=1.13.0->peft) (10.3.5.147)\n",
            "Requirement already satisfied: nvidia-cusolver-cu12==11.6.1.9 in /usr/local/lib/python3.11/dist-packages (from torch>=1.13.0->peft) (11.6.1.9)\n",
            "Requirement already satisfied: nvidia-cusparse-cu12==12.3.1.170 in /usr/local/lib/python3.11/dist-packages (from torch>=1.13.0->peft) (12.3.1.170)\n",
            "Requirement already satisfied: nvidia-cusparselt-cu12==0.6.2 in /usr/local/lib/python3.11/dist-packages (from torch>=1.13.0->peft) (0.6.2)\n",
            "Requirement already satisfied: nvidia-nccl-cu12==2.21.5 in /usr/local/lib/python3.11/dist-packages (from torch>=1.13.0->peft) (2.21.5)\n",
            "Requirement already satisfied: nvidia-nvtx-cu12==12.4.127 in /usr/local/lib/python3.11/dist-packages (from torch>=1.13.0->peft) (12.4.127)\n",
            "Requirement already satisfied: nvidia-nvjitlink-cu12==12.4.127 in /usr/local/lib/python3.11/dist-packages (from torch>=1.13.0->peft) (12.4.127)\n",
            "Requirement already satisfied: triton==3.2.0 in /usr/local/lib/python3.11/dist-packages (from torch>=1.13.0->peft) (3.2.0)\n",
            "Requirement already satisfied: sympy==1.13.1 in /usr/local/lib/python3.11/dist-packages (from torch>=1.13.0->peft) (1.13.1)\n",
            "Requirement already satisfied: mpmath<1.4,>=1.1.0 in /usr/local/lib/python3.11/dist-packages (from sympy==1.13.1->torch>=1.13.0->peft) (1.3.0)\n",
            "Requirement already satisfied: regex!=2019.12.17 in /usr/local/lib/python3.11/dist-packages (from transformers->peft) (2024.11.6)\n",
            "Requirement already satisfied: tokenizers<0.21,>=0.20 in /usr/local/lib/python3.11/dist-packages (from transformers->peft) (0.20.3)\n",
            "Requirement already satisfied: MarkupSafe>=2.0 in /usr/local/lib/python3.11/dist-packages (from jinja2->torch>=1.13.0->peft) (3.0.2)\n",
            "Requirement already satisfied: charset-normalizer<4,>=2 in /usr/local/lib/python3.11/dist-packages (from requests->huggingface-hub>=0.25.0->peft) (3.4.1)\n",
            "Requirement already satisfied: idna<4,>=2.5 in /usr/local/lib/python3.11/dist-packages (from requests->huggingface-hub>=0.25.0->peft) (3.10)\n",
            "Requirement already satisfied: urllib3<3,>=1.21.1 in /usr/local/lib/python3.11/dist-packages (from requests->huggingface-hub>=0.25.0->peft) (2.3.0)\n",
            "Requirement already satisfied: certifi>=2017.4.17 in /usr/local/lib/python3.11/dist-packages (from requests->huggingface-hub>=0.25.0->peft) (2025.1.31)\n",
            "Requirement already satisfied: tf-keras in /usr/local/lib/python3.11/dist-packages (2.18.0)\n",
            "Requirement already satisfied: tensorflow<2.19,>=2.18 in /usr/local/lib/python3.11/dist-packages (from tf-keras) (2.18.0)\n",
            "Requirement already satisfied: absl-py>=1.0.0 in /usr/local/lib/python3.11/dist-packages (from tensorflow<2.19,>=2.18->tf-keras) (1.4.0)\n",
            "Requirement already satisfied: astunparse>=1.6.0 in /usr/local/lib/python3.11/dist-packages (from tensorflow<2.19,>=2.18->tf-keras) (1.6.3)\n",
            "Requirement already satisfied: flatbuffers>=24.3.25 in /usr/local/lib/python3.11/dist-packages (from tensorflow<2.19,>=2.18->tf-keras) (25.2.10)\n",
            "Requirement already satisfied: gast!=0.5.0,!=0.5.1,!=0.5.2,>=0.2.1 in /usr/local/lib/python3.11/dist-packages (from tensorflow<2.19,>=2.18->tf-keras) (0.6.0)\n",
            "Requirement already satisfied: google-pasta>=0.1.1 in /usr/local/lib/python3.11/dist-packages (from tensorflow<2.19,>=2.18->tf-keras) (0.2.0)\n",
            "Requirement already satisfied: libclang>=13.0.0 in /usr/local/lib/python3.11/dist-packages (from tensorflow<2.19,>=2.18->tf-keras) (18.1.1)\n",
            "Requirement already satisfied: opt-einsum>=2.3.2 in /usr/local/lib/python3.11/dist-packages (from tensorflow<2.19,>=2.18->tf-keras) (3.4.0)\n",
            "Requirement already satisfied: packaging in /usr/local/lib/python3.11/dist-packages (from tensorflow<2.19,>=2.18->tf-keras) (24.2)\n",
            "Requirement already satisfied: protobuf!=4.21.0,!=4.21.1,!=4.21.2,!=4.21.3,!=4.21.4,!=4.21.5,<6.0.0dev,>=3.20.3 in /usr/local/lib/python3.11/dist-packages (from tensorflow<2.19,>=2.18->tf-keras) (5.29.4)\n",
            "Requirement already satisfied: requests<3,>=2.21.0 in /usr/local/lib/python3.11/dist-packages (from tensorflow<2.19,>=2.18->tf-keras) (2.32.3)\n",
            "Requirement already satisfied: setuptools in /usr/local/lib/python3.11/dist-packages (from tensorflow<2.19,>=2.18->tf-keras) (75.2.0)\n",
            "Requirement already satisfied: six>=1.12.0 in /usr/local/lib/python3.11/dist-packages (from tensorflow<2.19,>=2.18->tf-keras) (1.17.0)\n",
            "Requirement already satisfied: termcolor>=1.1.0 in /usr/local/lib/python3.11/dist-packages (from tensorflow<2.19,>=2.18->tf-keras) (3.0.1)\n",
            "Requirement already satisfied: typing-extensions>=3.6.6 in /usr/local/lib/python3.11/dist-packages (from tensorflow<2.19,>=2.18->tf-keras) (4.13.1)\n",
            "Requirement already satisfied: wrapt>=1.11.0 in /usr/local/lib/python3.11/dist-packages (from tensorflow<2.19,>=2.18->tf-keras) (1.17.2)\n",
            "Requirement already satisfied: grpcio<2.0,>=1.24.3 in /usr/local/lib/python3.11/dist-packages (from tensorflow<2.19,>=2.18->tf-keras) (1.71.0)\n",
            "Requirement already satisfied: tensorboard<2.19,>=2.18 in /usr/local/lib/python3.11/dist-packages (from tensorflow<2.19,>=2.18->tf-keras) (2.18.0)\n",
            "Requirement already satisfied: keras>=3.5.0 in /usr/local/lib/python3.11/dist-packages (from tensorflow<2.19,>=2.18->tf-keras) (3.8.0)\n",
            "Requirement already satisfied: numpy<2.1.0,>=1.26.0 in /usr/local/lib/python3.11/dist-packages (from tensorflow<2.19,>=2.18->tf-keras) (2.0.2)\n",
            "Requirement already satisfied: h5py>=3.11.0 in /usr/local/lib/python3.11/dist-packages (from tensorflow<2.19,>=2.18->tf-keras) (3.13.0)\n",
            "Requirement already satisfied: ml-dtypes<0.5.0,>=0.4.0 in /usr/local/lib/python3.11/dist-packages (from tensorflow<2.19,>=2.18->tf-keras) (0.4.1)\n",
            "Requirement already satisfied: tensorflow-io-gcs-filesystem>=0.23.1 in /usr/local/lib/python3.11/dist-packages (from tensorflow<2.19,>=2.18->tf-keras) (0.37.1)\n",
            "Requirement already satisfied: wheel<1.0,>=0.23.0 in /usr/local/lib/python3.11/dist-packages (from astunparse>=1.6.0->tensorflow<2.19,>=2.18->tf-keras) (0.45.1)\n",
            "Requirement already satisfied: rich in /usr/local/lib/python3.11/dist-packages (from keras>=3.5.0->tensorflow<2.19,>=2.18->tf-keras) (13.9.4)\n",
            "Requirement already satisfied: namex in /usr/local/lib/python3.11/dist-packages (from keras>=3.5.0->tensorflow<2.19,>=2.18->tf-keras) (0.0.8)\n",
            "Requirement already satisfied: optree in /usr/local/lib/python3.11/dist-packages (from keras>=3.5.0->tensorflow<2.19,>=2.18->tf-keras) (0.15.0)\n",
            "Requirement already satisfied: charset-normalizer<4,>=2 in /usr/local/lib/python3.11/dist-packages (from requests<3,>=2.21.0->tensorflow<2.19,>=2.18->tf-keras) (3.4.1)\n",
            "Requirement already satisfied: idna<4,>=2.5 in /usr/local/lib/python3.11/dist-packages (from requests<3,>=2.21.0->tensorflow<2.19,>=2.18->tf-keras) (3.10)\n",
            "Requirement already satisfied: urllib3<3,>=1.21.1 in /usr/local/lib/python3.11/dist-packages (from requests<3,>=2.21.0->tensorflow<2.19,>=2.18->tf-keras) (2.3.0)\n",
            "Requirement already satisfied: certifi>=2017.4.17 in /usr/local/lib/python3.11/dist-packages (from requests<3,>=2.21.0->tensorflow<2.19,>=2.18->tf-keras) (2025.1.31)\n",
            "Requirement already satisfied: markdown>=2.6.8 in /usr/local/lib/python3.11/dist-packages (from tensorboard<2.19,>=2.18->tensorflow<2.19,>=2.18->tf-keras) (3.7)\n",
            "Requirement already satisfied: tensorboard-data-server<0.8.0,>=0.7.0 in /usr/local/lib/python3.11/dist-packages (from tensorboard<2.19,>=2.18->tensorflow<2.19,>=2.18->tf-keras) (0.7.2)\n",
            "Requirement already satisfied: werkzeug>=1.0.1 in /usr/local/lib/python3.11/dist-packages (from tensorboard<2.19,>=2.18->tensorflow<2.19,>=2.18->tf-keras) (3.1.3)\n",
            "Requirement already satisfied: MarkupSafe>=2.1.1 in /usr/local/lib/python3.11/dist-packages (from werkzeug>=1.0.1->tensorboard<2.19,>=2.18->tensorflow<2.19,>=2.18->tf-keras) (3.0.2)\n",
            "Requirement already satisfied: markdown-it-py>=2.2.0 in /usr/local/lib/python3.11/dist-packages (from rich->keras>=3.5.0->tensorflow<2.19,>=2.18->tf-keras) (3.0.0)\n",
            "Requirement already satisfied: pygments<3.0.0,>=2.13.0 in /usr/local/lib/python3.11/dist-packages (from rich->keras>=3.5.0->tensorflow<2.19,>=2.18->tf-keras) (2.18.0)\n",
            "Requirement already satisfied: mdurl~=0.1 in /usr/local/lib/python3.11/dist-packages (from markdown-it-py>=2.2.0->rich->keras>=3.5.0->tensorflow<2.19,>=2.18->tf-keras) (0.1.2)\n"
          ]
        }
      ],
      "source": [
        "!pip install datasets\n",
        "!pip install transformers==4.46.2\n",
        "!pip install absl-py nltk rouge-score\n",
        "!pip install evaluate\n",
        "!pip install bert_score\n",
        "!pip install peft\n",
        "!pip install tf-keras"
      ]
    },
    {
      "cell_type": "code",
      "source": [
        "import torch\n",
        "device = torch.device(\"cuda\" if torch.cuda.is_available() else \"cpu\")"
      ],
      "metadata": {
        "id": "oLlVoJhdWURa"
      },
      "id": "oLlVoJhdWURa",
      "execution_count": 3,
      "outputs": []
    },
    {
      "cell_type": "markdown",
      "source": [
        "To download the LLaMA model, obtain an access token from Hugging Face and log in using the following code:"
      ],
      "metadata": {
        "id": "LrPuw_U-US9c"
      },
      "id": "LrPuw_U-US9c"
    },
    {
      "cell_type": "code",
      "execution_count": null,
      "id": "8814fd8d-9ed3-4698-a58f-434081d4bdab",
      "metadata": {
        "id": "8814fd8d-9ed3-4698-a58f-434081d4bdab"
      },
      "outputs": [],
      "source": [
        "from huggingface_hub import notebook_login\n",
        "notebook_login()"
      ]
    },
    {
      "cell_type": "markdown",
      "source": [
        "# Step 1: Prepare the data loader for batch generation (10pt)"
      ],
      "metadata": {
        "id": "sLyIrMd1VjkZ"
      },
      "id": "sLyIrMd1VjkZ"
    },
    {
      "cell_type": "code",
      "execution_count": null,
      "id": "eba6e624-570d-44ec-b608-d6b7f8e35f4c",
      "metadata": {
        "id": "eba6e624-570d-44ec-b608-d6b7f8e35f4c"
      },
      "outputs": [],
      "source": [
        "# load dataset\n",
        "from datasets import Dataset, load_dataset\n",
        "eval_filename='eval_dataset.json'\n",
        "eval_dataset = load_dataset(\"json\",data_files=eval_filename)['train']"
      ]
    },
    {
      "cell_type": "code",
      "execution_count": null,
      "id": "6d1ac228-c806-4a55-833f-ef6cf4e76b3f",
      "metadata": {
        "id": "6d1ac228-c806-4a55-833f-ef6cf4e76b3f"
      },
      "outputs": [],
      "source": [
        "# tokenize data\n",
        "def tokenize_prompts(dataset, tokenizer, max_length=512):\n",
        "    def tokenize(example):\n",
        "        return tokenizer(\n",
        "            example[\"prompt\"],\n",
        "            truncation=True,\n",
        "            max_length=max_length,\n",
        "        )\n",
        "    return dataset.map(tokenize, batched=True)"
      ]
    },
    {
      "cell_type": "markdown",
      "source": [
        "The following function returns a DataLoader that yields batches of size [batch_size], with each example padded to match the length of the longest example in the batch."
      ],
      "metadata": {
        "id": "sjYnZ03hgCrI"
      },
      "id": "sjYnZ03hgCrI"
    },
    {
      "cell_type": "code",
      "execution_count": null,
      "id": "2bcde94d-4444-4419-9119-608e52becc22",
      "metadata": {
        "id": "2bcde94d-4444-4419-9119-608e52becc22"
      },
      "outputs": [],
      "source": [
        "# wrap dataset with dataloader for batch inference\n",
        "from transformers import DataCollatorWithPadding\n",
        "from torch.utils.data import DataLoader\n",
        "def create_dataloader(tokenized_dataset, tokenizer, batch_size=8):\n",
        "    # your code begins\n",
        "\n",
        "    # your code ends"
      ]
    },
    {
      "cell_type": "code",
      "source": [
        "# test if your data loader is successfully created\n",
        "# Don't change the code below:\n",
        "from transformers import AutoTokenizer\n",
        "model_id = \"meta-llama/Llama-3.2-1B\"\n",
        "tokenizer = AutoTokenizer.from_pretrained(model_id)\n",
        "tokenized_eval_dataset = tokenize_prompts(eval_dataset, tokenizer)\n",
        "eval_dataloader = create_dataloader(tokenized_eval_dataset, tokenizer, batch_size=8)\n",
        "total_examples = 0\n",
        "total_batches = len(eval_dataloader)\n",
        "for i, batch in enumerate(eval_dataloader):\n",
        "    if i != total_batches - 1:\n",
        "      assert batch[\"input_ids\"].shape[0] == 8\n",
        "      assert batch[\"attention_mask\"].shape[0] == 8\n",
        "    total_examples += batch[\"input_ids\"].shape[0]\n",
        "assert total_examples == len(eval_dataset)\n",
        "print(\"Dataloader successfully created! well done!\")\n",
        "# Don't change the code above"
      ],
      "metadata": {
        "id": "Gi7a8WrCWU9D"
      },
      "id": "Gi7a8WrCWU9D",
      "execution_count": null,
      "outputs": []
    },
    {
      "cell_type": "markdown",
      "source": [
        "# Step 2: Run batch inference (10pt)"
      ],
      "metadata": {
        "id": "UkyyejU0VDct"
      },
      "id": "UkyyejU0VDct"
    },
    {
      "cell_type": "code",
      "execution_count": null,
      "id": "c9d3453d-49b3-4130-b3c7-970e8698e074",
      "metadata": {
        "id": "c9d3453d-49b3-4130-b3c7-970e8698e074",
        "collapsed": true
      },
      "outputs": [],
      "source": [
        "# Don't edit this cell\n",
        "from transformers import AutoModelForCausalLM, AutoTokenizer\n",
        "model = AutoModelForCausalLM.from_pretrained(model_id)\n",
        "model = model.to(device)"
      ]
    },
    {
      "cell_type": "markdown",
      "source": [
        "The following function will return a list of generated responses in natural language corresponding to the input examples."
      ],
      "metadata": {
        "id": "FHJ1-l1IhsiS"
      },
      "id": "FHJ1-l1IhsiS"
    },
    {
      "cell_type": "code",
      "execution_count": null,
      "id": "3d9466f9-2a61-4d1f-9767-a2833e1a88e0",
      "metadata": {
        "id": "3d9466f9-2a61-4d1f-9767-a2833e1a88e0"
      },
      "outputs": [],
      "source": [
        "# Run inference\n",
        "from typing import List\n",
        "def generate_batch_responses(input_ids, attention_mask, model, tokenizer, max_new_tokens=64) -> List[str]:\n",
        "    # your code begins\n",
        "\n",
        "    # your code ends"
      ]
    },
    {
      "cell_type": "code",
      "execution_count": null,
      "id": "fac94a6a-ae92-43b2-a63e-20373bdd7204",
      "metadata": {
        "id": "fac94a6a-ae92-43b2-a63e-20373bdd7204"
      },
      "outputs": [],
      "source": [
        "# Don't edit this cell.\n",
        "from tqdm import tqdm\n",
        "predictions = []\n",
        "references = [example[\"response\"].strip() for example in eval_dataset]\n",
        "\n",
        "for batch in tqdm(eval_dataloader):\n",
        "    input_ids = batch[\"input_ids\"]\n",
        "    attention_mask = batch[\"attention_mask\"]\n",
        "\n",
        "    batch_outputs = generate_batch_responses(\n",
        "        input_ids, attention_mask, model, tokenizer\n",
        "    )\n",
        "\n",
        "    predictions.extend(batch_outputs)"
      ]
    },
    {
      "cell_type": "markdown",
      "source": [
        "Let's evaluate the result:"
      ],
      "metadata": {
        "id": "RO0IY5dfYu8C"
      },
      "id": "RO0IY5dfYu8C"
    },
    {
      "cell_type": "code",
      "execution_count": null,
      "id": "0c44bc4a-6435-4a54-a4e5-8484f2847774",
      "metadata": {
        "id": "0c44bc4a-6435-4a54-a4e5-8484f2847774"
      },
      "outputs": [],
      "source": [
        "# Don't edit this cell.\n",
        "# the meaning of these metrics:\n",
        "# bleu and rouge: https://avinashselvam.medium.com/llm-evaluation-metrics-bleu-rogue-and-meteor-explained-a5d2b129e87f\n",
        "# bertscore: https://medium.com/@abonia/bertscore-explained-in-5-minutes-0b98553bfb71\n",
        "\n",
        "import evaluate  # 🤗 evaluate library\n",
        "bleu = evaluate.load(\"bleu\")\n",
        "rouge = evaluate.load(\"rouge\")\n",
        "bertscore = evaluate.load(\"bertscore\")"
      ]
    },
    {
      "cell_type": "code",
      "execution_count": null,
      "id": "eab68edb-d1f2-4899-9060-df407bb604f7",
      "metadata": {
        "id": "eab68edb-d1f2-4899-9060-df407bb604f7"
      },
      "outputs": [],
      "source": [
        "# Don't edit this cell.\n",
        "bleu_result = bleu.compute(predictions=predictions, references=[[r] for r in references])\n",
        "rouge_result = rouge.compute(predictions=predictions, references=references)\n",
        "bertscore_result = bertscore.compute(predictions=predictions, references=references, lang=\"en\")\n",
        "print(f\"BLEU: {bleu_result['bleu'] * 100:.2f}\")\n",
        "print(f\"ROUGE-L: {rouge_result['rougeL'] * 100:.2f}\")\n",
        "print(f\"BERTScore (F1): {sum(bertscore_result['f1']) / len(bertscore_result['f1']) * 100:.2f}\")"
      ]
    },
    {
      "cell_type": "markdown",
      "source": [
        "# Step 3: Instruction tuning of the base model (30pt)"
      ],
      "metadata": {
        "id": "etDrGOlTZWOc"
      },
      "id": "etDrGOlTZWOc"
    },
    {
      "cell_type": "markdown",
      "source": [
        "You will use the provided train_dataset to perform instruction fine-tuning on the base LLaMA model.\n",
        "\n",
        "Requirements:\n",
        "\n",
        "1. Fine-tune the base model and store the result in a variable named ft_model.\n",
        "\n",
        "2. Use [LoRA](https://arxiv.org/abs/2106.09685) for efficient fine-tuning.\n",
        "Note: We will review your code logic as part of the grading.\n",
        "\n",
        "3. This is instruction fine-tuning—the model learns to generate responses based on prompts. Therefore, loss should be computed only over the response portion of the training sample.\n",
        "Again, we will check your implementation to ensure this is handled correctly.\n",
        "\n",
        "After fine-tuning, your model should show improved performance on all three evaluation metrics compared to the base model."
      ],
      "metadata": {
        "id": "4d5ta9EwimUj"
      },
      "id": "4d5ta9EwimUj"
    },
    {
      "cell_type": "code",
      "source": [
        "sft_filename='sft_dataset.json'\n",
        "train_dataset = load_dataset(\"json\", data_files=sft_filename)['train']\n",
        "\n",
        "# your code begins\n",
        "\n",
        "# your code ends"
      ],
      "metadata": {
        "id": "JuYXB54eZeb9"
      },
      "id": "JuYXB54eZeb9",
      "execution_count": null,
      "outputs": []
    },
    {
      "cell_type": "code",
      "execution_count": null,
      "id": "5897c425-0929-4b0d-90e7-5e36e9eb75d0",
      "metadata": {
        "id": "5897c425-0929-4b0d-90e7-5e36e9eb75d0"
      },
      "outputs": [],
      "source": [
        "# don't edit this cell\n",
        "from tqdm import tqdm\n",
        "predictions_finetune = []\n",
        "references = [example[\"response\"].strip() for example in eval_dataset]\n",
        "\n",
        "for batch in tqdm(eval_dataloader):\n",
        "    input_ids = batch[\"input_ids\"]\n",
        "    attention_mask = batch[\"attention_mask\"]\n",
        "\n",
        "    batch_outputs = generate_batch_responses(\n",
        "        input_ids, attention_mask, ft_model, tokenizer\n",
        "    )\n",
        "\n",
        "    predictions_finetune.extend(batch_outputs)"
      ]
    },
    {
      "cell_type": "code",
      "source": [
        "# don't edit this cell\n",
        "bleu_result_finetune = bleu.compute(predictions=predictions_finetune, references=[[r] for r in references])\n",
        "rouge_result_finetune = rouge.compute(predictions=predictions_finetune, references=references)\n",
        "bertscore_result_finetune = bertscore.compute(predictions=predictions_finetune, references=references, lang=\"en\")\n",
        "print(f\"BLEU: {bleu_result_finetune['bleu'] * 100:.2f}\")\n",
        "print(f\"ROUGE-L: {rouge_result_finetune['rougeL'] * 100:.2f}\")\n",
        "print(f\"BERTScore (F1): {sum(bertscore_result_finetune['f1']) / len(bertscore_result_finetune['f1']) * 100:.2f}\")\n",
        "\n",
        "assert bleu_result_finetune['bleu'] > bleu_result['bleu']\n",
        "assert rouge_result_finetune['rougeL'] > rouge_result['rougeL']\n",
        "assert sum(bertscore_result_finetune['f1']) / len(bertscore_result_finetune['f1']) > sum(bertscore_result['f1']) / len(bertscore_result['f1'])\n",
        "print(\"Model performance improved on all metrics! Well done!\")"
      ],
      "metadata": {
        "id": "XX9kKRan3mfd"
      },
      "id": "XX9kKRan3mfd",
      "execution_count": null,
      "outputs": []
    },
    {
      "cell_type": "markdown",
      "source": [
        "# Step 4: Serve the model and benchmark performance (20pt)"
      ],
      "metadata": {
        "id": "L_cKGDnAdilw"
      },
      "id": "L_cKGDnAdilw"
    },
    {
      "cell_type": "markdown",
      "source": [
        "After fine-tuning the model, it’s time to serve it. You have two options: serving with or without key-value (K-V) caching.\n",
        "\n",
        "You’ll investigate how K-V caching impacts memory usage and generation efficiency.\n",
        "\n",
        "**Your task:**\n",
        "\n",
        "1. Visualize the average time per generated token with and without K-V caching, as the output length varies.\n",
        "\n",
        "2. Visualize the peak GPU memory usage with and without K-V caching, as the output length varies.\n",
        "\n",
        "3. You should get some result similar to the following ones:\n",
        "![bench_partI.png](data:image/png;base64,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)\n",
        "\n",
        "\n",
        "Hint:\n",
        "Use synthetic data for benchmark. To toggle K-V caching, set the use_cache parameter in the model.generate() function."
      ],
      "metadata": {
        "id": "frZUpQfBdCMo"
      },
      "id": "frZUpQfBdCMo"
    },
    {
      "cell_type": "code",
      "source": [
        "# your code begins\n",
        "\n",
        "# your code ends"
      ],
      "metadata": {
        "id": "ZTkWuJzaqiy3"
      },
      "id": "ZTkWuJzaqiy3",
      "execution_count": null,
      "outputs": []
    }
  ],
  "metadata": {
    "kernelspec": {
      "display_name": "Python 3",
      "name": "python3"
    },
    "language_info": {
      "codemirror_mode": {
        "name": "ipython",
        "version": 3
      },
      "file_extension": ".py",
      "mimetype": "text/x-python",
      "name": "python",
      "nbconvert_exporter": "python",
      "pygments_lexer": "ipython3",
      "version": "3.11.6"
    },
    "colab": {
      "provenance": [],
      "gpuType": "A100"
    },
    "accelerator": "GPU"
  },
  "nbformat": 4,
  "nbformat_minor": 5
}