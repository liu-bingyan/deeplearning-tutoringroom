{
 "cells": [
  {
   "cell_type": "markdown",
   "metadata": {},
   "source": [
    "The naive encoder decoder doesn't not give normal latent variables, which makes generationg hard:\n",
    " - we are trying to learn the distirbution of X, latent variable only reduce the dimension, we still need to learn the latent distribution\n",
    " - consider variational inference: learn the latent distirbution as they are variational gaussian"
   ]
  },
  {
   "cell_type": "markdown",
   "metadata": {},
   "source": []
  }
 ],
 "metadata": {
  "language_info": {
   "name": "python"
  }
 },
 "nbformat": 4,
 "nbformat_minor": 2
}
