{
 "cells": [
  {
   "cell_type": "markdown",
   "metadata": {},
   "source": [
    "The naive encoder decoder doesn't not give normal latent variables, which makes generationg hard:\n",
    " - we are trying to learn the distirbution of X, latent variable only reduce the dimension, we still need to learn the latent distribution\n",
    " - consider variational inference: learn the latent distirbution as they are variational gaussian\n",
    " - let's start with mixture of gaussian"
   ]
  },
  {
   "cell_type": "code",
   "execution_count": null,
   "metadata": {
    "vscode": {
     "languageId": "plaintext"
    }
   },
   "outputs": [],
   "source": [
    "import torch\n",
    "import torchvision\n",
    "from torchvision import datasets, transforms\n",
    "\n",
    "# Define a transform to normalize the data\n",
    "transform = transforms.Compose([transforms.ToTensor(), transforms.Normalize((0.5,), (0.5,))])\n",
    "# Download and load the training data\n",
    "trainset = datasets.MNIST(root='./data', train=True, download=True, transform=transform)\n",
    "trainloader = torch.utils.data.DataLoader(trainset, batch_size=64, shuffle=True)"
   ]
  }
 ],
 "metadata": {
  "language_info": {
   "name": "python"
  }
 },
 "nbformat": 4,
 "nbformat_minor": 2
}
