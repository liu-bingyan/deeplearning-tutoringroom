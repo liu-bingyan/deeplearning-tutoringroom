{
 "cells": [
  {
   "cell_type": "markdown",
   "metadata": {},
   "source": [
    "The naive encoder decoder doesn't not give normal latent variables, which makes generationg hard:\n",
    " - we are trying to learn the distirbution of X, latent variable only reduce the dimension, we still need to learn the latent distribution\n",
    " - consider variational inference: learn the latent distirbution as they are variational gaussian\n",
    " - let's start with mixture of gaussian"
   ]
  },
  {
   "cell_type": "code",
   "execution_count": 2,
   "metadata": {},
   "outputs": [],
   "source": [
    "import torch\n"
   ]
  },
  {
   "cell_type": "code",
   "execution_count": null,
   "metadata": {},
   "outputs": [],
   "source": [
    "\n",
    "import torchvision\n",
    "from torchvision import datasets, transforms\n",
    "\n",
    "# Define a transform to normalize the data\n",
    "transform = transforms.Compose([transforms.ToTensor(), transforms.Normalize((0.5,), (0.5,))])\n",
    "# Download and load the training data\n",
    "trainset = datasets.MNIST(root='./data', train=True, download=True, transform=transform)\n",
    "trainloader = torch.utils.data.DataLoader(trainset, batch_size=64, shuffle=True)"
   ]
  },
  {
   "cell_type": "markdown",
   "metadata": {},
   "source": [
    "Traing a generateive model, we are given X, and want to learn its distribution. \n",
    "\n",
    "In (deep generative) models, need only 3 parts:\n",
    "1. model/network structure\n",
    "2. loss function\n",
    "3. optimization methods\n",
    "\n",
    "In MoE, we model the distribution of X as a linear combination of Gaussians.\n",
    "p(X) = \\Sigma_{i} \\lambda_i p_{Normal}(\\mu_i,\\sigma_i). \n",
    "The parameters to learn are the \\lambda, \\mu and \\sigma. \n",
    "As the distribution density is modeled, we can optimize the (log-)likelyhood as a target.\n",
    "\n",
    "\n",
    "Optimization can be gradient descent, can also be EM-methods."
   ]
  },
  {
   "cell_type": "code",
   "execution_count": null,
   "metadata": {},
   "outputs": [],
   "source": [
    "import numpy as np\n",
    "\n",
    "n = 10000\n",
    "d = 2\n",
    "p = 5\n",
    "Z = torch.randn(n,d,p)\n",
    "def gen_MoG_parameters(n,d,p):\n",
    "    lam = torch.tensor(np.random.dirichlet(alpha=np.ones(p)))\n",
    "    mu = torch.randn(n,d,p)\n",
    "    A = torch.randn(n,d,p,p)\n",
    "    return lam,mu,A\n",
    "\n",
    "def gen_MoG_samples(n,d,p):\n",
    "    lam,mu,A = gen_MoG_parameters(n,d,p)\n",
    "    Z = torch.randn(n,d,p)\n",
    "    gaussians = torch.einsum('ndpp,ndp->ndp', A, Z) + mu\n",
    "    samples = gaussians @\n",
    "    return samples\n"
   ]
  },
  {
   "cell_type": "code",
   "execution_count": 24,
   "metadata": {},
   "outputs": [
    {
     "data": {
      "text/plain": [
       "torch.Size([2, 3, 4])"
      ]
     },
     "execution_count": 24,
     "metadata": {},
     "output_type": "execute_result"
    }
   ],
   "source": [
    "(torch.randn(2,3,4) * torch.randn(3,4)).shape"
   ]
  },
  {
   "cell_type": "markdown",
   "metadata": {},
   "source": []
  }
 ],
 "metadata": {
  "kernelspec": {
   "display_name": "Python 3",
   "language": "python",
   "name": "python3"
  },
  "language_info": {
   "codemirror_mode": {
    "name": "ipython",
    "version": 3
   },
   "file_extension": ".py",
   "mimetype": "text/x-python",
   "name": "python",
   "nbconvert_exporter": "python",
   "pygments_lexer": "ipython3",
   "version": "3.12.0"
  }
 },
 "nbformat": 4,
 "nbformat_minor": 2
}
