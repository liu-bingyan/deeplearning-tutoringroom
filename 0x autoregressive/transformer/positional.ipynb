{
 "cells": [
  {
   "cell_type": "code",
   "execution_count": 1,
   "id": "38500820",
   "metadata": {},
   "outputs": [],
   "source": [
    "# Generate two random vectors in 1024 dimensions\n",
    "import numpy as np\n",
    "\n",
    "vector1 = np.random.rand(1024)\n",
    "vector2 = np.random.rand(1024)\n",
    "\n",
    "\n",
    "cos_distance = 1 - np.dot(vector1, vector2) / (np.linalg.norm(vector1) * np.linalg.norm(vector2))\n"
   ]
  },
  {
   "cell_type": "code",
   "execution_count": null,
   "id": "8d9c9ea0",
   "metadata": {},
   "outputs": [],
   "source": [
    "!"
   ]
  }
 ],
 "metadata": {
  "kernelspec": {
   "display_name": "Python 3",
   "language": "python",
   "name": "python3"
  },
  "language_info": {
   "codemirror_mode": {
    "name": "ipython",
    "version": 3
   },
   "file_extension": ".py",
   "mimetype": "text/x-python",
   "name": "python",
   "nbconvert_exporter": "python",
   "pygments_lexer": "ipython3",
   "version": "3.13.3"
  }
 },
 "nbformat": 4,
 "nbformat_minor": 5
}
